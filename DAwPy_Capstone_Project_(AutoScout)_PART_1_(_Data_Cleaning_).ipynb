{
  "cells": [
    {
      "cell_type": "markdown",
      "metadata": {
        "id": "view-in-github",
        "colab_type": "text"
      },
      "source": [
        "<a href=\"https://colab.research.google.com/github/tnrcelik/Capstone-project/blob/main/DAwPy_Capstone_Project_(AutoScout)_PART_1_(_Data_Cleaning_).ipynb\" target=\"_parent\"><img src=\"https://colab.research.google.com/assets/colab-badge.svg\" alt=\"Open In Colab\"/></a>"
      ]
    },
    {
      "cell_type": "markdown",
      "metadata": {
        "id": "Bv1I7_aas1L3"
      },
      "source": [
        "___\n",
        "\n",
        "<p style=\"text-align: center;\"><img src=\"https://docs.google.com/uc?id=1lY0Uj5R04yMY3-ZppPWxqCr5pvBLYPnV\" class=\"img-fluid\" \n",
        "alt=\"CLRSWY\"></p>\n",
        "\n",
        "## <p style=\"background-color:#FDFEFE; font-family:newtimeroman; color:#9d4f8c; font-size:100%; text-align:center; border-radius:10px 10px;\">WAY TO REINVENT YOURSELF</p>"
      ]
    },
    {
      "cell_type": "markdown",
      "metadata": {
        "id": "Bkw3_pB0s1L-"
      },
      "source": [
        "<img src=https://i.ibb.co/wJW61Y2/Used-cars.jpg width=\"700\" height=\"200\">\n",
        "\n",
        "## <p style=\"background-color:#FDFEFE; font-family:newtimeroman; color:#060108; font-size:200%; text-align:center; border-radius:10px 10px;\">The Capstone Project of Data Analytics Module</p>\n",
        "\n",
        "## <p style=\"background-color:#FDFEFE; font-family:newtimeroman; color:#060108; font-size:150%; text-align:center; border-radius:10px 10px;\">Car Price Prediction EDA</p>"
      ]
    },
    {
      "cell_type": "markdown",
      "metadata": {
        "id": "Z_oWczxZs1MA"
      },
      "source": [
        "## Introduction\n",
        "Welcome to \"***AutoScout Data Analysis Project***\". This is the capstone project of ***Data Analysis*** Module. **Auto Scout** data which using for this project, scraped from the on-line car trading company in 2019, contains many features of 9 different car models. In this project, you will have the opportunity to apply many commonly used algorithms for Data Cleaning and Exploratory Data Analysis by using many Python libraries such as Numpy, Pandas, Matplotlib, Seaborn, Scipy you will analyze clean dataset.\n",
        "\n",
        "### Some Reminders on Exploratory data analysis (EDA)\n",
        "\n",
        "Exploratory data analysis (EDA) is an especially important activity in the routine of a data analyst or scientist. It enables an in depth understanding of the dataset, define or discard hypotheses and create predictive models on a solid basis. It uses data manipulation techniques and several statistical tools to describe and understand the relationship between variables and how these can impact business. By means of EDA, we can obtain meaningful insights that can impact analysis under the following questions (If a checklist is good enough for pilots to use every flight, it’s good enough for data scientists to use with every dataset).\n",
        "1. What question are you trying to solve (or prove wrong)?\n",
        "2. What kind of data do you have?\n",
        "3. What’s missing from the data?\n",
        "4. Where are the outliers?\n",
        "5. How can you add, change or remove features to get more out of your data?\n",
        "\n",
        "**``Exploratory data analysis (EDA)``** is often an **iterative brainstorming process** where you pose a question, review the data, and develop further questions to investigate before beginning model development work. The image below shows how the brainstorming phase is connected with that of understanding the variables and how this in turn is connected again with the brainstorming phase.<br>\n",
        "\n",
        "<img src=https://i.ibb.co/k0MC950/EDA-Process.png width=\"300\" height=\"100\">\n",
        "\n",
        "[Image Credit: Andrew D.](https://towardsdatascience.com/exploratory-data-analysis-in-python-a-step-by-step-process-d0dfa6bf94ee)\n",
        "\n",
        "**``In this context, the project consists of 3 parts in general:``**\n",
        "* **The first part** is related to 'Data Cleaning'. It deals with Incorrect Headers, Incorrect Format, Anomalies, and Dropping useless columns.\n",
        "* **The second part** is related to 'Filling Data', in other words 'Imputation'. It deals with Missing Values. Categorical to numeric transformation is done as well.\n",
        "* **The third part** is related to 'Handling Outliers of Data' via Visualization libraries. So, some insights will be extracted.\n",
        "\n",
        "**``NOTE:``**  However, you are free to create your own style. You do NOT have to stick to the steps above. We, the DA & DV instructors, recommend you study each part separately to create a source notebook for each part title for your further studies. "
      ]
    },
    {
      "cell_type": "markdown",
      "metadata": {
        "id": "vvgJ5KWTs1MB"
      },
      "source": [
        "# PART- 1 `( Data Cleaning )`"
      ]
    },
    {
      "cell_type": "code",
      "execution_count": null,
      "metadata": {
        "id": "Y13_gId7s1MC",
        "colab": {
          "base_uri": "https://localhost:8080/"
        },
        "outputId": "e0e4a3a1-b4d4-43f2-fcc5-ba060551e8e8"
      },
      "outputs": [
        {
          "output_type": "stream",
          "name": "stdout",
          "text": [
            "Looking in indexes: https://pypi.org/simple, https://us-python.pkg.dev/colab-wheels/public/simple/\n",
            "Requirement already satisfied: skimpy in /root/.local/lib/python3.7/site-packages (0.0.5)\n",
            "Requirement already satisfied: click==7.1.2 in /usr/local/lib/python3.7/dist-packages (from skimpy) (7.1.2)\n",
            "Requirement already satisfied: rich<11.0.0,>=10.9.0 in /root/.local/lib/python3.7/site-packages (from skimpy) (10.16.2)\n",
            "Requirement already satisfied: pandas<2.0.0,>=1.3.2 in /usr/local/lib/python3.7/dist-packages (from skimpy) (1.3.5)\n",
            "Requirement already satisfied: Pygments<3.0.0,>=2.10.0 in /root/.local/lib/python3.7/site-packages (from skimpy) (2.12.0)\n",
            "Requirement already satisfied: typeguard<3.0.0,>=2.12.1 in /root/.local/lib/python3.7/site-packages (from skimpy) (2.13.3)\n",
            "Requirement already satisfied: pytz>=2017.3 in /usr/local/lib/python3.7/dist-packages (from pandas<2.0.0,>=1.3.2->skimpy) (2022.1)\n",
            "Requirement already satisfied: python-dateutil>=2.7.3 in /usr/local/lib/python3.7/dist-packages (from pandas<2.0.0,>=1.3.2->skimpy) (2.8.2)\n",
            "Requirement already satisfied: numpy>=1.17.3 in /usr/local/lib/python3.7/dist-packages (from pandas<2.0.0,>=1.3.2->skimpy) (1.21.6)\n",
            "Requirement already satisfied: six>=1.5 in /usr/local/lib/python3.7/dist-packages (from python-dateutil>=2.7.3->pandas<2.0.0,>=1.3.2->skimpy) (1.15.0)\n",
            "Requirement already satisfied: typing-extensions<5.0,>=3.7.4 in /usr/local/lib/python3.7/dist-packages (from rich<11.0.0,>=10.9.0->skimpy) (4.1.1)\n",
            "Requirement already satisfied: colorama<0.5.0,>=0.4.0 in /root/.local/lib/python3.7/site-packages (from rich<11.0.0,>=10.9.0->skimpy) (0.4.5)\n",
            "Requirement already satisfied: commonmark<0.10.0,>=0.9.0 in /root/.local/lib/python3.7/site-packages (from rich<11.0.0,>=10.9.0->skimpy) (0.9.1)\n"
          ]
        }
      ],
      "source": [
        "pip install skimpy --user"
      ]
    },
    {
      "cell_type": "code",
      "source": [
        "import numpy as np\n",
        "import pandas as pd\n",
        "import seaborn as sns \n",
        "import matplotlib.pyplot as plt\n",
        "#from skimpy import clean_columns\n",
        "\n",
        "import warnings\n",
        "warnings.filterwarnings(\"ignore\")\n",
        "warnings.warn(\"this will not show\")\n",
        "\n",
        "%matplotlib inline\n",
        "# %matplotlib notebook\n",
        "\n",
        "plt.rcParams[\"figure.figsize\"] = (10,6)\n",
        "# plt.rcParams['figure.dpi'] = 100\n",
        "\n",
        "sns.set_style(\"whitegrid\")\n",
        "pd.set_option('display.float_format', lambda x: '%.2f' % x)\n",
        "\n",
        "pd.options.display.max_rows = 100\n",
        "pd.options.display.max_columns = 100"
      ],
      "metadata": {
        "id": "ByeY2yb9CIOa"
      },
      "execution_count": null,
      "outputs": []
    },
    {
      "cell_type": "code",
      "source": [
        "df = pd.read_json(\"/content/scout_car.json\", lines=True)\n",
        "\n",
        "\n"
      ],
      "metadata": {
        "id": "eQQsNL8UCISD"
      },
      "execution_count": null,
      "outputs": []
    },
    {
      "cell_type": "code",
      "source": [
        "df.head(3).T"
      ],
      "metadata": {
        "colab": {
          "base_uri": "https://localhost:8080/",
          "height": 1000
        },
        "id": "j6tG4i8OCIVe",
        "outputId": "246eb721-e245-40fe-b7f9-4aef562e464e"
      },
      "execution_count": null,
      "outputs": [
        {
          "output_type": "execute_result",
          "data": {
            "text/plain": [
              "                                                                               0  \\\n",
              "url                            https://www.autoscout24.com//offers/audi-a1-sp...   \n",
              "make_model                                                               Audi A1   \n",
              "short_description                    Sportback 1.4 TDI S-tronic Xenon Navi Klima   \n",
              "body_type                                                                 Sedans   \n",
              "price                                                                      15770   \n",
              "vat                                                               VAT deductible   \n",
              "km                                                                     56,013 km   \n",
              "registration                                                             01/2016   \n",
              "prev_owner                                                     2 previous owners   \n",
              "kW                                                                           NaN   \n",
              "hp                                                                         66 kW   \n",
              "Type                                     [, Used, , Diesel (Particulate Filter)]   \n",
              "Previous Owners                                                            \\n2\\n   \n",
              "Next Inspection                            [\\n06/2021\\n, \\n99 g CO2/km (comb)\\n]   \n",
              "Inspection new                                             [\\nYes\\n, \\nEuro 6\\n]   \n",
              "Warranty                                                 [\\n, \\n, \\n4 (Green)\\n]   \n",
              "Full Service                                                            [\\n, \\n]   \n",
              "Non-smoking Vehicle                                                     [\\n, \\n]   \n",
              "null                                                                          []   \n",
              "Make                                                                    \\nAudi\\n   \n",
              "Model                                                               [\\n, A1, \\n]   \n",
              "Offer Number                                                     [\\nLR-062483\\n]   \n",
              "First Registration                                                [\\n, 2016, \\n]   \n",
              "Body Color                                                       [\\n, Black, \\n]   \n",
              "Paint Type                                                        [\\nMetallic\\n]   \n",
              "Body Color Original                                          [\\nMythosschwarz\\n]   \n",
              "Upholstery                                                    [\\nCloth, Black\\n]   \n",
              "Body                                                            [\\n, Sedans, \\n]   \n",
              "Nr. of Doors                                                             [\\n5\\n]   \n",
              "Nr. of Seats                                                             [\\n5\\n]   \n",
              "Model Code                                                        [\\n0588/BDF\\n]   \n",
              "Gearing Type                                                 [\\n, Automatic, \\n]   \n",
              "Displacement                                                      [\\n1,422 cc\\n]   \n",
              "Cylinders                                                                [\\n3\\n]   \n",
              "Weight                                                            [\\n1,220 kg\\n]   \n",
              "Drive chain                                                          [\\nfront\\n]   \n",
              "Fuel                                       [\\n, Diesel (Particulate Filter), \\n]   \n",
              "Consumption                    [[3.8 l/100 km (comb)], [4.3 l/100 km (city)],...   \n",
              "CO2 Emission                                            [\\n99 g CO2/km (comb)\\n]   \n",
              "Emission Class                                                      [\\nEuro 6\\n]   \n",
              "\\nComfort & Convenience\\n      [Air conditioning, Armrest, Automatic climate ...   \n",
              "\\nEntertainment & Media\\n      [Bluetooth, Hands-free equipment, On-board com...   \n",
              "\\nExtras\\n                     [Alloy wheels, Catalytic Converter, Voice Cont...   \n",
              "\\nSafety & Security\\n          [ABS, Central door lock, Daytime running light...   \n",
              "description                    [\\n, Sicherheit:,  , Deaktivierung für Beifahr...   \n",
              "Emission Label                                                               NaN   \n",
              "Gears                                                                        NaN   \n",
              "Country version                                                              NaN   \n",
              "Electricity consumption                                                      NaN   \n",
              "Last Service Date                                                            NaN   \n",
              "Other Fuel Types                                                             NaN   \n",
              "Availability                                                                 NaN   \n",
              "Last Timing Belt Service Date                                                NaN   \n",
              "Available from                                                               NaN   \n",
              "\n",
              "                                                                               1  \\\n",
              "url                            https://www.autoscout24.com//offers/audi-a1-1-...   \n",
              "make_model                                                               Audi A1   \n",
              "short_description                                                 1.8 TFSI sport   \n",
              "body_type                                                                 Sedans   \n",
              "price                                                                      14500   \n",
              "vat                                                             Price negotiable   \n",
              "km                                                                     80,000 km   \n",
              "registration                                                             03/2017   \n",
              "prev_owner                                                                  None   \n",
              "kW                                                                           NaN   \n",
              "hp                                                                        141 kW   \n",
              "Type                                                        [, Used, , Gasoline]   \n",
              "Previous Owners                                                              NaN   \n",
              "Next Inspection                                                              NaN   \n",
              "Inspection new                                                               NaN   \n",
              "Warranty                                                                     NaN   \n",
              "Full Service                                                                 NaN   \n",
              "Non-smoking Vehicle                                                          NaN   \n",
              "null                                                                          []   \n",
              "Make                                                                    \\nAudi\\n   \n",
              "Model                                                               [\\n, A1, \\n]   \n",
              "Offer Number                                                                 NaN   \n",
              "First Registration                                                [\\n, 2017, \\n]   \n",
              "Body Color                                                         [\\n, Red, \\n]   \n",
              "Paint Type                                                                   NaN   \n",
              "Body Color Original                                                          NaN   \n",
              "Upholstery                                                     [\\nCloth, Grey\\n]   \n",
              "Body                                                            [\\n, Sedans, \\n]   \n",
              "Nr. of Doors                                                             [\\n3\\n]   \n",
              "Nr. of Seats                                                             [\\n4\\n]   \n",
              "Model Code                                                        [\\n0588/BCY\\n]   \n",
              "Gearing Type                                                 [\\n, Automatic, \\n]   \n",
              "Displacement                                                      [\\n1,798 cc\\n]   \n",
              "Cylinders                                                                [\\n4\\n]   \n",
              "Weight                                                            [\\n1,255 kg\\n]   \n",
              "Drive chain                                                          [\\nfront\\n]   \n",
              "Fuel                                                          [\\n, Gasoline, \\n]   \n",
              "Consumption                    [[5.6 l/100 km (comb)], [7.1 l/100 km (city)],...   \n",
              "CO2 Emission                                           [\\n129 g CO2/km (comb)\\n]   \n",
              "Emission Class                                                      [\\nEuro 6\\n]   \n",
              "\\nComfort & Convenience\\n      [Air conditioning, Automatic climate control, ...   \n",
              "\\nEntertainment & Media\\n      [Bluetooth, Hands-free equipment, On-board com...   \n",
              "\\nExtras\\n                     [Alloy wheels, Sport seats, Sport suspension, ...   \n",
              "\\nSafety & Security\\n          [ABS, Central door lock, Central door lock wit...   \n",
              "description                    [\\nLangstreckenfahrzeug daher die hohe Kilomet...   \n",
              "Emission Label                                                   [\\n4 (Green)\\n]   \n",
              "Gears                                                                    [\\n7\\n]   \n",
              "Country version                                                              NaN   \n",
              "Electricity consumption                                                      NaN   \n",
              "Last Service Date                                                            NaN   \n",
              "Other Fuel Types                                                             NaN   \n",
              "Availability                                                                 NaN   \n",
              "Last Timing Belt Service Date                                                NaN   \n",
              "Available from                                                               NaN   \n",
              "\n",
              "                                                                               2  \n",
              "url                            https://www.autoscout24.com//offers/audi-a1-sp...  \n",
              "make_model                                                               Audi A1  \n",
              "short_description              Sportback 1.6 TDI S tronic Einparkhilfe plus+m...  \n",
              "body_type                                                                 Sedans  \n",
              "price                                                                      14640  \n",
              "vat                                                               VAT deductible  \n",
              "km                                                                     83,450 km  \n",
              "registration                                                             02/2016  \n",
              "prev_owner                                                      1 previous owner  \n",
              "kW                                                                           NaN  \n",
              "hp                                                                         85 kW  \n",
              "Type                                     [, Used, , Diesel (Particulate Filter)]  \n",
              "Previous Owners                                                            \\n1\\n  \n",
              "Next Inspection                                                              NaN  \n",
              "Inspection new                                                               NaN  \n",
              "Warranty                                        [\\n, \\n, \\n99 g CO2/km (comb)\\n]  \n",
              "Full Service                                                                 NaN  \n",
              "Non-smoking Vehicle                                                          NaN  \n",
              "null                                                                          []  \n",
              "Make                                                                    \\nAudi\\n  \n",
              "Model                                                               [\\n, A1, \\n]  \n",
              "Offer Number                                                      [\\nAM-95365\\n]  \n",
              "First Registration                                                [\\n, 2016, \\n]  \n",
              "Body Color                                                       [\\n, Black, \\n]  \n",
              "Paint Type                                                        [\\nMetallic\\n]  \n",
              "Body Color Original                                 [\\nmythosschwarz metallic\\n]  \n",
              "Upholstery                                                    [\\nCloth, Black\\n]  \n",
              "Body                                                            [\\n, Sedans, \\n]  \n",
              "Nr. of Doors                                                             [\\n4\\n]  \n",
              "Nr. of Seats                                                             [\\n4\\n]  \n",
              "Model Code                                                                   NaN  \n",
              "Gearing Type                                                 [\\n, Automatic, \\n]  \n",
              "Displacement                                                      [\\n1,598 cc\\n]  \n",
              "Cylinders                                                                    NaN  \n",
              "Weight                                                                       NaN  \n",
              "Drive chain                                                          [\\nfront\\n]  \n",
              "Fuel                                       [\\n, Diesel (Particulate Filter), \\n]  \n",
              "Consumption                    [[3.8 l/100 km (comb)], [4.4 l/100 km (city)],...  \n",
              "CO2 Emission                                            [\\n99 g CO2/km (comb)\\n]  \n",
              "Emission Class                                                      [\\nEuro 6\\n]  \n",
              "\\nComfort & Convenience\\n      [Air conditioning, Cruise control, Electrical ...  \n",
              "\\nEntertainment & Media\\n                               [MP3, On-board computer]  \n",
              "\\nExtras\\n                                         [Alloy wheels, Voice Control]  \n",
              "\\nSafety & Security\\n          [ABS, Central door lock, Daytime running light...  \n",
              "description                    [\\n, Fahrzeug-Nummer: AM-95365,  , Ehem. UPE 2...  \n",
              "Emission Label                                                   [\\n4 (Green)\\n]  \n",
              "Gears                                                                        NaN  \n",
              "Country version                                                              NaN  \n",
              "Electricity consumption                                                      NaN  \n",
              "Last Service Date                                                            NaN  \n",
              "Other Fuel Types                                                             NaN  \n",
              "Availability                                                                 NaN  \n",
              "Last Timing Belt Service Date                                                NaN  \n",
              "Available from                                                               NaN  "
            ],
            "text/html": [
              "\n",
              "  <div id=\"df-4936490d-d63c-425d-a317-709bf25eb4c0\">\n",
              "    <div class=\"colab-df-container\">\n",
              "      <div>\n",
              "<style scoped>\n",
              "    .dataframe tbody tr th:only-of-type {\n",
              "        vertical-align: middle;\n",
              "    }\n",
              "\n",
              "    .dataframe tbody tr th {\n",
              "        vertical-align: top;\n",
              "    }\n",
              "\n",
              "    .dataframe thead th {\n",
              "        text-align: right;\n",
              "    }\n",
              "</style>\n",
              "<table border=\"1\" class=\"dataframe\">\n",
              "  <thead>\n",
              "    <tr style=\"text-align: right;\">\n",
              "      <th></th>\n",
              "      <th>0</th>\n",
              "      <th>1</th>\n",
              "      <th>2</th>\n",
              "    </tr>\n",
              "  </thead>\n",
              "  <tbody>\n",
              "    <tr>\n",
              "      <th>url</th>\n",
              "      <td>https://www.autoscout24.com//offers/audi-a1-sp...</td>\n",
              "      <td>https://www.autoscout24.com//offers/audi-a1-1-...</td>\n",
              "      <td>https://www.autoscout24.com//offers/audi-a1-sp...</td>\n",
              "    </tr>\n",
              "    <tr>\n",
              "      <th>make_model</th>\n",
              "      <td>Audi A1</td>\n",
              "      <td>Audi A1</td>\n",
              "      <td>Audi A1</td>\n",
              "    </tr>\n",
              "    <tr>\n",
              "      <th>short_description</th>\n",
              "      <td>Sportback 1.4 TDI S-tronic Xenon Navi Klima</td>\n",
              "      <td>1.8 TFSI sport</td>\n",
              "      <td>Sportback 1.6 TDI S tronic Einparkhilfe plus+m...</td>\n",
              "    </tr>\n",
              "    <tr>\n",
              "      <th>body_type</th>\n",
              "      <td>Sedans</td>\n",
              "      <td>Sedans</td>\n",
              "      <td>Sedans</td>\n",
              "    </tr>\n",
              "    <tr>\n",
              "      <th>price</th>\n",
              "      <td>15770</td>\n",
              "      <td>14500</td>\n",
              "      <td>14640</td>\n",
              "    </tr>\n",
              "    <tr>\n",
              "      <th>vat</th>\n",
              "      <td>VAT deductible</td>\n",
              "      <td>Price negotiable</td>\n",
              "      <td>VAT deductible</td>\n",
              "    </tr>\n",
              "    <tr>\n",
              "      <th>km</th>\n",
              "      <td>56,013 km</td>\n",
              "      <td>80,000 km</td>\n",
              "      <td>83,450 km</td>\n",
              "    </tr>\n",
              "    <tr>\n",
              "      <th>registration</th>\n",
              "      <td>01/2016</td>\n",
              "      <td>03/2017</td>\n",
              "      <td>02/2016</td>\n",
              "    </tr>\n",
              "    <tr>\n",
              "      <th>prev_owner</th>\n",
              "      <td>2 previous owners</td>\n",
              "      <td>None</td>\n",
              "      <td>1 previous owner</td>\n",
              "    </tr>\n",
              "    <tr>\n",
              "      <th>kW</th>\n",
              "      <td>NaN</td>\n",
              "      <td>NaN</td>\n",
              "      <td>NaN</td>\n",
              "    </tr>\n",
              "    <tr>\n",
              "      <th>hp</th>\n",
              "      <td>66 kW</td>\n",
              "      <td>141 kW</td>\n",
              "      <td>85 kW</td>\n",
              "    </tr>\n",
              "    <tr>\n",
              "      <th>Type</th>\n",
              "      <td>[, Used, , Diesel (Particulate Filter)]</td>\n",
              "      <td>[, Used, , Gasoline]</td>\n",
              "      <td>[, Used, , Diesel (Particulate Filter)]</td>\n",
              "    </tr>\n",
              "    <tr>\n",
              "      <th>Previous Owners</th>\n",
              "      <td>\\n2\\n</td>\n",
              "      <td>NaN</td>\n",
              "      <td>\\n1\\n</td>\n",
              "    </tr>\n",
              "    <tr>\n",
              "      <th>Next Inspection</th>\n",
              "      <td>[\\n06/2021\\n, \\n99 g CO2/km (comb)\\n]</td>\n",
              "      <td>NaN</td>\n",
              "      <td>NaN</td>\n",
              "    </tr>\n",
              "    <tr>\n",
              "      <th>Inspection new</th>\n",
              "      <td>[\\nYes\\n, \\nEuro 6\\n]</td>\n",
              "      <td>NaN</td>\n",
              "      <td>NaN</td>\n",
              "    </tr>\n",
              "    <tr>\n",
              "      <th>Warranty</th>\n",
              "      <td>[\\n, \\n, \\n4 (Green)\\n]</td>\n",
              "      <td>NaN</td>\n",
              "      <td>[\\n, \\n, \\n99 g CO2/km (comb)\\n]</td>\n",
              "    </tr>\n",
              "    <tr>\n",
              "      <th>Full Service</th>\n",
              "      <td>[\\n, \\n]</td>\n",
              "      <td>NaN</td>\n",
              "      <td>NaN</td>\n",
              "    </tr>\n",
              "    <tr>\n",
              "      <th>Non-smoking Vehicle</th>\n",
              "      <td>[\\n, \\n]</td>\n",
              "      <td>NaN</td>\n",
              "      <td>NaN</td>\n",
              "    </tr>\n",
              "    <tr>\n",
              "      <th>null</th>\n",
              "      <td>[]</td>\n",
              "      <td>[]</td>\n",
              "      <td>[]</td>\n",
              "    </tr>\n",
              "    <tr>\n",
              "      <th>Make</th>\n",
              "      <td>\\nAudi\\n</td>\n",
              "      <td>\\nAudi\\n</td>\n",
              "      <td>\\nAudi\\n</td>\n",
              "    </tr>\n",
              "    <tr>\n",
              "      <th>Model</th>\n",
              "      <td>[\\n, A1, \\n]</td>\n",
              "      <td>[\\n, A1, \\n]</td>\n",
              "      <td>[\\n, A1, \\n]</td>\n",
              "    </tr>\n",
              "    <tr>\n",
              "      <th>Offer Number</th>\n",
              "      <td>[\\nLR-062483\\n]</td>\n",
              "      <td>NaN</td>\n",
              "      <td>[\\nAM-95365\\n]</td>\n",
              "    </tr>\n",
              "    <tr>\n",
              "      <th>First Registration</th>\n",
              "      <td>[\\n, 2016, \\n]</td>\n",
              "      <td>[\\n, 2017, \\n]</td>\n",
              "      <td>[\\n, 2016, \\n]</td>\n",
              "    </tr>\n",
              "    <tr>\n",
              "      <th>Body Color</th>\n",
              "      <td>[\\n, Black, \\n]</td>\n",
              "      <td>[\\n, Red, \\n]</td>\n",
              "      <td>[\\n, Black, \\n]</td>\n",
              "    </tr>\n",
              "    <tr>\n",
              "      <th>Paint Type</th>\n",
              "      <td>[\\nMetallic\\n]</td>\n",
              "      <td>NaN</td>\n",
              "      <td>[\\nMetallic\\n]</td>\n",
              "    </tr>\n",
              "    <tr>\n",
              "      <th>Body Color Original</th>\n",
              "      <td>[\\nMythosschwarz\\n]</td>\n",
              "      <td>NaN</td>\n",
              "      <td>[\\nmythosschwarz metallic\\n]</td>\n",
              "    </tr>\n",
              "    <tr>\n",
              "      <th>Upholstery</th>\n",
              "      <td>[\\nCloth, Black\\n]</td>\n",
              "      <td>[\\nCloth, Grey\\n]</td>\n",
              "      <td>[\\nCloth, Black\\n]</td>\n",
              "    </tr>\n",
              "    <tr>\n",
              "      <th>Body</th>\n",
              "      <td>[\\n, Sedans, \\n]</td>\n",
              "      <td>[\\n, Sedans, \\n]</td>\n",
              "      <td>[\\n, Sedans, \\n]</td>\n",
              "    </tr>\n",
              "    <tr>\n",
              "      <th>Nr. of Doors</th>\n",
              "      <td>[\\n5\\n]</td>\n",
              "      <td>[\\n3\\n]</td>\n",
              "      <td>[\\n4\\n]</td>\n",
              "    </tr>\n",
              "    <tr>\n",
              "      <th>Nr. of Seats</th>\n",
              "      <td>[\\n5\\n]</td>\n",
              "      <td>[\\n4\\n]</td>\n",
              "      <td>[\\n4\\n]</td>\n",
              "    </tr>\n",
              "    <tr>\n",
              "      <th>Model Code</th>\n",
              "      <td>[\\n0588/BDF\\n]</td>\n",
              "      <td>[\\n0588/BCY\\n]</td>\n",
              "      <td>NaN</td>\n",
              "    </tr>\n",
              "    <tr>\n",
              "      <th>Gearing Type</th>\n",
              "      <td>[\\n, Automatic, \\n]</td>\n",
              "      <td>[\\n, Automatic, \\n]</td>\n",
              "      <td>[\\n, Automatic, \\n]</td>\n",
              "    </tr>\n",
              "    <tr>\n",
              "      <th>Displacement</th>\n",
              "      <td>[\\n1,422 cc\\n]</td>\n",
              "      <td>[\\n1,798 cc\\n]</td>\n",
              "      <td>[\\n1,598 cc\\n]</td>\n",
              "    </tr>\n",
              "    <tr>\n",
              "      <th>Cylinders</th>\n",
              "      <td>[\\n3\\n]</td>\n",
              "      <td>[\\n4\\n]</td>\n",
              "      <td>NaN</td>\n",
              "    </tr>\n",
              "    <tr>\n",
              "      <th>Weight</th>\n",
              "      <td>[\\n1,220 kg\\n]</td>\n",
              "      <td>[\\n1,255 kg\\n]</td>\n",
              "      <td>NaN</td>\n",
              "    </tr>\n",
              "    <tr>\n",
              "      <th>Drive chain</th>\n",
              "      <td>[\\nfront\\n]</td>\n",
              "      <td>[\\nfront\\n]</td>\n",
              "      <td>[\\nfront\\n]</td>\n",
              "    </tr>\n",
              "    <tr>\n",
              "      <th>Fuel</th>\n",
              "      <td>[\\n, Diesel (Particulate Filter), \\n]</td>\n",
              "      <td>[\\n, Gasoline, \\n]</td>\n",
              "      <td>[\\n, Diesel (Particulate Filter), \\n]</td>\n",
              "    </tr>\n",
              "    <tr>\n",
              "      <th>Consumption</th>\n",
              "      <td>[[3.8 l/100 km (comb)], [4.3 l/100 km (city)],...</td>\n",
              "      <td>[[5.6 l/100 km (comb)], [7.1 l/100 km (city)],...</td>\n",
              "      <td>[[3.8 l/100 km (comb)], [4.4 l/100 km (city)],...</td>\n",
              "    </tr>\n",
              "    <tr>\n",
              "      <th>CO2 Emission</th>\n",
              "      <td>[\\n99 g CO2/km (comb)\\n]</td>\n",
              "      <td>[\\n129 g CO2/km (comb)\\n]</td>\n",
              "      <td>[\\n99 g CO2/km (comb)\\n]</td>\n",
              "    </tr>\n",
              "    <tr>\n",
              "      <th>Emission Class</th>\n",
              "      <td>[\\nEuro 6\\n]</td>\n",
              "      <td>[\\nEuro 6\\n]</td>\n",
              "      <td>[\\nEuro 6\\n]</td>\n",
              "    </tr>\n",
              "    <tr>\n",
              "      <th>\\nComfort &amp; Convenience\\n</th>\n",
              "      <td>[Air conditioning, Armrest, Automatic climate ...</td>\n",
              "      <td>[Air conditioning, Automatic climate control, ...</td>\n",
              "      <td>[Air conditioning, Cruise control, Electrical ...</td>\n",
              "    </tr>\n",
              "    <tr>\n",
              "      <th>\\nEntertainment &amp; Media\\n</th>\n",
              "      <td>[Bluetooth, Hands-free equipment, On-board com...</td>\n",
              "      <td>[Bluetooth, Hands-free equipment, On-board com...</td>\n",
              "      <td>[MP3, On-board computer]</td>\n",
              "    </tr>\n",
              "    <tr>\n",
              "      <th>\\nExtras\\n</th>\n",
              "      <td>[Alloy wheels, Catalytic Converter, Voice Cont...</td>\n",
              "      <td>[Alloy wheels, Sport seats, Sport suspension, ...</td>\n",
              "      <td>[Alloy wheels, Voice Control]</td>\n",
              "    </tr>\n",
              "    <tr>\n",
              "      <th>\\nSafety &amp; Security\\n</th>\n",
              "      <td>[ABS, Central door lock, Daytime running light...</td>\n",
              "      <td>[ABS, Central door lock, Central door lock wit...</td>\n",
              "      <td>[ABS, Central door lock, Daytime running light...</td>\n",
              "    </tr>\n",
              "    <tr>\n",
              "      <th>description</th>\n",
              "      <td>[\\n, Sicherheit:,  , Deaktivierung für Beifahr...</td>\n",
              "      <td>[\\nLangstreckenfahrzeug daher die hohe Kilomet...</td>\n",
              "      <td>[\\n, Fahrzeug-Nummer: AM-95365,  , Ehem. UPE 2...</td>\n",
              "    </tr>\n",
              "    <tr>\n",
              "      <th>Emission Label</th>\n",
              "      <td>NaN</td>\n",
              "      <td>[\\n4 (Green)\\n]</td>\n",
              "      <td>[\\n4 (Green)\\n]</td>\n",
              "    </tr>\n",
              "    <tr>\n",
              "      <th>Gears</th>\n",
              "      <td>NaN</td>\n",
              "      <td>[\\n7\\n]</td>\n",
              "      <td>NaN</td>\n",
              "    </tr>\n",
              "    <tr>\n",
              "      <th>Country version</th>\n",
              "      <td>NaN</td>\n",
              "      <td>NaN</td>\n",
              "      <td>NaN</td>\n",
              "    </tr>\n",
              "    <tr>\n",
              "      <th>Electricity consumption</th>\n",
              "      <td>NaN</td>\n",
              "      <td>NaN</td>\n",
              "      <td>NaN</td>\n",
              "    </tr>\n",
              "    <tr>\n",
              "      <th>Last Service Date</th>\n",
              "      <td>NaN</td>\n",
              "      <td>NaN</td>\n",
              "      <td>NaN</td>\n",
              "    </tr>\n",
              "    <tr>\n",
              "      <th>Other Fuel Types</th>\n",
              "      <td>NaN</td>\n",
              "      <td>NaN</td>\n",
              "      <td>NaN</td>\n",
              "    </tr>\n",
              "    <tr>\n",
              "      <th>Availability</th>\n",
              "      <td>NaN</td>\n",
              "      <td>NaN</td>\n",
              "      <td>NaN</td>\n",
              "    </tr>\n",
              "    <tr>\n",
              "      <th>Last Timing Belt Service Date</th>\n",
              "      <td>NaN</td>\n",
              "      <td>NaN</td>\n",
              "      <td>NaN</td>\n",
              "    </tr>\n",
              "    <tr>\n",
              "      <th>Available from</th>\n",
              "      <td>NaN</td>\n",
              "      <td>NaN</td>\n",
              "      <td>NaN</td>\n",
              "    </tr>\n",
              "  </tbody>\n",
              "</table>\n",
              "</div>\n",
              "      <button class=\"colab-df-convert\" onclick=\"convertToInteractive('df-4936490d-d63c-425d-a317-709bf25eb4c0')\"\n",
              "              title=\"Convert this dataframe to an interactive table.\"\n",
              "              style=\"display:none;\">\n",
              "        \n",
              "  <svg xmlns=\"http://www.w3.org/2000/svg\" height=\"24px\"viewBox=\"0 0 24 24\"\n",
              "       width=\"24px\">\n",
              "    <path d=\"M0 0h24v24H0V0z\" fill=\"none\"/>\n",
              "    <path d=\"M18.56 5.44l.94 2.06.94-2.06 2.06-.94-2.06-.94-.94-2.06-.94 2.06-2.06.94zm-11 1L8.5 8.5l.94-2.06 2.06-.94-2.06-.94L8.5 2.5l-.94 2.06-2.06.94zm10 10l.94 2.06.94-2.06 2.06-.94-2.06-.94-.94-2.06-.94 2.06-2.06.94z\"/><path d=\"M17.41 7.96l-1.37-1.37c-.4-.4-.92-.59-1.43-.59-.52 0-1.04.2-1.43.59L10.3 9.45l-7.72 7.72c-.78.78-.78 2.05 0 2.83L4 21.41c.39.39.9.59 1.41.59.51 0 1.02-.2 1.41-.59l7.78-7.78 2.81-2.81c.8-.78.8-2.07 0-2.86zM5.41 20L4 18.59l7.72-7.72 1.47 1.35L5.41 20z\"/>\n",
              "  </svg>\n",
              "      </button>\n",
              "      \n",
              "  <style>\n",
              "    .colab-df-container {\n",
              "      display:flex;\n",
              "      flex-wrap:wrap;\n",
              "      gap: 12px;\n",
              "    }\n",
              "\n",
              "    .colab-df-convert {\n",
              "      background-color: #E8F0FE;\n",
              "      border: none;\n",
              "      border-radius: 50%;\n",
              "      cursor: pointer;\n",
              "      display: none;\n",
              "      fill: #1967D2;\n",
              "      height: 32px;\n",
              "      padding: 0 0 0 0;\n",
              "      width: 32px;\n",
              "    }\n",
              "\n",
              "    .colab-df-convert:hover {\n",
              "      background-color: #E2EBFA;\n",
              "      box-shadow: 0px 1px 2px rgba(60, 64, 67, 0.3), 0px 1px 3px 1px rgba(60, 64, 67, 0.15);\n",
              "      fill: #174EA6;\n",
              "    }\n",
              "\n",
              "    [theme=dark] .colab-df-convert {\n",
              "      background-color: #3B4455;\n",
              "      fill: #D2E3FC;\n",
              "    }\n",
              "\n",
              "    [theme=dark] .colab-df-convert:hover {\n",
              "      background-color: #434B5C;\n",
              "      box-shadow: 0px 1px 3px 1px rgba(0, 0, 0, 0.15);\n",
              "      filter: drop-shadow(0px 1px 2px rgba(0, 0, 0, 0.3));\n",
              "      fill: #FFFFFF;\n",
              "    }\n",
              "  </style>\n",
              "\n",
              "      <script>\n",
              "        const buttonEl =\n",
              "          document.querySelector('#df-4936490d-d63c-425d-a317-709bf25eb4c0 button.colab-df-convert');\n",
              "        buttonEl.style.display =\n",
              "          google.colab.kernel.accessAllowed ? 'block' : 'none';\n",
              "\n",
              "        async function convertToInteractive(key) {\n",
              "          const element = document.querySelector('#df-4936490d-d63c-425d-a317-709bf25eb4c0');\n",
              "          const dataTable =\n",
              "            await google.colab.kernel.invokeFunction('convertToInteractive',\n",
              "                                                     [key], {});\n",
              "          if (!dataTable) return;\n",
              "\n",
              "          const docLinkHtml = 'Like what you see? Visit the ' +\n",
              "            '<a target=\"_blank\" href=https://colab.research.google.com/notebooks/data_table.ipynb>data table notebook</a>'\n",
              "            + ' to learn more about interactive tables.';\n",
              "          element.innerHTML = '';\n",
              "          dataTable['output_type'] = 'display_data';\n",
              "          await google.colab.output.renderOutput(dataTable, element);\n",
              "          const docLink = document.createElement('div');\n",
              "          docLink.innerHTML = docLinkHtml;\n",
              "          element.appendChild(docLink);\n",
              "        }\n",
              "      </script>\n",
              "    </div>\n",
              "  </div>\n",
              "  "
            ]
          },
          "metadata": {},
          "execution_count": 218
        }
      ]
    },
    {
      "cell_type": "code",
      "source": [
        "df.info()"
      ],
      "metadata": {
        "id": "LFzSNhC2CIY2",
        "colab": {
          "base_uri": "https://localhost:8080/"
        },
        "outputId": "44d33cf1-afa6-44c0-f13a-bed7b606b376"
      },
      "execution_count": null,
      "outputs": [
        {
          "output_type": "stream",
          "name": "stdout",
          "text": [
            "<class 'pandas.core.frame.DataFrame'>\n",
            "RangeIndex: 15919 entries, 0 to 15918\n",
            "Data columns (total 54 columns):\n",
            " #   Column                         Non-Null Count  Dtype  \n",
            "---  ------                         --------------  -----  \n",
            " 0   url                            15919 non-null  object \n",
            " 1   make_model                     15919 non-null  object \n",
            " 2   short_description              15873 non-null  object \n",
            " 3   body_type                      15859 non-null  object \n",
            " 4   price                          15919 non-null  int64  \n",
            " 5   vat                            11406 non-null  object \n",
            " 6   km                             15919 non-null  object \n",
            " 7   registration                   15919 non-null  object \n",
            " 8   prev_owner                     9091 non-null   object \n",
            " 9   kW                             0 non-null      float64\n",
            " 10  hp                             15919 non-null  object \n",
            " 11  Type                           15917 non-null  object \n",
            " 12  Previous Owners                9279 non-null   object \n",
            " 13  Next Inspection                3535 non-null   object \n",
            " 14  Inspection new                 3932 non-null   object \n",
            " 15  Warranty                       10499 non-null  object \n",
            " 16  Full Service                   8215 non-null   object \n",
            " 17  Non-smoking Vehicle            7177 non-null   object \n",
            " 18  null                           15919 non-null  object \n",
            " 19  Make                           15919 non-null  object \n",
            " 20  Model                          15919 non-null  object \n",
            " 21  Offer Number                   12744 non-null  object \n",
            " 22  First Registration             14322 non-null  object \n",
            " 23  Body Color                     15322 non-null  object \n",
            " 24  Paint Type                     10147 non-null  object \n",
            " 25  Body Color Original            12160 non-null  object \n",
            " 26  Upholstery                     12199 non-null  object \n",
            " 27  Body                           15859 non-null  object \n",
            " 28  Nr. of Doors                   15707 non-null  object \n",
            " 29  Nr. of Seats                   14942 non-null  object \n",
            " 30  Model Code                     4978 non-null   object \n",
            " 31  Gearing Type                   15919 non-null  object \n",
            " 32  Displacement                   15423 non-null  object \n",
            " 33  Cylinders                      10239 non-null  object \n",
            " 34  Weight                         8945 non-null   object \n",
            " 35  Drive chain                    9061 non-null   object \n",
            " 36  Fuel                           15919 non-null  object \n",
            " 37  Consumption                    14013 non-null  object \n",
            " 38  CO2 Emission                   14111 non-null  object \n",
            " 39  Emission Class                 12898 non-null  object \n",
            " 40  \n",
            "Comfort & Convenience\n",
            "        14999 non-null  object \n",
            " 41  \n",
            "Entertainment & Media\n",
            "        14545 non-null  object \n",
            " 42  \n",
            "Extras\n",
            "                       12957 non-null  object \n",
            " 43  \n",
            "Safety & Security\n",
            "            14937 non-null  object \n",
            " 44  description                    15919 non-null  object \n",
            " 45  Emission Label                 3985 non-null   object \n",
            " 46  Gears                          11207 non-null  object \n",
            " 47  Country version                7586 non-null   object \n",
            " 48  Electricity consumption        137 non-null    object \n",
            " 49  Last Service Date              566 non-null    object \n",
            " 50  Other Fuel Types               880 non-null    object \n",
            " 51  Availability                   635 non-null    object \n",
            " 52  Last Timing Belt Service Date  16 non-null     object \n",
            " 53  Available from                 272 non-null    object \n",
            "dtypes: float64(1), int64(1), object(52)\n",
            "memory usage: 6.6+ MB\n"
          ]
        }
      ]
    },
    {
      "cell_type": "code",
      "source": [
        "df.columns"
      ],
      "metadata": {
        "id": "LWIp_6FiCIbr",
        "colab": {
          "base_uri": "https://localhost:8080/"
        },
        "outputId": "7e32b084-c481-4c29-9359-0d157bed885b"
      },
      "execution_count": null,
      "outputs": [
        {
          "output_type": "execute_result",
          "data": {
            "text/plain": [
              "Index(['url', 'make_model', 'short_description', 'body_type', 'price', 'vat',\n",
              "       'km', 'registration', 'prev_owner', 'kW', 'hp', 'Type',\n",
              "       'Previous Owners', 'Next Inspection', 'Inspection new', 'Warranty',\n",
              "       'Full Service', 'Non-smoking Vehicle', 'null', 'Make', 'Model',\n",
              "       'Offer Number', 'First Registration', 'Body Color', 'Paint Type',\n",
              "       'Body Color Original', 'Upholstery', 'Body', 'Nr. of Doors',\n",
              "       'Nr. of Seats', 'Model Code', 'Gearing Type', 'Displacement',\n",
              "       'Cylinders', 'Weight', 'Drive chain', 'Fuel', 'Consumption',\n",
              "       'CO2 Emission', 'Emission Class', '\\nComfort & Convenience\\n',\n",
              "       '\\nEntertainment & Media\\n', '\\nExtras\\n', '\\nSafety & Security\\n',\n",
              "       'description', 'Emission Label', 'Gears', 'Country version',\n",
              "       'Electricity consumption', 'Last Service Date', 'Other Fuel Types',\n",
              "       'Availability', 'Last Timing Belt Service Date', 'Available from'],\n",
              "      dtype='object')"
            ]
          },
          "metadata": {},
          "execution_count": 220
        }
      ]
    },
    {
      "cell_type": "code",
      "source": [
        "df.rename(columns={\"\\nComfort & Convenience\\n\": \"Comfort_Convenience\",\n",
        "                   \"\\nEntertainment & Media\\n\":\"Entertainment_Media\",\n",
        "                   \"\\nExtras\\n\":\"Extras\",\n",
        "                   \"\\nSafety & Security\\n\":\"Safety_Security\"}, inplace=True)\n",
        "\n"
      ],
      "metadata": {
        "id": "S4cYoiajCIeg"
      },
      "execution_count": null,
      "outputs": []
    },
    {
      "cell_type": "code",
      "source": [
        "df.head(3)"
      ],
      "metadata": {
        "colab": {
          "base_uri": "https://localhost:8080/",
          "height": 502
        },
        "id": "gFLzx4mhZxy-",
        "outputId": "a473e82b-8115-4334-e8c8-5d102134c35c"
      },
      "execution_count": null,
      "outputs": [
        {
          "output_type": "execute_result",
          "data": {
            "text/plain": [
              "                                                 url make_model  \\\n",
              "0  https://www.autoscout24.com//offers/audi-a1-sp...    Audi A1   \n",
              "1  https://www.autoscout24.com//offers/audi-a1-1-...    Audi A1   \n",
              "2  https://www.autoscout24.com//offers/audi-a1-sp...    Audi A1   \n",
              "\n",
              "                                   short_description body_type  price  \\\n",
              "0        Sportback 1.4 TDI S-tronic Xenon Navi Klima    Sedans  15770   \n",
              "1                                     1.8 TFSI sport    Sedans  14500   \n",
              "2  Sportback 1.6 TDI S tronic Einparkhilfe plus+m...    Sedans  14640   \n",
              "\n",
              "                vat         km registration         prev_owner  kW      hp  \\\n",
              "0    VAT deductible  56,013 km      01/2016  2 previous owners NaN   66 kW   \n",
              "1  Price negotiable  80,000 km      03/2017               None NaN  141 kW   \n",
              "2    VAT deductible  83,450 km      02/2016   1 previous owner NaN   85 kW   \n",
              "\n",
              "                                      Type Previous Owners  \\\n",
              "0  [, Used, , Diesel (Particulate Filter)]           \\n2\\n   \n",
              "1                     [, Used, , Gasoline]             NaN   \n",
              "2  [, Used, , Diesel (Particulate Filter)]           \\n1\\n   \n",
              "\n",
              "                         Next Inspection         Inspection new  \\\n",
              "0  [\\n06/2021\\n, \\n99 g CO2/km (comb)\\n]  [\\nYes\\n, \\nEuro 6\\n]   \n",
              "1                                    NaN                    NaN   \n",
              "2                                    NaN                    NaN   \n",
              "\n",
              "                           Warranty Full Service Non-smoking Vehicle null  \\\n",
              "0           [\\n, \\n, \\n4 (Green)\\n]     [\\n, \\n]            [\\n, \\n]   []   \n",
              "1                               NaN          NaN                 NaN   []   \n",
              "2  [\\n, \\n, \\n99 g CO2/km (comb)\\n]          NaN                 NaN   []   \n",
              "\n",
              "       Make         Model     Offer Number First Registration  \\\n",
              "0  \\nAudi\\n  [\\n, A1, \\n]  [\\nLR-062483\\n]     [\\n, 2016, \\n]   \n",
              "1  \\nAudi\\n  [\\n, A1, \\n]              NaN     [\\n, 2017, \\n]   \n",
              "2  \\nAudi\\n  [\\n, A1, \\n]   [\\nAM-95365\\n]     [\\n, 2016, \\n]   \n",
              "\n",
              "        Body Color      Paint Type           Body Color Original  \\\n",
              "0  [\\n, Black, \\n]  [\\nMetallic\\n]           [\\nMythosschwarz\\n]   \n",
              "1    [\\n, Red, \\n]             NaN                           NaN   \n",
              "2  [\\n, Black, \\n]  [\\nMetallic\\n]  [\\nmythosschwarz metallic\\n]   \n",
              "\n",
              "           Upholstery              Body Nr. of Doors Nr. of Seats  \\\n",
              "0  [\\nCloth, Black\\n]  [\\n, Sedans, \\n]      [\\n5\\n]      [\\n5\\n]   \n",
              "1   [\\nCloth, Grey\\n]  [\\n, Sedans, \\n]      [\\n3\\n]      [\\n4\\n]   \n",
              "2  [\\nCloth, Black\\n]  [\\n, Sedans, \\n]      [\\n4\\n]      [\\n4\\n]   \n",
              "\n",
              "       Model Code         Gearing Type    Displacement Cylinders  \\\n",
              "0  [\\n0588/BDF\\n]  [\\n, Automatic, \\n]  [\\n1,422 cc\\n]   [\\n3\\n]   \n",
              "1  [\\n0588/BCY\\n]  [\\n, Automatic, \\n]  [\\n1,798 cc\\n]   [\\n4\\n]   \n",
              "2             NaN  [\\n, Automatic, \\n]  [\\n1,598 cc\\n]       NaN   \n",
              "\n",
              "           Weight  Drive chain                                   Fuel  \\\n",
              "0  [\\n1,220 kg\\n]  [\\nfront\\n]  [\\n, Diesel (Particulate Filter), \\n]   \n",
              "1  [\\n1,255 kg\\n]  [\\nfront\\n]                     [\\n, Gasoline, \\n]   \n",
              "2             NaN  [\\nfront\\n]  [\\n, Diesel (Particulate Filter), \\n]   \n",
              "\n",
              "                                         Consumption  \\\n",
              "0  [[3.8 l/100 km (comb)], [4.3 l/100 km (city)],...   \n",
              "1  [[5.6 l/100 km (comb)], [7.1 l/100 km (city)],...   \n",
              "2  [[3.8 l/100 km (comb)], [4.4 l/100 km (city)],...   \n",
              "\n",
              "                CO2 Emission Emission Class  \\\n",
              "0   [\\n99 g CO2/km (comb)\\n]   [\\nEuro 6\\n]   \n",
              "1  [\\n129 g CO2/km (comb)\\n]   [\\nEuro 6\\n]   \n",
              "2   [\\n99 g CO2/km (comb)\\n]   [\\nEuro 6\\n]   \n",
              "\n",
              "                                 Comfort_Convenience  \\\n",
              "0  [Air conditioning, Armrest, Automatic climate ...   \n",
              "1  [Air conditioning, Automatic climate control, ...   \n",
              "2  [Air conditioning, Cruise control, Electrical ...   \n",
              "\n",
              "                                 Entertainment_Media  \\\n",
              "0  [Bluetooth, Hands-free equipment, On-board com...   \n",
              "1  [Bluetooth, Hands-free equipment, On-board com...   \n",
              "2                           [MP3, On-board computer]   \n",
              "\n",
              "                                              Extras  \\\n",
              "0  [Alloy wheels, Catalytic Converter, Voice Cont...   \n",
              "1  [Alloy wheels, Sport seats, Sport suspension, ...   \n",
              "2                      [Alloy wheels, Voice Control]   \n",
              "\n",
              "                                     Safety_Security  \\\n",
              "0  [ABS, Central door lock, Daytime running light...   \n",
              "1  [ABS, Central door lock, Central door lock wit...   \n",
              "2  [ABS, Central door lock, Daytime running light...   \n",
              "\n",
              "                                         description   Emission Label  \\\n",
              "0  [\\n, Sicherheit:,  , Deaktivierung für Beifahr...              NaN   \n",
              "1  [\\nLangstreckenfahrzeug daher die hohe Kilomet...  [\\n4 (Green)\\n]   \n",
              "2  [\\n, Fahrzeug-Nummer: AM-95365,  , Ehem. UPE 2...  [\\n4 (Green)\\n]   \n",
              "\n",
              "     Gears Country version Electricity consumption Last Service Date  \\\n",
              "0      NaN             NaN                     NaN               NaN   \n",
              "1  [\\n7\\n]             NaN                     NaN               NaN   \n",
              "2      NaN             NaN                     NaN               NaN   \n",
              "\n",
              "  Other Fuel Types Availability Last Timing Belt Service Date Available from  \n",
              "0              NaN          NaN                           NaN            NaN  \n",
              "1              NaN          NaN                           NaN            NaN  \n",
              "2              NaN          NaN                           NaN            NaN  "
            ],
            "text/html": [
              "\n",
              "  <div id=\"df-4aef212f-ecdf-43d3-9c88-22295dcb55aa\">\n",
              "    <div class=\"colab-df-container\">\n",
              "      <div>\n",
              "<style scoped>\n",
              "    .dataframe tbody tr th:only-of-type {\n",
              "        vertical-align: middle;\n",
              "    }\n",
              "\n",
              "    .dataframe tbody tr th {\n",
              "        vertical-align: top;\n",
              "    }\n",
              "\n",
              "    .dataframe thead th {\n",
              "        text-align: right;\n",
              "    }\n",
              "</style>\n",
              "<table border=\"1\" class=\"dataframe\">\n",
              "  <thead>\n",
              "    <tr style=\"text-align: right;\">\n",
              "      <th></th>\n",
              "      <th>url</th>\n",
              "      <th>make_model</th>\n",
              "      <th>short_description</th>\n",
              "      <th>body_type</th>\n",
              "      <th>price</th>\n",
              "      <th>vat</th>\n",
              "      <th>km</th>\n",
              "      <th>registration</th>\n",
              "      <th>prev_owner</th>\n",
              "      <th>kW</th>\n",
              "      <th>hp</th>\n",
              "      <th>Type</th>\n",
              "      <th>Previous Owners</th>\n",
              "      <th>Next Inspection</th>\n",
              "      <th>Inspection new</th>\n",
              "      <th>Warranty</th>\n",
              "      <th>Full Service</th>\n",
              "      <th>Non-smoking Vehicle</th>\n",
              "      <th>null</th>\n",
              "      <th>Make</th>\n",
              "      <th>Model</th>\n",
              "      <th>Offer Number</th>\n",
              "      <th>First Registration</th>\n",
              "      <th>Body Color</th>\n",
              "      <th>Paint Type</th>\n",
              "      <th>Body Color Original</th>\n",
              "      <th>Upholstery</th>\n",
              "      <th>Body</th>\n",
              "      <th>Nr. of Doors</th>\n",
              "      <th>Nr. of Seats</th>\n",
              "      <th>Model Code</th>\n",
              "      <th>Gearing Type</th>\n",
              "      <th>Displacement</th>\n",
              "      <th>Cylinders</th>\n",
              "      <th>Weight</th>\n",
              "      <th>Drive chain</th>\n",
              "      <th>Fuel</th>\n",
              "      <th>Consumption</th>\n",
              "      <th>CO2 Emission</th>\n",
              "      <th>Emission Class</th>\n",
              "      <th>Comfort_Convenience</th>\n",
              "      <th>Entertainment_Media</th>\n",
              "      <th>Extras</th>\n",
              "      <th>Safety_Security</th>\n",
              "      <th>description</th>\n",
              "      <th>Emission Label</th>\n",
              "      <th>Gears</th>\n",
              "      <th>Country version</th>\n",
              "      <th>Electricity consumption</th>\n",
              "      <th>Last Service Date</th>\n",
              "      <th>Other Fuel Types</th>\n",
              "      <th>Availability</th>\n",
              "      <th>Last Timing Belt Service Date</th>\n",
              "      <th>Available from</th>\n",
              "    </tr>\n",
              "  </thead>\n",
              "  <tbody>\n",
              "    <tr>\n",
              "      <th>0</th>\n",
              "      <td>https://www.autoscout24.com//offers/audi-a1-sp...</td>\n",
              "      <td>Audi A1</td>\n",
              "      <td>Sportback 1.4 TDI S-tronic Xenon Navi Klima</td>\n",
              "      <td>Sedans</td>\n",
              "      <td>15770</td>\n",
              "      <td>VAT deductible</td>\n",
              "      <td>56,013 km</td>\n",
              "      <td>01/2016</td>\n",
              "      <td>2 previous owners</td>\n",
              "      <td>NaN</td>\n",
              "      <td>66 kW</td>\n",
              "      <td>[, Used, , Diesel (Particulate Filter)]</td>\n",
              "      <td>\\n2\\n</td>\n",
              "      <td>[\\n06/2021\\n, \\n99 g CO2/km (comb)\\n]</td>\n",
              "      <td>[\\nYes\\n, \\nEuro 6\\n]</td>\n",
              "      <td>[\\n, \\n, \\n4 (Green)\\n]</td>\n",
              "      <td>[\\n, \\n]</td>\n",
              "      <td>[\\n, \\n]</td>\n",
              "      <td>[]</td>\n",
              "      <td>\\nAudi\\n</td>\n",
              "      <td>[\\n, A1, \\n]</td>\n",
              "      <td>[\\nLR-062483\\n]</td>\n",
              "      <td>[\\n, 2016, \\n]</td>\n",
              "      <td>[\\n, Black, \\n]</td>\n",
              "      <td>[\\nMetallic\\n]</td>\n",
              "      <td>[\\nMythosschwarz\\n]</td>\n",
              "      <td>[\\nCloth, Black\\n]</td>\n",
              "      <td>[\\n, Sedans, \\n]</td>\n",
              "      <td>[\\n5\\n]</td>\n",
              "      <td>[\\n5\\n]</td>\n",
              "      <td>[\\n0588/BDF\\n]</td>\n",
              "      <td>[\\n, Automatic, \\n]</td>\n",
              "      <td>[\\n1,422 cc\\n]</td>\n",
              "      <td>[\\n3\\n]</td>\n",
              "      <td>[\\n1,220 kg\\n]</td>\n",
              "      <td>[\\nfront\\n]</td>\n",
              "      <td>[\\n, Diesel (Particulate Filter), \\n]</td>\n",
              "      <td>[[3.8 l/100 km (comb)], [4.3 l/100 km (city)],...</td>\n",
              "      <td>[\\n99 g CO2/km (comb)\\n]</td>\n",
              "      <td>[\\nEuro 6\\n]</td>\n",
              "      <td>[Air conditioning, Armrest, Automatic climate ...</td>\n",
              "      <td>[Bluetooth, Hands-free equipment, On-board com...</td>\n",
              "      <td>[Alloy wheels, Catalytic Converter, Voice Cont...</td>\n",
              "      <td>[ABS, Central door lock, Daytime running light...</td>\n",
              "      <td>[\\n, Sicherheit:,  , Deaktivierung für Beifahr...</td>\n",
              "      <td>NaN</td>\n",
              "      <td>NaN</td>\n",
              "      <td>NaN</td>\n",
              "      <td>NaN</td>\n",
              "      <td>NaN</td>\n",
              "      <td>NaN</td>\n",
              "      <td>NaN</td>\n",
              "      <td>NaN</td>\n",
              "      <td>NaN</td>\n",
              "    </tr>\n",
              "    <tr>\n",
              "      <th>1</th>\n",
              "      <td>https://www.autoscout24.com//offers/audi-a1-1-...</td>\n",
              "      <td>Audi A1</td>\n",
              "      <td>1.8 TFSI sport</td>\n",
              "      <td>Sedans</td>\n",
              "      <td>14500</td>\n",
              "      <td>Price negotiable</td>\n",
              "      <td>80,000 km</td>\n",
              "      <td>03/2017</td>\n",
              "      <td>None</td>\n",
              "      <td>NaN</td>\n",
              "      <td>141 kW</td>\n",
              "      <td>[, Used, , Gasoline]</td>\n",
              "      <td>NaN</td>\n",
              "      <td>NaN</td>\n",
              "      <td>NaN</td>\n",
              "      <td>NaN</td>\n",
              "      <td>NaN</td>\n",
              "      <td>NaN</td>\n",
              "      <td>[]</td>\n",
              "      <td>\\nAudi\\n</td>\n",
              "      <td>[\\n, A1, \\n]</td>\n",
              "      <td>NaN</td>\n",
              "      <td>[\\n, 2017, \\n]</td>\n",
              "      <td>[\\n, Red, \\n]</td>\n",
              "      <td>NaN</td>\n",
              "      <td>NaN</td>\n",
              "      <td>[\\nCloth, Grey\\n]</td>\n",
              "      <td>[\\n, Sedans, \\n]</td>\n",
              "      <td>[\\n3\\n]</td>\n",
              "      <td>[\\n4\\n]</td>\n",
              "      <td>[\\n0588/BCY\\n]</td>\n",
              "      <td>[\\n, Automatic, \\n]</td>\n",
              "      <td>[\\n1,798 cc\\n]</td>\n",
              "      <td>[\\n4\\n]</td>\n",
              "      <td>[\\n1,255 kg\\n]</td>\n",
              "      <td>[\\nfront\\n]</td>\n",
              "      <td>[\\n, Gasoline, \\n]</td>\n",
              "      <td>[[5.6 l/100 km (comb)], [7.1 l/100 km (city)],...</td>\n",
              "      <td>[\\n129 g CO2/km (comb)\\n]</td>\n",
              "      <td>[\\nEuro 6\\n]</td>\n",
              "      <td>[Air conditioning, Automatic climate control, ...</td>\n",
              "      <td>[Bluetooth, Hands-free equipment, On-board com...</td>\n",
              "      <td>[Alloy wheels, Sport seats, Sport suspension, ...</td>\n",
              "      <td>[ABS, Central door lock, Central door lock wit...</td>\n",
              "      <td>[\\nLangstreckenfahrzeug daher die hohe Kilomet...</td>\n",
              "      <td>[\\n4 (Green)\\n]</td>\n",
              "      <td>[\\n7\\n]</td>\n",
              "      <td>NaN</td>\n",
              "      <td>NaN</td>\n",
              "      <td>NaN</td>\n",
              "      <td>NaN</td>\n",
              "      <td>NaN</td>\n",
              "      <td>NaN</td>\n",
              "      <td>NaN</td>\n",
              "    </tr>\n",
              "    <tr>\n",
              "      <th>2</th>\n",
              "      <td>https://www.autoscout24.com//offers/audi-a1-sp...</td>\n",
              "      <td>Audi A1</td>\n",
              "      <td>Sportback 1.6 TDI S tronic Einparkhilfe plus+m...</td>\n",
              "      <td>Sedans</td>\n",
              "      <td>14640</td>\n",
              "      <td>VAT deductible</td>\n",
              "      <td>83,450 km</td>\n",
              "      <td>02/2016</td>\n",
              "      <td>1 previous owner</td>\n",
              "      <td>NaN</td>\n",
              "      <td>85 kW</td>\n",
              "      <td>[, Used, , Diesel (Particulate Filter)]</td>\n",
              "      <td>\\n1\\n</td>\n",
              "      <td>NaN</td>\n",
              "      <td>NaN</td>\n",
              "      <td>[\\n, \\n, \\n99 g CO2/km (comb)\\n]</td>\n",
              "      <td>NaN</td>\n",
              "      <td>NaN</td>\n",
              "      <td>[]</td>\n",
              "      <td>\\nAudi\\n</td>\n",
              "      <td>[\\n, A1, \\n]</td>\n",
              "      <td>[\\nAM-95365\\n]</td>\n",
              "      <td>[\\n, 2016, \\n]</td>\n",
              "      <td>[\\n, Black, \\n]</td>\n",
              "      <td>[\\nMetallic\\n]</td>\n",
              "      <td>[\\nmythosschwarz metallic\\n]</td>\n",
              "      <td>[\\nCloth, Black\\n]</td>\n",
              "      <td>[\\n, Sedans, \\n]</td>\n",
              "      <td>[\\n4\\n]</td>\n",
              "      <td>[\\n4\\n]</td>\n",
              "      <td>NaN</td>\n",
              "      <td>[\\n, Automatic, \\n]</td>\n",
              "      <td>[\\n1,598 cc\\n]</td>\n",
              "      <td>NaN</td>\n",
              "      <td>NaN</td>\n",
              "      <td>[\\nfront\\n]</td>\n",
              "      <td>[\\n, Diesel (Particulate Filter), \\n]</td>\n",
              "      <td>[[3.8 l/100 km (comb)], [4.4 l/100 km (city)],...</td>\n",
              "      <td>[\\n99 g CO2/km (comb)\\n]</td>\n",
              "      <td>[\\nEuro 6\\n]</td>\n",
              "      <td>[Air conditioning, Cruise control, Electrical ...</td>\n",
              "      <td>[MP3, On-board computer]</td>\n",
              "      <td>[Alloy wheels, Voice Control]</td>\n",
              "      <td>[ABS, Central door lock, Daytime running light...</td>\n",
              "      <td>[\\n, Fahrzeug-Nummer: AM-95365,  , Ehem. UPE 2...</td>\n",
              "      <td>[\\n4 (Green)\\n]</td>\n",
              "      <td>NaN</td>\n",
              "      <td>NaN</td>\n",
              "      <td>NaN</td>\n",
              "      <td>NaN</td>\n",
              "      <td>NaN</td>\n",
              "      <td>NaN</td>\n",
              "      <td>NaN</td>\n",
              "      <td>NaN</td>\n",
              "    </tr>\n",
              "  </tbody>\n",
              "</table>\n",
              "</div>\n",
              "      <button class=\"colab-df-convert\" onclick=\"convertToInteractive('df-4aef212f-ecdf-43d3-9c88-22295dcb55aa')\"\n",
              "              title=\"Convert this dataframe to an interactive table.\"\n",
              "              style=\"display:none;\">\n",
              "        \n",
              "  <svg xmlns=\"http://www.w3.org/2000/svg\" height=\"24px\"viewBox=\"0 0 24 24\"\n",
              "       width=\"24px\">\n",
              "    <path d=\"M0 0h24v24H0V0z\" fill=\"none\"/>\n",
              "    <path d=\"M18.56 5.44l.94 2.06.94-2.06 2.06-.94-2.06-.94-.94-2.06-.94 2.06-2.06.94zm-11 1L8.5 8.5l.94-2.06 2.06-.94-2.06-.94L8.5 2.5l-.94 2.06-2.06.94zm10 10l.94 2.06.94-2.06 2.06-.94-2.06-.94-.94-2.06-.94 2.06-2.06.94z\"/><path d=\"M17.41 7.96l-1.37-1.37c-.4-.4-.92-.59-1.43-.59-.52 0-1.04.2-1.43.59L10.3 9.45l-7.72 7.72c-.78.78-.78 2.05 0 2.83L4 21.41c.39.39.9.59 1.41.59.51 0 1.02-.2 1.41-.59l7.78-7.78 2.81-2.81c.8-.78.8-2.07 0-2.86zM5.41 20L4 18.59l7.72-7.72 1.47 1.35L5.41 20z\"/>\n",
              "  </svg>\n",
              "      </button>\n",
              "      \n",
              "  <style>\n",
              "    .colab-df-container {\n",
              "      display:flex;\n",
              "      flex-wrap:wrap;\n",
              "      gap: 12px;\n",
              "    }\n",
              "\n",
              "    .colab-df-convert {\n",
              "      background-color: #E8F0FE;\n",
              "      border: none;\n",
              "      border-radius: 50%;\n",
              "      cursor: pointer;\n",
              "      display: none;\n",
              "      fill: #1967D2;\n",
              "      height: 32px;\n",
              "      padding: 0 0 0 0;\n",
              "      width: 32px;\n",
              "    }\n",
              "\n",
              "    .colab-df-convert:hover {\n",
              "      background-color: #E2EBFA;\n",
              "      box-shadow: 0px 1px 2px rgba(60, 64, 67, 0.3), 0px 1px 3px 1px rgba(60, 64, 67, 0.15);\n",
              "      fill: #174EA6;\n",
              "    }\n",
              "\n",
              "    [theme=dark] .colab-df-convert {\n",
              "      background-color: #3B4455;\n",
              "      fill: #D2E3FC;\n",
              "    }\n",
              "\n",
              "    [theme=dark] .colab-df-convert:hover {\n",
              "      background-color: #434B5C;\n",
              "      box-shadow: 0px 1px 3px 1px rgba(0, 0, 0, 0.15);\n",
              "      filter: drop-shadow(0px 1px 2px rgba(0, 0, 0, 0.3));\n",
              "      fill: #FFFFFF;\n",
              "    }\n",
              "  </style>\n",
              "\n",
              "      <script>\n",
              "        const buttonEl =\n",
              "          document.querySelector('#df-4aef212f-ecdf-43d3-9c88-22295dcb55aa button.colab-df-convert');\n",
              "        buttonEl.style.display =\n",
              "          google.colab.kernel.accessAllowed ? 'block' : 'none';\n",
              "\n",
              "        async function convertToInteractive(key) {\n",
              "          const element = document.querySelector('#df-4aef212f-ecdf-43d3-9c88-22295dcb55aa');\n",
              "          const dataTable =\n",
              "            await google.colab.kernel.invokeFunction('convertToInteractive',\n",
              "                                                     [key], {});\n",
              "          if (!dataTable) return;\n",
              "\n",
              "          const docLinkHtml = 'Like what you see? Visit the ' +\n",
              "            '<a target=\"_blank\" href=https://colab.research.google.com/notebooks/data_table.ipynb>data table notebook</a>'\n",
              "            + ' to learn more about interactive tables.';\n",
              "          element.innerHTML = '';\n",
              "          dataTable['output_type'] = 'display_data';\n",
              "          await google.colab.output.renderOutput(dataTable, element);\n",
              "          const docLink = document.createElement('div');\n",
              "          docLink.innerHTML = docLinkHtml;\n",
              "          element.appendChild(docLink);\n",
              "        }\n",
              "      </script>\n",
              "    </div>\n",
              "  </div>\n",
              "  "
            ]
          },
          "metadata": {},
          "execution_count": 222
        }
      ]
    },
    {
      "cell_type": "code",
      "source": [
        "df.info()"
      ],
      "metadata": {
        "id": "4O6DqOoECIgt",
        "colab": {
          "base_uri": "https://localhost:8080/"
        },
        "outputId": "3a1890bd-45ae-4a86-9bd0-3b554069bd64"
      },
      "execution_count": null,
      "outputs": [
        {
          "output_type": "stream",
          "name": "stdout",
          "text": [
            "<class 'pandas.core.frame.DataFrame'>\n",
            "RangeIndex: 15919 entries, 0 to 15918\n",
            "Data columns (total 54 columns):\n",
            " #   Column                         Non-Null Count  Dtype  \n",
            "---  ------                         --------------  -----  \n",
            " 0   url                            15919 non-null  object \n",
            " 1   make_model                     15919 non-null  object \n",
            " 2   short_description              15873 non-null  object \n",
            " 3   body_type                      15859 non-null  object \n",
            " 4   price                          15919 non-null  int64  \n",
            " 5   vat                            11406 non-null  object \n",
            " 6   km                             15919 non-null  object \n",
            " 7   registration                   15919 non-null  object \n",
            " 8   prev_owner                     9091 non-null   object \n",
            " 9   kW                             0 non-null      float64\n",
            " 10  hp                             15919 non-null  object \n",
            " 11  Type                           15917 non-null  object \n",
            " 12  Previous Owners                9279 non-null   object \n",
            " 13  Next Inspection                3535 non-null   object \n",
            " 14  Inspection new                 3932 non-null   object \n",
            " 15  Warranty                       10499 non-null  object \n",
            " 16  Full Service                   8215 non-null   object \n",
            " 17  Non-smoking Vehicle            7177 non-null   object \n",
            " 18  null                           15919 non-null  object \n",
            " 19  Make                           15919 non-null  object \n",
            " 20  Model                          15919 non-null  object \n",
            " 21  Offer Number                   12744 non-null  object \n",
            " 22  First Registration             14322 non-null  object \n",
            " 23  Body Color                     15322 non-null  object \n",
            " 24  Paint Type                     10147 non-null  object \n",
            " 25  Body Color Original            12160 non-null  object \n",
            " 26  Upholstery                     12199 non-null  object \n",
            " 27  Body                           15859 non-null  object \n",
            " 28  Nr. of Doors                   15707 non-null  object \n",
            " 29  Nr. of Seats                   14942 non-null  object \n",
            " 30  Model Code                     4978 non-null   object \n",
            " 31  Gearing Type                   15919 non-null  object \n",
            " 32  Displacement                   15423 non-null  object \n",
            " 33  Cylinders                      10239 non-null  object \n",
            " 34  Weight                         8945 non-null   object \n",
            " 35  Drive chain                    9061 non-null   object \n",
            " 36  Fuel                           15919 non-null  object \n",
            " 37  Consumption                    14013 non-null  object \n",
            " 38  CO2 Emission                   14111 non-null  object \n",
            " 39  Emission Class                 12898 non-null  object \n",
            " 40  Comfort_Convenience            14999 non-null  object \n",
            " 41  Entertainment_Media            14545 non-null  object \n",
            " 42  Extras                         12957 non-null  object \n",
            " 43  Safety_Security                14937 non-null  object \n",
            " 44  description                    15919 non-null  object \n",
            " 45  Emission Label                 3985 non-null   object \n",
            " 46  Gears                          11207 non-null  object \n",
            " 47  Country version                7586 non-null   object \n",
            " 48  Electricity consumption        137 non-null    object \n",
            " 49  Last Service Date              566 non-null    object \n",
            " 50  Other Fuel Types               880 non-null    object \n",
            " 51  Availability                   635 non-null    object \n",
            " 52  Last Timing Belt Service Date  16 non-null     object \n",
            " 53  Available from                 272 non-null    object \n",
            "dtypes: float64(1), int64(1), object(52)\n",
            "memory usage: 6.6+ MB\n"
          ]
        }
      ]
    },
    {
      "cell_type": "code",
      "source": [
        "df.shape"
      ],
      "metadata": {
        "colab": {
          "base_uri": "https://localhost:8080/"
        },
        "id": "Mv1qnR8u5jmF",
        "outputId": "9d4ba06a-ef17-48c7-80a4-6ec98e84123f"
      },
      "execution_count": null,
      "outputs": [
        {
          "output_type": "execute_result",
          "data": {
            "text/plain": [
              "(15919, 54)"
            ]
          },
          "metadata": {},
          "execution_count": 224
        }
      ]
    },
    {
      "cell_type": "code",
      "source": [
        "df.isnull().sum()"
      ],
      "metadata": {
        "colab": {
          "base_uri": "https://localhost:8080/"
        },
        "id": "TvuJmuJo5jqZ",
        "outputId": "198d2dc5-3fb0-4ce6-eb5d-ab659b0bcd07"
      },
      "execution_count": null,
      "outputs": [
        {
          "output_type": "execute_result",
          "data": {
            "text/plain": [
              "url                                  0\n",
              "make_model                           0\n",
              "short_description                   46\n",
              "body_type                           60\n",
              "price                                0\n",
              "vat                               4513\n",
              "km                                   0\n",
              "registration                         0\n",
              "prev_owner                        6828\n",
              "kW                               15919\n",
              "hp                                   0\n",
              "Type                                 2\n",
              "Previous Owners                   6640\n",
              "Next Inspection                  12384\n",
              "Inspection new                   11987\n",
              "Warranty                          5420\n",
              "Full Service                      7704\n",
              "Non-smoking Vehicle               8742\n",
              "null                                 0\n",
              "Make                                 0\n",
              "Model                                0\n",
              "Offer Number                      3175\n",
              "First Registration                1597\n",
              "Body Color                         597\n",
              "Paint Type                        5772\n",
              "Body Color Original               3759\n",
              "Upholstery                        3720\n",
              "Body                                60\n",
              "Nr. of Doors                       212\n",
              "Nr. of Seats                       977\n",
              "Model Code                       10941\n",
              "Gearing Type                         0\n",
              "Displacement                       496\n",
              "Cylinders                         5680\n",
              "Weight                            6974\n",
              "Drive chain                       6858\n",
              "Fuel                                 0\n",
              "Consumption                       1906\n",
              "CO2 Emission                      1808\n",
              "Emission Class                    3021\n",
              "Comfort_Convenience                920\n",
              "Entertainment_Media               1374\n",
              "Extras                            2962\n",
              "Safety_Security                    982\n",
              "description                          0\n",
              "Emission Label                   11934\n",
              "Gears                             4712\n",
              "Country version                   8333\n",
              "Electricity consumption          15782\n",
              "Last Service Date                15353\n",
              "Other Fuel Types                 15039\n",
              "Availability                     15284\n",
              "Last Timing Belt Service Date    15903\n",
              "Available from                   15647\n",
              "dtype: int64"
            ]
          },
          "metadata": {},
          "execution_count": 225
        }
      ]
    },
    {
      "cell_type": "code",
      "source": [
        "df.isnull().sum()*100 / df.shape[0]"
      ],
      "metadata": {
        "colab": {
          "base_uri": "https://localhost:8080/"
        },
        "id": "fmz_n8yE5jxr",
        "outputId": "cfb58785-eeca-4c71-ace4-4435bbfd86ee"
      },
      "execution_count": null,
      "outputs": [
        {
          "output_type": "execute_result",
          "data": {
            "text/plain": [
              "url                               0.00\n",
              "make_model                        0.00\n",
              "short_description                 0.29\n",
              "body_type                         0.38\n",
              "price                             0.00\n",
              "vat                              28.35\n",
              "km                                0.00\n",
              "registration                      0.00\n",
              "prev_owner                       42.89\n",
              "kW                              100.00\n",
              "hp                                0.00\n",
              "Type                              0.01\n",
              "Previous Owners                  41.71\n",
              "Next Inspection                  77.79\n",
              "Inspection new                   75.30\n",
              "Warranty                         34.05\n",
              "Full Service                     48.39\n",
              "Non-smoking Vehicle              54.92\n",
              "null                              0.00\n",
              "Make                              0.00\n",
              "Model                             0.00\n",
              "Offer Number                     19.94\n",
              "First Registration               10.03\n",
              "Body Color                        3.75\n",
              "Paint Type                       36.26\n",
              "Body Color Original              23.61\n",
              "Upholstery                       23.37\n",
              "Body                              0.38\n",
              "Nr. of Doors                      1.33\n",
              "Nr. of Seats                      6.14\n",
              "Model Code                       68.73\n",
              "Gearing Type                      0.00\n",
              "Displacement                      3.12\n",
              "Cylinders                        35.68\n",
              "Weight                           43.81\n",
              "Drive chain                      43.08\n",
              "Fuel                              0.00\n",
              "Consumption                      11.97\n",
              "CO2 Emission                     11.36\n",
              "Emission Class                   18.98\n",
              "Comfort_Convenience               5.78\n",
              "Entertainment_Media               8.63\n",
              "Extras                           18.61\n",
              "Safety_Security                   6.17\n",
              "description                       0.00\n",
              "Emission Label                   74.97\n",
              "Gears                            29.60\n",
              "Country version                  52.35\n",
              "Electricity consumption          99.14\n",
              "Last Service Date                96.44\n",
              "Other Fuel Types                 94.47\n",
              "Availability                     96.01\n",
              "Last Timing Belt Service Date    99.90\n",
              "Available from                   98.29\n",
              "dtype: float64"
            ]
          },
          "metadata": {},
          "execution_count": 226
        }
      ]
    },
    {
      "cell_type": "code",
      "source": [
        "def df_nans(df, limit):\n",
        "    missing = df.isnull().sum()*100 / df.shape[0]\n",
        "    return missing.loc[lambda x : x >= limit]\n",
        "\n",
        "def column_nans(serial):\n",
        "    # display percentage of nans in a Series\n",
        "    return serial.isnull().sum()*100 / serial.shape[0]"
      ],
      "metadata": {
        "id": "vjVWxrwX5j01"
      },
      "execution_count": null,
      "outputs": []
    },
    {
      "cell_type": "code",
      "source": [
        "df_nans(df, 90)"
      ],
      "metadata": {
        "colab": {
          "base_uri": "https://localhost:8080/"
        },
        "id": "0y8yRmi05j31",
        "outputId": "8161ebfc-e540-42de-fce8-8c8b53d4a4e9"
      },
      "execution_count": null,
      "outputs": [
        {
          "output_type": "execute_result",
          "data": {
            "text/plain": [
              "kW                              100.00\n",
              "Electricity consumption          99.14\n",
              "Last Service Date                96.44\n",
              "Other Fuel Types                 94.47\n",
              "Availability                     96.01\n",
              "Last Timing Belt Service Date    99.90\n",
              "Available from                   98.29\n",
              "dtype: float64"
            ]
          },
          "metadata": {},
          "execution_count": 228
        }
      ]
    },
    {
      "cell_type": "code",
      "source": [
        "column_nans(df[\"Electricity consumption\"])"
      ],
      "metadata": {
        "colab": {
          "base_uri": "https://localhost:8080/"
        },
        "id": "ev0gt55b5iJV",
        "outputId": "1db3be00-af53-4c1f-e84b-175b1f330915"
      },
      "execution_count": null,
      "outputs": [
        {
          "output_type": "execute_result",
          "data": {
            "text/plain": [
              "99.13939317796344"
            ]
          },
          "metadata": {},
          "execution_count": 229
        }
      ]
    },
    {
      "cell_type": "code",
      "source": [
        "drop_columns = df_nans(df, 90).index\n",
        "drop_columns"
      ],
      "metadata": {
        "colab": {
          "base_uri": "https://localhost:8080/"
        },
        "id": "-M5IVnEa5iTr",
        "outputId": "d74283b7-a1d3-4ca4-ebaa-17f217e5affc"
      },
      "execution_count": null,
      "outputs": [
        {
          "output_type": "execute_result",
          "data": {
            "text/plain": [
              "Index(['kW', 'Electricity consumption', 'Last Service Date',\n",
              "       'Other Fuel Types', 'Availability', 'Last Timing Belt Service Date',\n",
              "       'Available from'],\n",
              "      dtype='object')"
            ]
          },
          "metadata": {},
          "execution_count": 230
        }
      ]
    },
    {
      "cell_type": "code",
      "source": [
        "df.drop(drop_columns, axis=1, inplace=True)"
      ],
      "metadata": {
        "id": "xOZ1riiF5ien"
      },
      "execution_count": null,
      "outputs": []
    },
    {
      "cell_type": "code",
      "source": [
        "df.columns"
      ],
      "metadata": {
        "colab": {
          "base_uri": "https://localhost:8080/"
        },
        "id": "ji9NsPNe5ikY",
        "outputId": "3d1c65ea-76d6-4747-a88d-740cc18f8e55"
      },
      "execution_count": null,
      "outputs": [
        {
          "output_type": "execute_result",
          "data": {
            "text/plain": [
              "Index(['url', 'make_model', 'short_description', 'body_type', 'price', 'vat',\n",
              "       'km', 'registration', 'prev_owner', 'hp', 'Type', 'Previous Owners',\n",
              "       'Next Inspection', 'Inspection new', 'Warranty', 'Full Service',\n",
              "       'Non-smoking Vehicle', 'null', 'Make', 'Model', 'Offer Number',\n",
              "       'First Registration', 'Body Color', 'Paint Type', 'Body Color Original',\n",
              "       'Upholstery', 'Body', 'Nr. of Doors', 'Nr. of Seats', 'Model Code',\n",
              "       'Gearing Type', 'Displacement', 'Cylinders', 'Weight', 'Drive chain',\n",
              "       'Fuel', 'Consumption', 'CO2 Emission', 'Emission Class',\n",
              "       'Comfort_Convenience', 'Entertainment_Media', 'Extras',\n",
              "       'Safety_Security', 'description', 'Emission Label', 'Gears',\n",
              "       'Country version'],\n",
              "      dtype='object')"
            ]
          },
          "metadata": {},
          "execution_count": 232
        }
      ]
    },
    {
      "cell_type": "code",
      "source": [
        "df.drop(\"null\", axis=1, inplace=True)"
      ],
      "metadata": {
        "id": "smX9Fvb25isI"
      },
      "execution_count": null,
      "outputs": []
    },
    {
      "cell_type": "code",
      "source": [
        "df.head(3)"
      ],
      "metadata": {
        "colab": {
          "base_uri": "https://localhost:8080/",
          "height": 468
        },
        "id": "uwJZ4o6M5ivG",
        "outputId": "cef77f1e-923c-4f1e-841f-d475a72edcce"
      },
      "execution_count": null,
      "outputs": [
        {
          "output_type": "execute_result",
          "data": {
            "text/plain": [
              "                                                 url make_model  \\\n",
              "0  https://www.autoscout24.com//offers/audi-a1-sp...    Audi A1   \n",
              "1  https://www.autoscout24.com//offers/audi-a1-1-...    Audi A1   \n",
              "2  https://www.autoscout24.com//offers/audi-a1-sp...    Audi A1   \n",
              "\n",
              "                                   short_description body_type  price  \\\n",
              "0        Sportback 1.4 TDI S-tronic Xenon Navi Klima    Sedans  15770   \n",
              "1                                     1.8 TFSI sport    Sedans  14500   \n",
              "2  Sportback 1.6 TDI S tronic Einparkhilfe plus+m...    Sedans  14640   \n",
              "\n",
              "                vat         km registration         prev_owner      hp  \\\n",
              "0    VAT deductible  56,013 km      01/2016  2 previous owners   66 kW   \n",
              "1  Price negotiable  80,000 km      03/2017               None  141 kW   \n",
              "2    VAT deductible  83,450 km      02/2016   1 previous owner   85 kW   \n",
              "\n",
              "                                      Type Previous Owners  \\\n",
              "0  [, Used, , Diesel (Particulate Filter)]           \\n2\\n   \n",
              "1                     [, Used, , Gasoline]             NaN   \n",
              "2  [, Used, , Diesel (Particulate Filter)]           \\n1\\n   \n",
              "\n",
              "                         Next Inspection         Inspection new  \\\n",
              "0  [\\n06/2021\\n, \\n99 g CO2/km (comb)\\n]  [\\nYes\\n, \\nEuro 6\\n]   \n",
              "1                                    NaN                    NaN   \n",
              "2                                    NaN                    NaN   \n",
              "\n",
              "                           Warranty Full Service Non-smoking Vehicle  \\\n",
              "0           [\\n, \\n, \\n4 (Green)\\n]     [\\n, \\n]            [\\n, \\n]   \n",
              "1                               NaN          NaN                 NaN   \n",
              "2  [\\n, \\n, \\n99 g CO2/km (comb)\\n]          NaN                 NaN   \n",
              "\n",
              "       Make         Model     Offer Number First Registration  \\\n",
              "0  \\nAudi\\n  [\\n, A1, \\n]  [\\nLR-062483\\n]     [\\n, 2016, \\n]   \n",
              "1  \\nAudi\\n  [\\n, A1, \\n]              NaN     [\\n, 2017, \\n]   \n",
              "2  \\nAudi\\n  [\\n, A1, \\n]   [\\nAM-95365\\n]     [\\n, 2016, \\n]   \n",
              "\n",
              "        Body Color      Paint Type           Body Color Original  \\\n",
              "0  [\\n, Black, \\n]  [\\nMetallic\\n]           [\\nMythosschwarz\\n]   \n",
              "1    [\\n, Red, \\n]             NaN                           NaN   \n",
              "2  [\\n, Black, \\n]  [\\nMetallic\\n]  [\\nmythosschwarz metallic\\n]   \n",
              "\n",
              "           Upholstery              Body Nr. of Doors Nr. of Seats  \\\n",
              "0  [\\nCloth, Black\\n]  [\\n, Sedans, \\n]      [\\n5\\n]      [\\n5\\n]   \n",
              "1   [\\nCloth, Grey\\n]  [\\n, Sedans, \\n]      [\\n3\\n]      [\\n4\\n]   \n",
              "2  [\\nCloth, Black\\n]  [\\n, Sedans, \\n]      [\\n4\\n]      [\\n4\\n]   \n",
              "\n",
              "       Model Code         Gearing Type    Displacement Cylinders  \\\n",
              "0  [\\n0588/BDF\\n]  [\\n, Automatic, \\n]  [\\n1,422 cc\\n]   [\\n3\\n]   \n",
              "1  [\\n0588/BCY\\n]  [\\n, Automatic, \\n]  [\\n1,798 cc\\n]   [\\n4\\n]   \n",
              "2             NaN  [\\n, Automatic, \\n]  [\\n1,598 cc\\n]       NaN   \n",
              "\n",
              "           Weight  Drive chain                                   Fuel  \\\n",
              "0  [\\n1,220 kg\\n]  [\\nfront\\n]  [\\n, Diesel (Particulate Filter), \\n]   \n",
              "1  [\\n1,255 kg\\n]  [\\nfront\\n]                     [\\n, Gasoline, \\n]   \n",
              "2             NaN  [\\nfront\\n]  [\\n, Diesel (Particulate Filter), \\n]   \n",
              "\n",
              "                                         Consumption  \\\n",
              "0  [[3.8 l/100 km (comb)], [4.3 l/100 km (city)],...   \n",
              "1  [[5.6 l/100 km (comb)], [7.1 l/100 km (city)],...   \n",
              "2  [[3.8 l/100 km (comb)], [4.4 l/100 km (city)],...   \n",
              "\n",
              "                CO2 Emission Emission Class  \\\n",
              "0   [\\n99 g CO2/km (comb)\\n]   [\\nEuro 6\\n]   \n",
              "1  [\\n129 g CO2/km (comb)\\n]   [\\nEuro 6\\n]   \n",
              "2   [\\n99 g CO2/km (comb)\\n]   [\\nEuro 6\\n]   \n",
              "\n",
              "                                 Comfort_Convenience  \\\n",
              "0  [Air conditioning, Armrest, Automatic climate ...   \n",
              "1  [Air conditioning, Automatic climate control, ...   \n",
              "2  [Air conditioning, Cruise control, Electrical ...   \n",
              "\n",
              "                                 Entertainment_Media  \\\n",
              "0  [Bluetooth, Hands-free equipment, On-board com...   \n",
              "1  [Bluetooth, Hands-free equipment, On-board com...   \n",
              "2                           [MP3, On-board computer]   \n",
              "\n",
              "                                              Extras  \\\n",
              "0  [Alloy wheels, Catalytic Converter, Voice Cont...   \n",
              "1  [Alloy wheels, Sport seats, Sport suspension, ...   \n",
              "2                      [Alloy wheels, Voice Control]   \n",
              "\n",
              "                                     Safety_Security  \\\n",
              "0  [ABS, Central door lock, Daytime running light...   \n",
              "1  [ABS, Central door lock, Central door lock wit...   \n",
              "2  [ABS, Central door lock, Daytime running light...   \n",
              "\n",
              "                                         description   Emission Label  \\\n",
              "0  [\\n, Sicherheit:,  , Deaktivierung für Beifahr...              NaN   \n",
              "1  [\\nLangstreckenfahrzeug daher die hohe Kilomet...  [\\n4 (Green)\\n]   \n",
              "2  [\\n, Fahrzeug-Nummer: AM-95365,  , Ehem. UPE 2...  [\\n4 (Green)\\n]   \n",
              "\n",
              "     Gears Country version  \n",
              "0      NaN             NaN  \n",
              "1  [\\n7\\n]             NaN  \n",
              "2      NaN             NaN  "
            ],
            "text/html": [
              "\n",
              "  <div id=\"df-93750dbf-f394-4f59-9ac3-255832f92196\">\n",
              "    <div class=\"colab-df-container\">\n",
              "      <div>\n",
              "<style scoped>\n",
              "    .dataframe tbody tr th:only-of-type {\n",
              "        vertical-align: middle;\n",
              "    }\n",
              "\n",
              "    .dataframe tbody tr th {\n",
              "        vertical-align: top;\n",
              "    }\n",
              "\n",
              "    .dataframe thead th {\n",
              "        text-align: right;\n",
              "    }\n",
              "</style>\n",
              "<table border=\"1\" class=\"dataframe\">\n",
              "  <thead>\n",
              "    <tr style=\"text-align: right;\">\n",
              "      <th></th>\n",
              "      <th>url</th>\n",
              "      <th>make_model</th>\n",
              "      <th>short_description</th>\n",
              "      <th>body_type</th>\n",
              "      <th>price</th>\n",
              "      <th>vat</th>\n",
              "      <th>km</th>\n",
              "      <th>registration</th>\n",
              "      <th>prev_owner</th>\n",
              "      <th>hp</th>\n",
              "      <th>Type</th>\n",
              "      <th>Previous Owners</th>\n",
              "      <th>Next Inspection</th>\n",
              "      <th>Inspection new</th>\n",
              "      <th>Warranty</th>\n",
              "      <th>Full Service</th>\n",
              "      <th>Non-smoking Vehicle</th>\n",
              "      <th>Make</th>\n",
              "      <th>Model</th>\n",
              "      <th>Offer Number</th>\n",
              "      <th>First Registration</th>\n",
              "      <th>Body Color</th>\n",
              "      <th>Paint Type</th>\n",
              "      <th>Body Color Original</th>\n",
              "      <th>Upholstery</th>\n",
              "      <th>Body</th>\n",
              "      <th>Nr. of Doors</th>\n",
              "      <th>Nr. of Seats</th>\n",
              "      <th>Model Code</th>\n",
              "      <th>Gearing Type</th>\n",
              "      <th>Displacement</th>\n",
              "      <th>Cylinders</th>\n",
              "      <th>Weight</th>\n",
              "      <th>Drive chain</th>\n",
              "      <th>Fuel</th>\n",
              "      <th>Consumption</th>\n",
              "      <th>CO2 Emission</th>\n",
              "      <th>Emission Class</th>\n",
              "      <th>Comfort_Convenience</th>\n",
              "      <th>Entertainment_Media</th>\n",
              "      <th>Extras</th>\n",
              "      <th>Safety_Security</th>\n",
              "      <th>description</th>\n",
              "      <th>Emission Label</th>\n",
              "      <th>Gears</th>\n",
              "      <th>Country version</th>\n",
              "    </tr>\n",
              "  </thead>\n",
              "  <tbody>\n",
              "    <tr>\n",
              "      <th>0</th>\n",
              "      <td>https://www.autoscout24.com//offers/audi-a1-sp...</td>\n",
              "      <td>Audi A1</td>\n",
              "      <td>Sportback 1.4 TDI S-tronic Xenon Navi Klima</td>\n",
              "      <td>Sedans</td>\n",
              "      <td>15770</td>\n",
              "      <td>VAT deductible</td>\n",
              "      <td>56,013 km</td>\n",
              "      <td>01/2016</td>\n",
              "      <td>2 previous owners</td>\n",
              "      <td>66 kW</td>\n",
              "      <td>[, Used, , Diesel (Particulate Filter)]</td>\n",
              "      <td>\\n2\\n</td>\n",
              "      <td>[\\n06/2021\\n, \\n99 g CO2/km (comb)\\n]</td>\n",
              "      <td>[\\nYes\\n, \\nEuro 6\\n]</td>\n",
              "      <td>[\\n, \\n, \\n4 (Green)\\n]</td>\n",
              "      <td>[\\n, \\n]</td>\n",
              "      <td>[\\n, \\n]</td>\n",
              "      <td>\\nAudi\\n</td>\n",
              "      <td>[\\n, A1, \\n]</td>\n",
              "      <td>[\\nLR-062483\\n]</td>\n",
              "      <td>[\\n, 2016, \\n]</td>\n",
              "      <td>[\\n, Black, \\n]</td>\n",
              "      <td>[\\nMetallic\\n]</td>\n",
              "      <td>[\\nMythosschwarz\\n]</td>\n",
              "      <td>[\\nCloth, Black\\n]</td>\n",
              "      <td>[\\n, Sedans, \\n]</td>\n",
              "      <td>[\\n5\\n]</td>\n",
              "      <td>[\\n5\\n]</td>\n",
              "      <td>[\\n0588/BDF\\n]</td>\n",
              "      <td>[\\n, Automatic, \\n]</td>\n",
              "      <td>[\\n1,422 cc\\n]</td>\n",
              "      <td>[\\n3\\n]</td>\n",
              "      <td>[\\n1,220 kg\\n]</td>\n",
              "      <td>[\\nfront\\n]</td>\n",
              "      <td>[\\n, Diesel (Particulate Filter), \\n]</td>\n",
              "      <td>[[3.8 l/100 km (comb)], [4.3 l/100 km (city)],...</td>\n",
              "      <td>[\\n99 g CO2/km (comb)\\n]</td>\n",
              "      <td>[\\nEuro 6\\n]</td>\n",
              "      <td>[Air conditioning, Armrest, Automatic climate ...</td>\n",
              "      <td>[Bluetooth, Hands-free equipment, On-board com...</td>\n",
              "      <td>[Alloy wheels, Catalytic Converter, Voice Cont...</td>\n",
              "      <td>[ABS, Central door lock, Daytime running light...</td>\n",
              "      <td>[\\n, Sicherheit:,  , Deaktivierung für Beifahr...</td>\n",
              "      <td>NaN</td>\n",
              "      <td>NaN</td>\n",
              "      <td>NaN</td>\n",
              "    </tr>\n",
              "    <tr>\n",
              "      <th>1</th>\n",
              "      <td>https://www.autoscout24.com//offers/audi-a1-1-...</td>\n",
              "      <td>Audi A1</td>\n",
              "      <td>1.8 TFSI sport</td>\n",
              "      <td>Sedans</td>\n",
              "      <td>14500</td>\n",
              "      <td>Price negotiable</td>\n",
              "      <td>80,000 km</td>\n",
              "      <td>03/2017</td>\n",
              "      <td>None</td>\n",
              "      <td>141 kW</td>\n",
              "      <td>[, Used, , Gasoline]</td>\n",
              "      <td>NaN</td>\n",
              "      <td>NaN</td>\n",
              "      <td>NaN</td>\n",
              "      <td>NaN</td>\n",
              "      <td>NaN</td>\n",
              "      <td>NaN</td>\n",
              "      <td>\\nAudi\\n</td>\n",
              "      <td>[\\n, A1, \\n]</td>\n",
              "      <td>NaN</td>\n",
              "      <td>[\\n, 2017, \\n]</td>\n",
              "      <td>[\\n, Red, \\n]</td>\n",
              "      <td>NaN</td>\n",
              "      <td>NaN</td>\n",
              "      <td>[\\nCloth, Grey\\n]</td>\n",
              "      <td>[\\n, Sedans, \\n]</td>\n",
              "      <td>[\\n3\\n]</td>\n",
              "      <td>[\\n4\\n]</td>\n",
              "      <td>[\\n0588/BCY\\n]</td>\n",
              "      <td>[\\n, Automatic, \\n]</td>\n",
              "      <td>[\\n1,798 cc\\n]</td>\n",
              "      <td>[\\n4\\n]</td>\n",
              "      <td>[\\n1,255 kg\\n]</td>\n",
              "      <td>[\\nfront\\n]</td>\n",
              "      <td>[\\n, Gasoline, \\n]</td>\n",
              "      <td>[[5.6 l/100 km (comb)], [7.1 l/100 km (city)],...</td>\n",
              "      <td>[\\n129 g CO2/km (comb)\\n]</td>\n",
              "      <td>[\\nEuro 6\\n]</td>\n",
              "      <td>[Air conditioning, Automatic climate control, ...</td>\n",
              "      <td>[Bluetooth, Hands-free equipment, On-board com...</td>\n",
              "      <td>[Alloy wheels, Sport seats, Sport suspension, ...</td>\n",
              "      <td>[ABS, Central door lock, Central door lock wit...</td>\n",
              "      <td>[\\nLangstreckenfahrzeug daher die hohe Kilomet...</td>\n",
              "      <td>[\\n4 (Green)\\n]</td>\n",
              "      <td>[\\n7\\n]</td>\n",
              "      <td>NaN</td>\n",
              "    </tr>\n",
              "    <tr>\n",
              "      <th>2</th>\n",
              "      <td>https://www.autoscout24.com//offers/audi-a1-sp...</td>\n",
              "      <td>Audi A1</td>\n",
              "      <td>Sportback 1.6 TDI S tronic Einparkhilfe plus+m...</td>\n",
              "      <td>Sedans</td>\n",
              "      <td>14640</td>\n",
              "      <td>VAT deductible</td>\n",
              "      <td>83,450 km</td>\n",
              "      <td>02/2016</td>\n",
              "      <td>1 previous owner</td>\n",
              "      <td>85 kW</td>\n",
              "      <td>[, Used, , Diesel (Particulate Filter)]</td>\n",
              "      <td>\\n1\\n</td>\n",
              "      <td>NaN</td>\n",
              "      <td>NaN</td>\n",
              "      <td>[\\n, \\n, \\n99 g CO2/km (comb)\\n]</td>\n",
              "      <td>NaN</td>\n",
              "      <td>NaN</td>\n",
              "      <td>\\nAudi\\n</td>\n",
              "      <td>[\\n, A1, \\n]</td>\n",
              "      <td>[\\nAM-95365\\n]</td>\n",
              "      <td>[\\n, 2016, \\n]</td>\n",
              "      <td>[\\n, Black, \\n]</td>\n",
              "      <td>[\\nMetallic\\n]</td>\n",
              "      <td>[\\nmythosschwarz metallic\\n]</td>\n",
              "      <td>[\\nCloth, Black\\n]</td>\n",
              "      <td>[\\n, Sedans, \\n]</td>\n",
              "      <td>[\\n4\\n]</td>\n",
              "      <td>[\\n4\\n]</td>\n",
              "      <td>NaN</td>\n",
              "      <td>[\\n, Automatic, \\n]</td>\n",
              "      <td>[\\n1,598 cc\\n]</td>\n",
              "      <td>NaN</td>\n",
              "      <td>NaN</td>\n",
              "      <td>[\\nfront\\n]</td>\n",
              "      <td>[\\n, Diesel (Particulate Filter), \\n]</td>\n",
              "      <td>[[3.8 l/100 km (comb)], [4.4 l/100 km (city)],...</td>\n",
              "      <td>[\\n99 g CO2/km (comb)\\n]</td>\n",
              "      <td>[\\nEuro 6\\n]</td>\n",
              "      <td>[Air conditioning, Cruise control, Electrical ...</td>\n",
              "      <td>[MP3, On-board computer]</td>\n",
              "      <td>[Alloy wheels, Voice Control]</td>\n",
              "      <td>[ABS, Central door lock, Daytime running light...</td>\n",
              "      <td>[\\n, Fahrzeug-Nummer: AM-95365,  , Ehem. UPE 2...</td>\n",
              "      <td>[\\n4 (Green)\\n]</td>\n",
              "      <td>NaN</td>\n",
              "      <td>NaN</td>\n",
              "    </tr>\n",
              "  </tbody>\n",
              "</table>\n",
              "</div>\n",
              "      <button class=\"colab-df-convert\" onclick=\"convertToInteractive('df-93750dbf-f394-4f59-9ac3-255832f92196')\"\n",
              "              title=\"Convert this dataframe to an interactive table.\"\n",
              "              style=\"display:none;\">\n",
              "        \n",
              "  <svg xmlns=\"http://www.w3.org/2000/svg\" height=\"24px\"viewBox=\"0 0 24 24\"\n",
              "       width=\"24px\">\n",
              "    <path d=\"M0 0h24v24H0V0z\" fill=\"none\"/>\n",
              "    <path d=\"M18.56 5.44l.94 2.06.94-2.06 2.06-.94-2.06-.94-.94-2.06-.94 2.06-2.06.94zm-11 1L8.5 8.5l.94-2.06 2.06-.94-2.06-.94L8.5 2.5l-.94 2.06-2.06.94zm10 10l.94 2.06.94-2.06 2.06-.94-2.06-.94-.94-2.06-.94 2.06-2.06.94z\"/><path d=\"M17.41 7.96l-1.37-1.37c-.4-.4-.92-.59-1.43-.59-.52 0-1.04.2-1.43.59L10.3 9.45l-7.72 7.72c-.78.78-.78 2.05 0 2.83L4 21.41c.39.39.9.59 1.41.59.51 0 1.02-.2 1.41-.59l7.78-7.78 2.81-2.81c.8-.78.8-2.07 0-2.86zM5.41 20L4 18.59l7.72-7.72 1.47 1.35L5.41 20z\"/>\n",
              "  </svg>\n",
              "      </button>\n",
              "      \n",
              "  <style>\n",
              "    .colab-df-container {\n",
              "      display:flex;\n",
              "      flex-wrap:wrap;\n",
              "      gap: 12px;\n",
              "    }\n",
              "\n",
              "    .colab-df-convert {\n",
              "      background-color: #E8F0FE;\n",
              "      border: none;\n",
              "      border-radius: 50%;\n",
              "      cursor: pointer;\n",
              "      display: none;\n",
              "      fill: #1967D2;\n",
              "      height: 32px;\n",
              "      padding: 0 0 0 0;\n",
              "      width: 32px;\n",
              "    }\n",
              "\n",
              "    .colab-df-convert:hover {\n",
              "      background-color: #E2EBFA;\n",
              "      box-shadow: 0px 1px 2px rgba(60, 64, 67, 0.3), 0px 1px 3px 1px rgba(60, 64, 67, 0.15);\n",
              "      fill: #174EA6;\n",
              "    }\n",
              "\n",
              "    [theme=dark] .colab-df-convert {\n",
              "      background-color: #3B4455;\n",
              "      fill: #D2E3FC;\n",
              "    }\n",
              "\n",
              "    [theme=dark] .colab-df-convert:hover {\n",
              "      background-color: #434B5C;\n",
              "      box-shadow: 0px 1px 3px 1px rgba(0, 0, 0, 0.15);\n",
              "      filter: drop-shadow(0px 1px 2px rgba(0, 0, 0, 0.3));\n",
              "      fill: #FFFFFF;\n",
              "    }\n",
              "  </style>\n",
              "\n",
              "      <script>\n",
              "        const buttonEl =\n",
              "          document.querySelector('#df-93750dbf-f394-4f59-9ac3-255832f92196 button.colab-df-convert');\n",
              "        buttonEl.style.display =\n",
              "          google.colab.kernel.accessAllowed ? 'block' : 'none';\n",
              "\n",
              "        async function convertToInteractive(key) {\n",
              "          const element = document.querySelector('#df-93750dbf-f394-4f59-9ac3-255832f92196');\n",
              "          const dataTable =\n",
              "            await google.colab.kernel.invokeFunction('convertToInteractive',\n",
              "                                                     [key], {});\n",
              "          if (!dataTable) return;\n",
              "\n",
              "          const docLinkHtml = 'Like what you see? Visit the ' +\n",
              "            '<a target=\"_blank\" href=https://colab.research.google.com/notebooks/data_table.ipynb>data table notebook</a>'\n",
              "            + ' to learn more about interactive tables.';\n",
              "          element.innerHTML = '';\n",
              "          dataTable['output_type'] = 'display_data';\n",
              "          await google.colab.output.renderOutput(dataTable, element);\n",
              "          const docLink = document.createElement('div');\n",
              "          docLink.innerHTML = docLinkHtml;\n",
              "          element.appendChild(docLink);\n",
              "        }\n",
              "      </script>\n",
              "    </div>\n",
              "  </div>\n",
              "  "
            ]
          },
          "metadata": {},
          "execution_count": 234
        }
      ]
    },
    {
      "cell_type": "code",
      "source": [
        "df.info()"
      ],
      "metadata": {
        "colab": {
          "base_uri": "https://localhost:8080/"
        },
        "id": "ZUgo3PFD5iyv",
        "outputId": "119df569-2686-4e3d-a67a-947da6a11169"
      },
      "execution_count": null,
      "outputs": [
        {
          "output_type": "stream",
          "name": "stdout",
          "text": [
            "<class 'pandas.core.frame.DataFrame'>\n",
            "RangeIndex: 15919 entries, 0 to 15918\n",
            "Data columns (total 46 columns):\n",
            " #   Column               Non-Null Count  Dtype \n",
            "---  ------               --------------  ----- \n",
            " 0   url                  15919 non-null  object\n",
            " 1   make_model           15919 non-null  object\n",
            " 2   short_description    15873 non-null  object\n",
            " 3   body_type            15859 non-null  object\n",
            " 4   price                15919 non-null  int64 \n",
            " 5   vat                  11406 non-null  object\n",
            " 6   km                   15919 non-null  object\n",
            " 7   registration         15919 non-null  object\n",
            " 8   prev_owner           9091 non-null   object\n",
            " 9   hp                   15919 non-null  object\n",
            " 10  Type                 15917 non-null  object\n",
            " 11  Previous Owners      9279 non-null   object\n",
            " 12  Next Inspection      3535 non-null   object\n",
            " 13  Inspection new       3932 non-null   object\n",
            " 14  Warranty             10499 non-null  object\n",
            " 15  Full Service         8215 non-null   object\n",
            " 16  Non-smoking Vehicle  7177 non-null   object\n",
            " 17  Make                 15919 non-null  object\n",
            " 18  Model                15919 non-null  object\n",
            " 19  Offer Number         12744 non-null  object\n",
            " 20  First Registration   14322 non-null  object\n",
            " 21  Body Color           15322 non-null  object\n",
            " 22  Paint Type           10147 non-null  object\n",
            " 23  Body Color Original  12160 non-null  object\n",
            " 24  Upholstery           12199 non-null  object\n",
            " 25  Body                 15859 non-null  object\n",
            " 26  Nr. of Doors         15707 non-null  object\n",
            " 27  Nr. of Seats         14942 non-null  object\n",
            " 28  Model Code           4978 non-null   object\n",
            " 29  Gearing Type         15919 non-null  object\n",
            " 30  Displacement         15423 non-null  object\n",
            " 31  Cylinders            10239 non-null  object\n",
            " 32  Weight               8945 non-null   object\n",
            " 33  Drive chain          9061 non-null   object\n",
            " 34  Fuel                 15919 non-null  object\n",
            " 35  Consumption          14013 non-null  object\n",
            " 36  CO2 Emission         14111 non-null  object\n",
            " 37  Emission Class       12898 non-null  object\n",
            " 38  Comfort_Convenience  14999 non-null  object\n",
            " 39  Entertainment_Media  14545 non-null  object\n",
            " 40  Extras               12957 non-null  object\n",
            " 41  Safety_Security      14937 non-null  object\n",
            " 42  description          15919 non-null  object\n",
            " 43  Emission Label       3985 non-null   object\n",
            " 44  Gears                11207 non-null  object\n",
            " 45  Country version      7586 non-null   object\n",
            "dtypes: int64(1), object(45)\n",
            "memory usage: 5.6+ MB\n"
          ]
        }
      ]
    },
    {
      "cell_type": "code",
      "source": [
        "## Examine and clean all the columns/features one by one"
      ],
      "metadata": {
        "id": "0gJOe8pF5i18"
      },
      "execution_count": null,
      "outputs": []
    },
    {
      "cell_type": "code",
      "source": [
        "#url"
      ],
      "metadata": {
        "id": "5rmKNPXB5i5P"
      },
      "execution_count": null,
      "outputs": []
    },
    {
      "cell_type": "code",
      "source": [
        "df.url.value_counts(dropna=False)"
      ],
      "metadata": {
        "id": "qDcjcSZqCIjH",
        "colab": {
          "base_uri": "https://localhost:8080/"
        },
        "outputId": "b4397c5c-7fec-4c74-922f-ddd6b6a12546"
      },
      "execution_count": null,
      "outputs": [
        {
          "output_type": "execute_result",
          "data": {
            "text/plain": [
              "https://www.autoscout24.com//offers/audi-a1-sportback-1-4-tdi-s-tronic-xenon-navi-klima-diesel-black-bdab349a-caa5-41b0-98eb-c1345b84445e                  1\n",
              "https://www.autoscout24.com//offers/opel-insignia-bus-inno-2-0-cdti-aut-navi-bi-xe-led-e6-diesel-black-8710b253-dd98-4ed0-9d46-cbad2d79532b                1\n",
              "https://www.autoscout24.com//offers/opel-insignia-sport-tourer-opel-sport-tourer-1-6-cdti-136-ch-a-c-diesel-silver-10b7463b-9f56-4348-af35-df3432b2b585    1\n",
              "https://www.autoscout24.com//offers/opel-insignia-2-0cdti-st-business-innovation-navi-bt-diesel-black-ba5a3368-dedc-4e51-9127-3976b26e93c2                 1\n",
              "https://www.autoscout24.com//offers/opel-insignia-sport-tourer-opel-sport-tourer-1-6-cdti-136-ch-a-c-diesel-silver-7b52f054-78d3-4d5e-9370-8a7d081d7edd    1\n",
              "                                                                                                                                                          ..\n",
              "https://www.autoscout24.com//offers/audi-a3-sb-30-1-6-tdi-business-116cv-s-tronic-diesel-black-cf50f7b1-4d7b-466f-93a2-4e11ec0b4107                        1\n",
              "https://www.autoscout24.com//offers/audi-a3-sb-30-1-6-tdi-business-116cv-s-tronic-diesel-grey-3f47eb34-15c4-4763-860d-78fcbbd2c9ff                         1\n",
              "https://www.autoscout24.com//offers/audi-a3-sb-30-1-6-tdi-business-116cv-s-tronic-diesel-silver-f7a4bc95-b2ef-4bac-9497-6bcbcd05db0b                       1\n",
              "https://www.autoscout24.com//offers/audi-a3-sb-30-1-6-tdi-business-116cv-s-tronic-diesel-silver-1c94c7a2-67b5-49ca-ae42-42a6800fb3f5                       1\n",
              "https://www.autoscout24.com//offers/renault-espace-initiale-paris-tce-225-edc-gpf-navi-shz-aux-gasoline-grey-0bd690d9-7e93-4cab-bc5a-9d5b63402481          1\n",
              "Name: url, Length: 15919, dtype: int64"
            ]
          },
          "metadata": {},
          "execution_count": 238
        }
      ]
    },
    {
      "cell_type": "code",
      "source": [
        "df.drop(\"url\", axis=1, inplace=True)"
      ],
      "metadata": {
        "id": "N_Zqlsmse6xR"
      },
      "execution_count": null,
      "outputs": []
    },
    {
      "cell_type": "code",
      "source": [
        "#make_model"
      ],
      "metadata": {
        "id": "4S3m_42D-Hl3"
      },
      "execution_count": null,
      "outputs": []
    },
    {
      "cell_type": "code",
      "source": [
        "df.make_model.value_counts(dropna=False)"
      ],
      "metadata": {
        "colab": {
          "base_uri": "https://localhost:8080/"
        },
        "id": "1eRBRx2U-Kz9",
        "outputId": "8c84de78-39f2-446b-d7e2-6cf85b24ce90"
      },
      "execution_count": null,
      "outputs": [
        {
          "output_type": "execute_result",
          "data": {
            "text/plain": [
              "Audi A3           3097\n",
              "Audi A1           2614\n",
              "Opel Insignia     2598\n",
              "Opel Astra        2526\n",
              "Opel Corsa        2219\n",
              "Renault Clio      1839\n",
              "Renault Espace     991\n",
              "Renault Duster      34\n",
              "Audi A2              1\n",
              "Name: make_model, dtype: int64"
            ]
          },
          "metadata": {},
          "execution_count": 241
        }
      ]
    },
    {
      "cell_type": "code",
      "source": [
        "#Make"
      ],
      "metadata": {
        "id": "HZRMUWdl-K3s"
      },
      "execution_count": null,
      "outputs": []
    },
    {
      "cell_type": "code",
      "source": [
        "df.Make.value_counts(dropna=False)"
      ],
      "metadata": {
        "colab": {
          "base_uri": "https://localhost:8080/"
        },
        "id": "tKKh32Me-K9y",
        "outputId": "9d4a5728-573b-46ab-935f-83b1682b56b3"
      },
      "execution_count": null,
      "outputs": [
        {
          "output_type": "execute_result",
          "data": {
            "text/plain": [
              "\\nOpel\\n       7343\n",
              "\\nAudi\\n       5712\n",
              "\\nRenault\\n    2864\n",
              "Name: Make, dtype: int64"
            ]
          },
          "metadata": {},
          "execution_count": 243
        }
      ]
    },
    {
      "cell_type": "code",
      "source": [
        "df[\"Make\"] = df.Make.str.strip('\\n')"
      ],
      "metadata": {
        "id": "rdOJvzAt-LBQ"
      },
      "execution_count": null,
      "outputs": []
    },
    {
      "cell_type": "code",
      "source": [
        "df.Make.value_counts(dropna=False)"
      ],
      "metadata": {
        "colab": {
          "base_uri": "https://localhost:8080/"
        },
        "id": "lH1KkLhN-LEF",
        "outputId": "be91d7d4-0f7a-432a-8a68-39a0a07dfd6a"
      },
      "execution_count": null,
      "outputs": [
        {
          "output_type": "execute_result",
          "data": {
            "text/plain": [
              "Opel       7343\n",
              "Audi       5712\n",
              "Renault    2864\n",
              "Name: Make, dtype: int64"
            ]
          },
          "metadata": {},
          "execution_count": 245
        }
      ]
    },
    {
      "cell_type": "code",
      "source": [
        "#Model"
      ],
      "metadata": {
        "id": "JaUvmwSU-LHd"
      },
      "execution_count": null,
      "outputs": []
    },
    {
      "cell_type": "code",
      "source": [
        "df.Model.value_counts(dropna=False)"
      ],
      "metadata": {
        "colab": {
          "base_uri": "https://localhost:8080/",
          "height": 391
        },
        "id": "X42WHVeY-LKU",
        "outputId": "676c2563-5cc1-4371-d0b7-22f698576845"
      },
      "execution_count": null,
      "outputs": [
        {
          "output_type": "error",
          "ename": "TypeError",
          "evalue": "ignored",
          "traceback": [
            "\u001b[0;31m---------------------------------------------------------------------------\u001b[0m",
            "\u001b[0;31mTypeError\u001b[0m                                 Traceback (most recent call last)",
            "\u001b[0;32mpandas/_libs/hashtable_class_helper.pxi\u001b[0m in \u001b[0;36mpandas._libs.hashtable.PyObjectHashTable.map_locations\u001b[0;34m()\u001b[0m\n",
            "\u001b[0;31mTypeError\u001b[0m: unhashable type: 'list'"
          ]
        },
        {
          "output_type": "stream",
          "name": "stderr",
          "text": [
            "Exception ignored in: 'pandas._libs.index.IndexEngine._call_map_locations'\n",
            "Traceback (most recent call last):\n",
            "  File \"pandas/_libs/hashtable_class_helper.pxi\", line 5231, in pandas._libs.hashtable.PyObjectHashTable.map_locations\n",
            "TypeError: unhashable type: 'list'\n"
          ]
        },
        {
          "output_type": "execute_result",
          "data": {
            "text/plain": [
              "[\\n, A3, \\n]          3097\n",
              "[\\n, A1, \\n]          2614\n",
              "[\\n, Insignia, \\n]    2598\n",
              "[\\n, Astra, \\n]       2526\n",
              "[\\n, Corsa, \\n]       2219\n",
              "[\\n, Clio, \\n]        1839\n",
              "[\\n, Espace, \\n]       991\n",
              "[\\n, Duster, \\n]        34\n",
              "[\\n, A2, \\n]             1\n",
              "Name: Model, dtype: int64"
            ]
          },
          "metadata": {},
          "execution_count": 247
        }
      ]
    },
    {
      "cell_type": "code",
      "source": [
        "df.Model.astype(\"str\").value_counts(dropna=False)"
      ],
      "metadata": {
        "colab": {
          "base_uri": "https://localhost:8080/"
        },
        "id": "e-v2uLNt-7rW",
        "outputId": "74ef87de-5402-4935-87cc-f2d5e7f8e398"
      },
      "execution_count": null,
      "outputs": [
        {
          "output_type": "execute_result",
          "data": {
            "text/plain": [
              "['\\n', 'A3', '\\n']          3097\n",
              "['\\n', 'A1', '\\n']          2614\n",
              "['\\n', 'Insignia', '\\n']    2598\n",
              "['\\n', 'Astra', '\\n']       2526\n",
              "['\\n', 'Corsa', '\\n']       2219\n",
              "['\\n', 'Clio', '\\n']        1839\n",
              "['\\n', 'Espace', '\\n']       991\n",
              "['\\n', 'Duster', '\\n']        34\n",
              "['\\n', 'A2', '\\n']             1\n",
              "Name: Model, dtype: int64"
            ]
          },
          "metadata": {},
          "execution_count": 248
        }
      ]
    },
    {
      "cell_type": "code",
      "source": [
        "df[\"Model\"][0]"
      ],
      "metadata": {
        "colab": {
          "base_uri": "https://localhost:8080/"
        },
        "id": "9vMZ8KU9-LNE",
        "outputId": "bd4a77cf-ddc1-47ec-c1ca-9fc857b1926d"
      },
      "execution_count": null,
      "outputs": [
        {
          "output_type": "execute_result",
          "data": {
            "text/plain": [
              "['\\n', 'A1', '\\n']"
            ]
          },
          "metadata": {},
          "execution_count": 249
        }
      ]
    },
    {
      "cell_type": "code",
      "source": [
        "df[\"Model\"][0][1]"
      ],
      "metadata": {
        "colab": {
          "base_uri": "https://localhost:8080/",
          "height": 35
        },
        "id": "7YSOo-ar-LQE",
        "outputId": "ae6c0b44-1049-49cf-a127-9f970652a6e6"
      },
      "execution_count": null,
      "outputs": [
        {
          "output_type": "execute_result",
          "data": {
            "text/plain": [
              "'A1'"
            ],
            "application/vnd.google.colaboratory.intrinsic+json": {
              "type": "string"
            }
          },
          "metadata": {},
          "execution_count": 250
        }
      ]
    },
    {
      "cell_type": "code",
      "source": [
        "df[\"Model\"].apply(lambda x: x[1])"
      ],
      "metadata": {
        "colab": {
          "base_uri": "https://localhost:8080/"
        },
        "id": "oeiXkTkE-LTr",
        "outputId": "437de41f-ff62-42d7-aaf8-eae7aab1eb33"
      },
      "execution_count": null,
      "outputs": [
        {
          "output_type": "execute_result",
          "data": {
            "text/plain": [
              "0            A1\n",
              "1            A1\n",
              "2            A1\n",
              "3            A1\n",
              "4            A1\n",
              "          ...  \n",
              "15914    Espace\n",
              "15915    Espace\n",
              "15916    Espace\n",
              "15917    Espace\n",
              "15918    Espace\n",
              "Name: Model, Length: 15919, dtype: object"
            ]
          },
          "metadata": {},
          "execution_count": 251
        }
      ]
    },
    {
      "cell_type": "code",
      "source": [
        "df.Model.str[1]"
      ],
      "metadata": {
        "colab": {
          "base_uri": "https://localhost:8080/"
        },
        "id": "nuV_1NnJ-LWz",
        "outputId": "5a994cc1-4b99-4472-c407-dd828884398e"
      },
      "execution_count": null,
      "outputs": [
        {
          "output_type": "execute_result",
          "data": {
            "text/plain": [
              "0            A1\n",
              "1            A1\n",
              "2            A1\n",
              "3            A1\n",
              "4            A1\n",
              "          ...  \n",
              "15914    Espace\n",
              "15915    Espace\n",
              "15916    Espace\n",
              "15917    Espace\n",
              "15918    Espace\n",
              "Name: Model, Length: 15919, dtype: object"
            ]
          },
          "metadata": {},
          "execution_count": 252
        }
      ]
    },
    {
      "cell_type": "code",
      "source": [
        "df[\"Model\"] = df.Model.str[1]"
      ],
      "metadata": {
        "id": "vqbqJU4J-LaY"
      },
      "execution_count": null,
      "outputs": []
    },
    {
      "cell_type": "code",
      "source": [
        "df.Model.value_counts(dropna=False)"
      ],
      "metadata": {
        "colab": {
          "base_uri": "https://localhost:8080/"
        },
        "id": "9TcaYcVr-LdT",
        "outputId": "2eb7c2d8-fcc1-4661-d9da-00b2600cf51d"
      },
      "execution_count": null,
      "outputs": [
        {
          "output_type": "execute_result",
          "data": {
            "text/plain": [
              "A3          3097\n",
              "A1          2614\n",
              "Insignia    2598\n",
              "Astra       2526\n",
              "Corsa       2219\n",
              "Clio        1839\n",
              "Espace       991\n",
              "Duster        34\n",
              "A2             1\n",
              "Name: Model, dtype: int64"
            ]
          },
          "metadata": {},
          "execution_count": 254
        }
      ]
    },
    {
      "cell_type": "code",
      "source": [
        "df.drop([\"Make\", \"Model\"], axis=1, inplace=True)"
      ],
      "metadata": {
        "id": "Rc_PzQ6t-LgK"
      },
      "execution_count": null,
      "outputs": []
    },
    {
      "cell_type": "code",
      "source": [
        "#After the examination, we have decided to drop the columns, \"Make\" & \"Model\" and kept the column of \"make_model."
      ],
      "metadata": {
        "id": "hAyQr0o1-LjA"
      },
      "execution_count": null,
      "outputs": []
    },
    {
      "cell_type": "code",
      "source": [
        "#short_description"
      ],
      "metadata": {
        "id": "ly9z6Z6o-Llb"
      },
      "execution_count": null,
      "outputs": []
    },
    {
      "cell_type": "code",
      "source": [
        "df.short_description.value_counts(dropna=False)"
      ],
      "metadata": {
        "colab": {
          "base_uri": "https://localhost:8080/"
        },
        "id": "molBMzdh-Ln9",
        "outputId": "de25142e-7704-4258-b542-2b5701891445"
      },
      "execution_count": null,
      "outputs": [
        {
          "output_type": "execute_result",
          "data": {
            "text/plain": [
              "SPB 1.6 TDI 116 CV S tronic Sport                 64\n",
              "NaN                                               46\n",
              "1.4 66kW (90CV) Selective                         40\n",
              "MOVE KLIMA CD USB ALLWETTER BLUETOOTH             38\n",
              "SPB 30 TDI S tronic Business                      35\n",
              "                                                  ..\n",
              "K Sports Tourer Business **Navi*Voll**             1\n",
              "1.0 Turbo ecoFLEX Automatic Elective Park Navi     1\n",
              "1.6 CDTI Business *Navi*Automatik*Spurh.*          1\n",
              "1.6 136 CV Automatica Navi E 6 Garanzia Full       1\n",
              "TCe 225 EDC GPF LIM Deluxe Pano,RFK                1\n",
              "Name: short_description, Length: 10002, dtype: int64"
            ]
          },
          "metadata": {},
          "execution_count": 258
        }
      ]
    },
    {
      "cell_type": "code",
      "source": [
        "df.drop(\"short_description\", axis=1, inplace=True)"
      ],
      "metadata": {
        "id": "gz9QsRdi-LrJ"
      },
      "execution_count": null,
      "outputs": []
    },
    {
      "cell_type": "code",
      "source": [
        "#description"
      ],
      "metadata": {
        "id": "ypVBlUGj-Ltj"
      },
      "execution_count": null,
      "outputs": []
    },
    {
      "cell_type": "code",
      "source": [
        "df['description']"
      ],
      "metadata": {
        "colab": {
          "base_uri": "https://localhost:8080/"
        },
        "id": "M_ZvFS_o-Lw_",
        "outputId": "3ddee64d-9e35-4698-e1ff-766e3d03d70d"
      },
      "execution_count": null,
      "outputs": [
        {
          "output_type": "execute_result",
          "data": {
            "text/plain": [
              "0        [\\n, Sicherheit:,  , Deaktivierung für Beifahr...\n",
              "1        [\\nLangstreckenfahrzeug daher die hohe Kilomet...\n",
              "2        [\\n, Fahrzeug-Nummer: AM-95365,  , Ehem. UPE 2...\n",
              "3        [\\nAudi A1: , - 1e eigenaar , - Perfecte staat...\n",
              "4        [\\n, Technik & Sicherheit:, Xenon plus, Klimaa...\n",
              "                               ...                        \n",
              "15914    [\\nVettura visionabile nella sede in Via Roma ...\n",
              "15915    [\\nDach: Panorama-Glas-Schiebedach, Lackierung...\n",
              "15916    [\\n, Getriebe:,  Automatik, Technik:,  Bordcom...\n",
              "15917    [\\nDEK:[2691331], Renault Espace Blue dCi 200C...\n",
              "15918    [\\n, Sicherheit Airbags:,  , Seitenairbag,  , ...\n",
              "Name: description, Length: 15919, dtype: object"
            ]
          },
          "metadata": {},
          "execution_count": 261
        }
      ]
    },
    {
      "cell_type": "code",
      "source": [
        "df['description'].astype('str').value_counts(dropna=False)"
      ],
      "metadata": {
        "colab": {
          "base_uri": "https://localhost:8080/"
        },
        "id": "c8GdkZWA-L0T",
        "outputId": "cc23d179-b1d5-44fc-8ae5-bd498720f3f9"
      },
      "execution_count": null,
      "outputs": [
        {
          "output_type": "execute_result",
          "data": {
            "text/plain": [
              "[]                                                                                                                                                                                                                                                                                                                                                                                                                                                                                                                                                                                                                                                                                                                                                                                                                                                                                                                                                                                                                                                                                                                                                                                                                                                                                                                                                                                                                                                                                                                                                                                                                                                                                                                                                                                                                                                                                                                                                                                                                                                                                                                                                                                                                                                                                                                                                                                                                                                                                                                                                                                                                                                                                                                                                                                                                                                                                               636\n",
              "['\\n', '\\n']                                                                                                                                                                                                                                                                                                                                                                                                                                                                                                                                                                                                                                                                                                                                                                                                                                                                                                                                                                                                                                                                                                                                                                                                                                                                                                                                                                                                                                                                                                                                                                                                                                                                                                                                                                                                                                                                                                                                                                                                                                                                                                                                                                                                                                                                                                                                                                                                                                                                                                                                                                                                                                                                                                                                                                                                                                                                                      30\n",
              "['\\n', 'Fahrzeugbeschreibung', ' Sichern Sie sich diesen Renault Clio 1.6 TCE Energy Sport Trophy zum Top-Preis inklusive dem ', 'AUTOHERO-RUNDUM-SORGLOS-PAKET', ' ', 'Infos:', ' 1.Hand, deutsche Auslieferung, Unfallfrei, scheckheftgepflegt', ' ', 'Highlights', ' ', 'Audio-Navigationssystem R-Link Evolution mit Touchscreen und Carminat TomTom', ' ', 'Sportsitze ', ' ', 'Sportfahrwerk', ' ', 'Scheinwerfer Full-LED ', 'Komfort', ' ', 'Geschwindigkeits-Regelanlage (Tempomat) ', ' ', 'Klimaanlage', ' ', 'Einparkhilfe hinten', ' ', 'Multifunktionslenkrad (Sport/Leder) mit Schaltwippen/-tasten ', ' ', 'Fensterheber elektr. mit Impulsgeber links/rechts vorn', ' ', 'Zentralverriegelung / Startanlage Handsfree Entry & Drive ', ' ', 'Berganfahr-Assistent (HSA) ', 'Multimedia', ' ', 'Audiosystem: Radio R & GO (Bluetooth, DAB-Tuner)', ' ', 'Bordcomputer', ' ', 'Freisprecheinrichtung Bluetooth ', ' ', 'USB-Anschluss inkl. AUX-IN-Anschluss (Plug & Music) ', 'Licht und Sicht', ' ', 'Außenspiegel elektr. verstell- und heizbar ', ' ', 'Licht- und Regensensor ', ' ', 'Tagfahrlicht LED ', ' ', 'Nebelscheinwerfer LED ', ' ', 'Coming-Home-Lichtfunktion ', ' ', 'Heckleuchten LED ', 'Sicherheit', ' ', 'Isofix-Aufnahmen für Kindersitz ', ' ', 'Seitenairbag vorn', ' ', 'Wegfahrsperre', ' ', 'Differentialsperre', ' ', 'Bremsassistent ', ' ', 'Elektron. Stabilitäts-Programm (ESP)', ' ', 'Anti-Blockier-System (ABS)', ' ', 'Anti-Submarining-Airbag im Fond', ' ', 'Airbag Fahrer-/Beifahrerseite ', ' ', 'Differentialsperre ', ' ', 'Reifendruck-Kontrollsystem ', ' ', 'Untersteuerungskontrolle (USC) ', ' ', 'Antischlupfregelung (ASR) ', 'Weiteres', ' ', 'Start/Stop-Anlage ', ' ', 'Servolenkung geschwindigkeitsabhängig', ' ', 'R.S. Drive (Fahrmodusschalter) ', ' ', 'Gepäckraumabdeckung / Rollo ', ' ', 'Heckdiffusor ', ' ', 'LM-Felgen ', ' ', 'Heckspoiler (Renault Sport) ', ' ', 'Pedale Aluminium ', ' ', 'Energierückgewinnung (Energy Smart Management) ', ' ', 'Elektr. Bremskraftverteilung ', ' ', 'Reifen-Reparaturkit ', ' ', 'Sitzbezug / Polsterung: Stoff ', ' Ihr ', 'AUTOHERO-RUNDUM-SORGLOS-PAKET', ' beinhaltet:', 'Kostenlose Lieferung in Ihre Nähe', 'Optische & technische Aufbereitung', 'Mindestens 12 Monate gültige HU und AU', '1-Jahr-Premium-Garantie', 'Zulassung inklusive ', '14-Tage-Rückgaberecht', 'Markenunabhängige Inzahlungnahme ', 'Individuelle Finanzierungen zu fairen Konditionen', ' ', 'HIER GEHT ES ZUR 360° - ANSICHT DES FAHRZEUGES:', ':', 'https://www.autohero.com/de/renault-clio-1-6-tce-energy-renault-sport-trophy/id/f7ca29bf-e005-453f-bbc9-8c6fe892dec6/', ' ', 'Haftungsausschluss', ':', 'Für Angaben vom Verkäufer, des Herstellers oder von Datenbankabfragen übernimmt Autohero keine Haftung. Änderungen, Zwischenverkauf und Irrtümer sind vorbehalten.\\n']     27\n",
              "['\\nPosibilidad de prueba del vehículo hasta 5 días. Consultar condiciones. PVP para particulares. Varias unidades y colores disponibles. Precios publicados para vehículos industriales (furgonetas) válidos para compradores autónomos o empresas, consultar condiciones para particulares. Las imágenes y kilómetros pueden no corresponder con el modelo anunciado. Para confirmar póngase en contacto con nuestro departamento comercial. Consulta las excepcionales condiciones de financiación que tenemos disponibles. Precio de venta final IVA y gastos de transferencia incluidos. Horario de atención al cliente: Lunes a Viernes de 09:00 a 18:00.\\n']                                                                                                                                                                                                                                                                                                                                                                                                                                                                                                                                                                                                                                                                                                                                                                                                                                                                                                                                                                                                                                                                                                                                                                                                                                                                                                                                                                                                                                                                                                                                                                                                                                                                                                                                                                                                                                                                                                                                                                                                                                                                                                                                                                                                                               27\n",
              "['\\nSichern Sie sich diesen RENAULT CLIO 1.2 LIMITED zum Top-Preis inklusive dem', 'AUTOHERO-RUNDUM-SORGLOS-PAKET', ' ', 'Infos:', ' 2.Hand, mindestens 12 Monate gültige HU und AU, deutsche Ausführung, unfallfrei ', ' ', 'Highlights', ' ', 'Audio-Navigationssystem mit Touchscreen-Farbdisplay', 'Komfort', ' ', 'Klimaanlage ', ' ', 'Multifunktionslenkrad in Leder ', ' ', 'Berganfahr-Assistent (HSA)', ' ', 'Fensterheber elektrisch vorn ', ' ', 'Geschwindigkeits-Regelanlage (Tempomat) ', ' ', 'Heckscheibe heizbar ', ' ', 'Sitz vorn links höhenverstellbar', ' ', 'Sitz vorn rechts umklappbar ', ' ', 'Stau-/Ablagefach im Laderaumboden ', ' ', 'Zentralverriegelung mit Fernbedienung ', 'Multimedia', ' ', 'Radio R&GO', ' ', 'Bluetooth Freisprechanlage ', ' ', 'USB-/AUX-Schnittstelle ', ' ', 'Bordcomputer', ' ', 'Licht und Sicht', ' ', 'Tagfahrlicht LED ', ' ', 'Außenspiegel elektrisch verstell- und heizbar', 'Sicherheit', ' ', 'Airbag für Fahrer und Beifahrer', ' ', 'Beifahrerairbag deaktivierbar ', ' ', 'Seitenairbags vorn ', ' ', 'Kopfairbagsystem', ' ', 'Anti-Blockier-System (ABS)', ' ', 'Elektronische Bremskraftverteilung ', ' ', 'Elektronische Stabilitäts-Programm (ESP) ', ' ', 'Reifen-Reparaturkit ', ' ', 'Reifendruck-Kontrollsystem ', ' ', 'Untersteuerungskontrolle (USC) ', ' ', 'ISOFIX Kindersitzverankerung ', 'Weiteres', ' ', 'Dachreling silber ', ' ', 'Look-Paket Chrom (außen) ', ' ', 'Look-Paket Grau (innen) ', ' ', 'R&GO-Paket ', ' ', 'Style-Paket ', ' Ihr ', 'AUTOHERO-RUNDUM-SORGLOS-PAKET', ' beinhaltet:', 'Kostenlose Lieferung in Ihre Nähe', 'Optische & technische Aufbereitung', 'Mindestens 12 Monate gültige HU und AU', '1-Jahr-Premium-Garantie', 'Zulassung inklusive ', '14-Tage-Rückgaberecht', 'Markenunabhängige Inzahlungnahme ', 'Individuelle Finanzierungen zu fairen Konditionen', ' ', 'HIER GEHT ES ZUR 360° - ANSICHT DES FAHRZEUGES:', ':', 'https://www.autohero.com/de/renault-clio-1-2-limited/id/30f99516-8785-47e7-a4a3-6cdac4d8e633/', ' ', 'Haftungsausschluss', ':', 'Für Angaben vom Verkäufer, des Herstellers oder von Datenbankabfragen übernimmt Autohero keine Haftung. Änderungen, Zwischenverkauf und Irrtümer sind vorbehalten.\\n']                                                                                                                                                                                                                                                                                                                                                                                                                                                                                                                                                                                                                                   27\n",
              "                                                                                                                                                                                                                                                                                                                                                                                                                                                                                                                                                                                                                                                                                                                                                                                                                                                                                                                                                                                                                                                                                                                                                                                                                                                                                                                                                                                                                                                                                                                                                                                                                                                                                                                                                                                                                                                                                                                                                                                                                                                                                                                                                                                                                                                                                                                                                                                                                                                                                                                                                                                                                                                                                                                                                                                                                                                                                                ... \n",
              "['\\nPratica\\xa067374', 'Airbag fullsize per conducente e passeggero, Alzacristalli elettrici ant. e post. con funzione attivaz. a pressione, Assetto dinamico, Audi drive select, Inserti in micrometallic argento, Kit riparazione pneumatici, Pacchetto di navigazione, Piano di copertura del vano bagagli estraibile, Presa AUX-IN, Proiettori allo Xenon Plus con reg. aut. prof. fari, Lavafari, Rivestimenti dei sedili in tessuto, Serbatoio AdBlue, Sistema controllo pressione pneumatici, Sistema di ancoraggio ISOFIX e 3° punto di ancoraggio Top Tether sui sedili post. laterali, Sistema di informazioni per il conducente con display monocromatico, Tappetini anteriori e posteriori, Versione Business, Volante sportivo multifunzionale in pelle 3 razze, ABS, EBV (Ripartitore elettronico della forza frenante), Airbag laterali anteriori integrati negli schienali dei sedili, Airbag per la testa, Airbag per le ginocchia (lato conducente), Appoggiatesta anteriori (2) e posteriori (3) regolabili, Radio MMI plus, Interfaccia Bluetooth, Appoggiabraccia centrale anteriore, Cambio manuale, Cerchi in lega 7 J x 16\" a 5 razze a stella, Chiusura centralizzata con telecomando, Regolatore di velocità, ESC - Sistema elettronico di controllo della stabilizzazione con bloccaggio trasversale elettronico, ASR - Dispositivo di controllo della trazione, EDS (Dispositivo antislittamento in partenza), Filtro anti particolato, Cinture di sicurezza con pretensionatore, Specchietti retrovisivi esterni riscaldabili e ripiegabili elettricamente, Schienale del sedile posteriore ribaltabile (divisibile in rapporto 40:60 o ribaltabile completam.), Sistema di ausilio al parcheggio posteriore, Servosterzo elettromeccanico, Tergilunotto\\n']                                                                                                                                                                                                                                                                                                                                                                                                                                                                                                                                                                                                                                                                                                                                                                                                                                                                                                                                                                                                                                                                                                          1\n",
              "['\\n', 'Getriebe:', ' Schaltgetriebe', 'Technik:', ' Bordcomputer, Start-Stop-Automatik', 'Assistenten:', ' Regensensor, Lichtsensor, Berganfahrassistent', 'Komfort:', ' Servolenkung, Zentralverriegelung, Elektrischer Fensterheber, Sitzheizung, Elektrische Aussenspiegel, Teilbare Ruecksitzlehne, Tempomat, Park Distance Control, Multifunktionslenkrad, Innenspiegel autom. abblendbar, Mittelarmlehne, Innenraumfilter, Lenksaeule einstellbar, Sportsitze, Klimaautomatik-2-Zonen', 'Sicht:', ' Xenon Scheinwerfer, Colorverglasung, Scheinwerferreinigung, Aussenspiegel beheizbar, Privacyverglasung', 'Sicherheit:', ' ABS, Airbag, Beifahrer-Airbag, Wegfahrsperre, Seitenairbags, ESP, Antriebsschlupfregelung, Reifendruckkontrolle, Traktionskontrolle, Kopfairbag, Knieairbag, Kindersitzbefestigung, Pannenkit', 'Entertainment:', ' CD, Radio, AUX-In, USB-Anschluss, MP3, Bluetooth, Freisprecheinrichtung', 'Umwelt:', ' Grüne Umweltplakette, ', 'Energieeffizienzklasse B', 'Qualität:', ' Garantie, Scheckheftgepflegt, HUAU neu, Nichtraucherfahrzeug', 'Sonstiges:', ' Metallic, Alufelgen, Dachreling, Gepaeckraumabdeckung, Stossfaenger in Wagenfarbe, Sportfahrwerk', 'Weiteres:', ' Connectivity-Paket inkl. Bluetooth-Schnittstelle, Klimaautomatik 2-Zonen, Optik-Paket schwarz Audi exclusive, Einparkhilfe (APS), Verglasung hinten abgedunkelt, Sitzheizung vorn, Dachreling (Aluminium), Soundsystem DSP / Audi Sound-System, Ablage- und Gepäckraum-Paket, Audi music interface, Scheibenwaschdüsen heizbar, Vorbereitung Navigationssystem, Adaptives Bremslicht, Anfahr-Assistent (hold assist), Antriebsart: Frontantrieb, Audi Drive Select, Außenspiegel Wagenfarbe, Blinkleuchten LED in Außenspiegel integriert, Bremsanlage mit Rekuperation - Bremsenergierückgewinnung, Bremsassistent, Dachspoiler, Dekoreinlagen Aluminium Mistral, Einstiegsleisten Aluminium, Elektron. Differentialsperre (EDS), Elektron. Stabilitätskontrolle (ESC), Elektron. Stabilitäts-Programm, Euro 6, Fahrer-Informations-System (FIS), Fensterheber elektrisch vorn und hinten, Frontscheibe Akustikglas, Fußmatten Velours, Getriebe 6-Gang, Heckscheibe heizbar, Interieur Aluminium-Optik, Isofix-Aufnahmen für Kindersitz, Kopfstützen hinten, Multi-Media-Interface MMI, Parkbremse elektro-mechanisch, Polster: Stoff Rallye, Servolenkung elektro-mechanisch, Sitze vorn mit ausziehbarer Oberschenkelauflage, Sitzhöhenverstellung, Sport/Lederlenkrad, Sport-Fahrwerk, Start/Stop-Anlage, Telefon-Vorbereitung mit Bluetooth-Schnittstelle, Wagenheber, Wärmeschutzverglasung, Xenon Plus, ZV mit Fernbedienung', '... Änderungen, Zwischenverkauf und Irrtümer vorbehalten.', ' by CG360.de\\n']                                                                                                                                                         1\n",
              "['\\n', 'Getriebe', '6-Gang', 'Licht und Sicht', 'Xenon-Scheinwerfer Plus (Abblend- und Fernlicht)', 'Technik und Sicherheit', 'Fahrerairbag', 'Airbag Fahrer-/Beifahrerseite', 'Seitenairbag vorn', 'Kopfairbags', 'Anti-Blockier-System (ABS)', 'Elektron. Stabilitätskontrolle (ESC)', 'Elektron. Differentialsperre (EDS)', 'Zentralverriegelung mit Fernbedienung', 'Schließ-/Startsystem Advanced Key (Komfortschlüssel)', 'Servolenkung elektro-mechanisch', 'Geschwindigkeits-Regelanlage (Tempomat)', 'Elektronische Wegfahrsperre', 'Bordcomputer', 'Reifendruck-Kontrollsystem', 'Assistenzsysteme', 'Fahrassistenz-System: Anfahr-Assistent (hold assist)', 'Multimedia', 'Multi-Media-Interface MMI Basic Plus / MMI Radio Plus', 'Audi Smartphone Interface', 'Komfort', 'Komfort-Klimaautomatik 2-Zonen', 'Einparkhilfe hinten (APS)', 'Fensterheber elektrisch', 'Licht- und Regensensor', 'Außenspiegel elektr. verstellbar beide', 'Scheibenwaschdüsen und Außenspiegel beheizt', 'Wärmeschutzverglasung grün getönt', 'Innenausstattung', 'Sitzheizung vorn', 'Lenkrad (Sport/Leder - 3-Speichen) mit Multifunktion', 'Mittelarmlehne vorn', 'Rücksitzlehne geteilt/klappbar', 'Aussenausstattung', 'LM-Felgen', 'Pakete', 'Komfort-Paket', 'Sonstiges', 'Rußpartikelfilter', 'Scheckheftgepflegt', 'Nichtraucherfahrzeug', 'Weitere Informationen', 'Schadstoffklasse: EURO 6D-TEMP', 'Connectivity-Paket', 'Glanz-Paket', 'LM-Felgen 7.5x17 (5-Speichen Y-Design)', 'Progressivlenkung', 'Antriebs-Schlupfregelung (ASR)', 'Elektron. Stabilitäts-Programm (ESP)', 'Getriebe 6-Gang', 'Lenkrad (Sport - 3-Speichen)', 'Parkbremse elektro-mechanisch', 'Sitze vorn höhenverstellbar', 'Vorrüstung Mobiltelefon/Handy mit Bluetooth-Schnittstelle', 'Audi music interface', 'Außenspiegel elektr. verstell- und heizbar beide', 'Vorbereitung Navigationssystem', 'Irrtümer und Änderungen vorbehalten.', 'Die im Internet angebotene Ausstattung ist kein Vertragsbestandteil.', 'Die Ausstattung muss vor Ort geprüft werden.', 'Das angebotene Fahrzeug kann von einer Rückrufaktion betroffen sein. Co2 Angaben können abweichen.', '\\n']                                                                                                                                                                                                                                                                                                                                                                                                                                                                                                                                                                                                                                                                                                                                   1\n",
              "['\\n', 'Aluminium-Gussräder im 5-Speichen-Stern-Design Größe 7 J x 16 mit Reifen 205/55 R 16', 'Dachreling eloxiert', 'Einparkhilfe hinten', 'Fahrerinformationssystem mit Farbdisplay', 'Lederlenkrad im 3-Speichen-Design mit Multifunktion plus', 'Ablage-/Gepäckraumpaket mit erweitertem USB-Buchsen-Angebot', 'Lichtpaket', \"Reifen 16'\", 'Anlaufvariante RdW', 'Vorbereitung für Anhängevorrichtung', 'Audi sound system', 'Reifen 205/55 R16 91W', 'Xenon plus', 'Allwetterlicht', 'Kopfstützen hinten (3 Stück)', 'MMI Radio plus', 'Zentralverriegelung mit Funkschlüssel', 'Bluetooth-Schnittstelle', 'Innenspiegel abblendbar', 'elektronische Stabilisierungskontrolle (ESC)', 'Airbags', '6-Gang-Schaltgetriebe', 'Seitenairbags vorn und Kopfairbagsystem', 'elektromechanische Servolenkung', 'Leuchtweitenregulierung automatisch-statisch', 'Scheibenwaschdüsen beheizbar vorn', 'Reifendruck-Kontrollanzeige', 'Tagfahrlicht', 'Start-Stop-System', 'AUX-IN-Anschluss', 'Kindersitzverankerung ISOFIX und Top Tether für die äußeren Fondsitze', 'Sitzbezüge in Stoff Index', 'Wärmeschutzverglasung', 'Akustikfrontscheibe', 'Außenspiegel links asphärisch', 'Außen-Sound Standard', 'Außenspiegel rechts (großes Sichtfeld) konvex', 'elektromechanische Parkbremse', 'Dachhimmel in Stoff felsgrau', 'Kraftstoffsystem Otto-Einspritzer', 'Linkslenker', 'Reifenreparaturset', 'Heckleuchten', 'Scheibenwaschanlage', 'Entriegelung Hintersitz Standard', 'Waschwasserstandsanzeige', 'Abgaskonzept EU6 AG/H/I', 'Frontantrieb', 'A3', 'Außenspiegelgehäuse in Wagenfarbe', 'Ohne erweitertem Sicherheitssystem', 'Geschwindigkeitsbegrenzungsanlage', 'Dachkantenspoiler', 'Heckscheibenwischer', 'Sportback', 'Kindersicherung manuell', 'Ohne Kamerasysteme/Umfeldsensorik', '4-Zyl. Ottomotor 1 5 L/110KW TSI Grundmotor ist: TJ7/N09/T9F', 'Nebelschlussleuchten', 'Nichtraucherausführung', 'Radstand', 'Doppeltonfanfare', 'Serienfahrwerk', '4 Türen', 'Modellbezeichnung gemäß neuer Leistungskennzeichnung', 'Warnleuchten', 'Zierleisten schwarz', 'Nichtraucherfahrzeug', 'Irrtümer Änderungen und Zwischenverkauf vorbehalten', 'sehr guter Zustand', 'Komfortklima', 'Aussenspiegel heizbar', 'elektrische Aussenspiegel', 'geteilte Rückbank', 'Scheckheft gepflegt', 'Fahrersitz höhenverstellbar', 'Beifahrersitz höhenverstellbar', '\\n']                                                                                                                                                                                                                                                                                                                                                                                                                                                                                                                 1\n",
              "['\\nDEK:[2691331]', 'Renault Espace Blue dCi 200CV EDC Business', 'Nuova da Immatricolare', 'COLORE: Grigio Titanio', 'INTERNO: Pelle+Tessuto', 'TRASMISSIONE: Cambio Automatico EDC', '---', 'ACCESSORI: ', '7 Posti', ', ', 'Cerchi in Lega 17, Navigatore con Display 8.7, Clima Automatico, Sensori di Parcheggio Anteriori e Posteriori con Retrocamera, Fari Full LED Pure Vision, Cruise Control, Renault Multisense', '---', 'Listino Nuovo 44.300 Euro', 'Prezzo Gruppo Carmeli: 39.700 Euro (Esclusa IPT e Messa in Strada)', 'IVA Esposta', 'In caso di Adesione alla PROMO GRUPPO CARMELI puoi Averla a 36.000 Euro', 'Contattaci per scoprire tutti i vantaggi della PROMO GRUPPO CARMELI', '____________________________________', 'Gruppo Carmeli S.p.A. è Concessionaria e Service ufficiale dei Marchi Renault, Dacia, Nissan, Mercedes e Smart per la provincia di Brescia e Bergamo ed opera nel mercato dell’auto da più di 40 anni.', 'Nelle sedi di Brescia (Nissan e Renault-Dacia Autospazio), di Coccaglio (Renault-Dacia e Nissan) e di Bergamo (Nissan) oltre a tutta la gamma di veicoli dei Marchi rappresentati, propone anche 2.000 auto a Km Zero e Aziendali di tutte le marche.', 'Offriamo Servizi:', '-VALUTAZIONE e PERMUTA del tuo USATO', '-ACQUISTO con pagamento immediato del tuo USATO', '-FINANZIAMENTI e LEASING agevolati', '-NOLEGGIO A LUNGO TERMINE di veicoli di tutte le marche', '-PACCHETTI ASSICURATIVI su misura con possibilità di garanzia del valore a Nuovo', '____________________________________', \"Sebbene sia stato fatto ogni ragionevole sforzo per assicurare l'esattezza delle informazioni riportate, vi potrebbero essere involontarie incongruenze riguardanti le immagini e la descrizione degli accessori, che pertanto non rappresentano vincolo contrattuale. Per ulteriori informazioni sulle condizioni economiche ti invitiamo a contattarci.\", '\\n']                                                                                                                                                                                                                                                                                                                                                                                                                                                                                                                                                                                                                                                                                                                                                                                                                                                                                                                                                                1\n",
              "Name: description, Length: 12874, dtype: int64"
            ]
          },
          "metadata": {},
          "execution_count": 262
        }
      ]
    },
    {
      "cell_type": "code",
      "source": [
        "df.drop(\"description\", axis=1, inplace=True)"
      ],
      "metadata": {
        "id": "636uUE1V-L3a"
      },
      "execution_count": null,
      "outputs": []
    },
    {
      "cell_type": "markdown",
      "source": [
        "body_type"
      ],
      "metadata": {
        "id": "W7vRTzj9Do64"
      }
    },
    {
      "cell_type": "code",
      "source": [
        "df.body_type.value_counts(dropna=False)"
      ],
      "metadata": {
        "colab": {
          "base_uri": "https://localhost:8080/"
        },
        "id": "EYxsuO78-L92",
        "outputId": "7956350f-3f91-4230-fac9-461324fbfc41"
      },
      "execution_count": null,
      "outputs": [
        {
          "output_type": "execute_result",
          "data": {
            "text/plain": [
              "Sedans           7903\n",
              "Station wagon    3553\n",
              "Compact          3153\n",
              "Van               783\n",
              "Other             290\n",
              "Transporter        88\n",
              "NaN                60\n",
              "Off-Road           56\n",
              "Coupe              25\n",
              "Convertible         8\n",
              "Name: body_type, dtype: int64"
            ]
          },
          "metadata": {},
          "execution_count": 264
        }
      ]
    },
    {
      "cell_type": "markdown",
      "source": [
        "Body"
      ],
      "metadata": {
        "id": "aAB-nlXcDmHZ"
      }
    },
    {
      "cell_type": "code",
      "source": [
        "df.Body.astype('str').value_counts(dropna=False)"
      ],
      "metadata": {
        "colab": {
          "base_uri": "https://localhost:8080/"
        },
        "id": "hTbP5iH2-MDw",
        "outputId": "0508131f-2361-47e9-a5ba-ef954f3cfdc5"
      },
      "execution_count": null,
      "outputs": [
        {
          "output_type": "execute_result",
          "data": {
            "text/plain": [
              "['\\n', 'Sedans', '\\n']           7903\n",
              "['\\n', 'Station wagon', '\\n']    3553\n",
              "['\\n', 'Compact', '\\n']          3153\n",
              "['\\n', 'Van', '\\n']               783\n",
              "['\\n', 'Other', '\\n']             290\n",
              "['\\n', 'Transporter', '\\n']        88\n",
              "nan                                60\n",
              "['\\n', 'Off-Road', '\\n']           56\n",
              "['\\n', 'Coupe', '\\n']              25\n",
              "['\\n', 'Convertible', '\\n']         8\n",
              "Name: Body, dtype: int64"
            ]
          },
          "metadata": {},
          "execution_count": 265
        }
      ]
    },
    {
      "cell_type": "code",
      "source": [
        "df.drop(\"Body\", axis = 1, inplace = True)"
      ],
      "metadata": {
        "id": "9_mD7vu7-MHI"
      },
      "execution_count": null,
      "outputs": []
    },
    {
      "cell_type": "markdown",
      "source": [
        "Both the columns of \"body_type\" & \"Body\" have the same information, we will keep the \"body_type\" column which is more readable."
      ],
      "metadata": {
        "id": "vSScoZeUEOpt"
      }
    },
    {
      "cell_type": "markdown",
      "source": [
        "\n",
        "price (target column)"
      ],
      "metadata": {
        "id": "C1ycNialEWez"
      }
    },
    {
      "cell_type": "code",
      "source": [
        "df.price.value_counts(dropna=False)"
      ],
      "metadata": {
        "colab": {
          "base_uri": "https://localhost:8080/"
        },
        "id": "6Wvb7Agr-MPm",
        "outputId": "9c21b297-5dca-407e-812a-d0a07605d546"
      },
      "execution_count": null,
      "outputs": [
        {
          "output_type": "execute_result",
          "data": {
            "text/plain": [
              "14990    154\n",
              "15990    151\n",
              "10990    139\n",
              "15900    106\n",
              "17990    102\n",
              "        ... \n",
              "17559      1\n",
              "17560      1\n",
              "17570      1\n",
              "17575      1\n",
              "39875      1\n",
              "Name: price, Length: 2956, dtype: int64"
            ]
          },
          "metadata": {},
          "execution_count": 267
        }
      ]
    },
    {
      "cell_type": "code",
      "source": [
        "df.price.isnull().sum()"
      ],
      "metadata": {
        "colab": {
          "base_uri": "https://localhost:8080/"
        },
        "id": "NSFWllzC-MS6",
        "outputId": "fc08f5d8-a8ef-49f9-c2e8-31fa0b2e3c09"
      },
      "execution_count": null,
      "outputs": [
        {
          "output_type": "execute_result",
          "data": {
            "text/plain": [
              "0"
            ]
          },
          "metadata": {},
          "execution_count": 268
        }
      ]
    },
    {
      "cell_type": "code",
      "source": [
        "sns.boxplot(df.price);"
      ],
      "metadata": {
        "colab": {
          "base_uri": "https://localhost:8080/",
          "height": 388
        },
        "id": "j6BHb0n5-MVu",
        "outputId": "ce6387f1-2775-4d31-8f07-c44946eecc71"
      },
      "execution_count": null,
      "outputs": [
        {
          "output_type": "display_data",
          "data": {
            "text/plain": [
              "<Figure size 720x432 with 1 Axes>"
            ],
            "image/png": "[encoded data removed]"
          },
          "metadata": {}
        }
      ]
    },
    {
      "cell_type": "code",
      "source": [
        "sns.distplot(df.price);\n"
      ],
      "metadata": {
        "colab": {
          "base_uri": "https://localhost:8080/",
          "height": 399
        },
        "id": "0dxWyM-9-MYX",
        "outputId": "d8005f7b-2f5b-4bbe-c8f6-fb30d2c631bd"
      },
      "execution_count": null,
      "outputs": [
        {
          "output_type": "display_data",
          "data": {
            "text/plain": [
              "<Figure size 720x432 with 1 Axes>"
            ],
            "image/png": "[encoded data removed]"
          },
          "metadata": {}
        }
      ]
    },
    {
      "cell_type": "markdown",
      "source": [
        "  vat"
      ],
      "metadata": {
        "id": "gJEOFMvpE1u-"
      }
    },
    {
      "cell_type": "code",
      "source": [
        "df.vat.value_counts(dropna=False)"
      ],
      "metadata": {
        "colab": {
          "base_uri": "https://localhost:8080/"
        },
        "id": "ihPROSbj-Mj4",
        "outputId": "559bc275-aeec-4909-be0a-606795c002b5"
      },
      "execution_count": null,
      "outputs": [
        {
          "output_type": "execute_result",
          "data": {
            "text/plain": [
              "VAT deductible      10980\n",
              "NaN                  4513\n",
              "Price negotiable      426\n",
              "Name: vat, dtype: int64"
            ]
          },
          "metadata": {},
          "execution_count": 271
        }
      ]
    },
    {
      "cell_type": "markdown",
      "source": [
        "km"
      ],
      "metadata": {
        "id": "jgneJo43E-gd"
      }
    },
    {
      "cell_type": "code",
      "source": [
        "df.km.value_counts(dropna=False)"
      ],
      "metadata": {
        "colab": {
          "base_uri": "https://localhost:8080/"
        },
        "id": "ab1Owq1c-H4r",
        "outputId": "bb48c0dc-1977-4eb3-9d1d-fe57de4d268b"
      },
      "execution_count": null,
      "outputs": [
        {
          "output_type": "execute_result",
          "data": {
            "text/plain": [
              "10 km        1045\n",
              "- km         1024\n",
              "1 km          367\n",
              "5 km          170\n",
              "50 km         148\n",
              "             ... \n",
              "67,469 km       1\n",
              "43,197 km       1\n",
              "10,027 km       1\n",
              "35,882 km       1\n",
              "57 km           1\n",
              "Name: km, Length: 6690, dtype: int64"
            ]
          },
          "metadata": {},
          "execution_count": 272
        }
      ]
    },
    {
      "cell_type": "code",
      "source": [
        "df[\"km\"] = df.km.str.replace(',', '').str.extract('(\\d{1,8})').astype('float')  # str.extract('(\\d+)')"
      ],
      "metadata": {
        "id": "dAlKJNx5-IEG"
      },
      "execution_count": null,
      "outputs": []
    },
    {
      "cell_type": "code",
      "source": [
        "df.km.value_counts(dropna=False)"
      ],
      "metadata": {
        "colab": {
          "base_uri": "https://localhost:8080/"
        },
        "id": "eVhwJFNY-IHI",
        "outputId": "a528d821-573e-4244-c692-89e49c542d8b"
      },
      "execution_count": null,
      "outputs": [
        {
          "output_type": "execute_result",
          "data": {
            "text/plain": [
              "10.00       1045\n",
              "NaN         1024\n",
              "1.00         367\n",
              "5.00         170\n",
              "50.00        148\n",
              "            ... \n",
              "67469.00       1\n",
              "43197.00       1\n",
              "10027.00       1\n",
              "35882.00       1\n",
              "57.00          1\n",
              "Name: km, Length: 6690, dtype: int64"
            ]
          },
          "metadata": {},
          "execution_count": 274
        }
      ]
    },
    {
      "cell_type": "markdown",
      "source": [
        "registration & First Registration"
      ],
      "metadata": {
        "id": "DTossmZ0FO5q"
      }
    },
    {
      "cell_type": "code",
      "source": [
        "df.registration.value_counts(dropna=False)"
      ],
      "metadata": {
        "colab": {
          "base_uri": "https://localhost:8080/"
        },
        "id": "LKUioUhH-INZ",
        "outputId": "691ecc68-7507-41b2-87b5-a35c1b6fddcd"
      },
      "execution_count": null,
      "outputs": [
        {
          "output_type": "execute_result",
          "data": {
            "text/plain": [
              "-/-        1597\n",
              "03/2018     695\n",
              "02/2019     585\n",
              "05/2018     572\n",
              "03/2019     543\n",
              "01/2019     541\n",
              "04/2018     541\n",
              "02/2018     539\n",
              "03/2016     536\n",
              "04/2016     532\n",
              "06/2018     532\n",
              "01/2018     511\n",
              "04/2019     506\n",
              "02/2016     472\n",
              "03/2017     471\n",
              "05/2016     459\n",
              "06/2016     452\n",
              "05/2019     440\n",
              "06/2017     409\n",
              "05/2017     404\n",
              "07/2018     396\n",
              "04/2017     380\n",
              "01/2016     376\n",
              "02/2017     368\n",
              "01/2017     306\n",
              "08/2018     285\n",
              "06/2019     224\n",
              "07/2017     215\n",
              "11/2017     180\n",
              "07/2016     176\n",
              "10/2016     160\n",
              "10/2017     154\n",
              "09/2017     149\n",
              "11/2016     142\n",
              "09/2018     141\n",
              "09/2016     141\n",
              "12/2016     134\n",
              "12/2017     123\n",
              "08/2017     114\n",
              "11/2018     110\n",
              "12/2018     103\n",
              "10/2018      97\n",
              "08/2016      94\n",
              "07/2019       6\n",
              "09/2019       5\n",
              "08/2019       1\n",
              "11/2019       1\n",
              "12/2019       1\n",
              "Name: registration, dtype: int64"
            ]
          },
          "metadata": {},
          "execution_count": 275
        }
      ]
    },
    {
      "cell_type": "code",
      "source": [
        "df[\"First Registration\"].astype('str').value_counts(dropna=False)"
      ],
      "metadata": {
        "colab": {
          "base_uri": "https://localhost:8080/"
        },
        "id": "ugC32GZm-IQU",
        "outputId": "500ef8e9-8b01-4e12-9da3-865ba057cf66"
      },
      "execution_count": null,
      "outputs": [
        {
          "output_type": "execute_result",
          "data": {
            "text/plain": [
              "['\\n', '2018', '\\n']    4522\n",
              "['\\n', '2016', '\\n']    3674\n",
              "['\\n', '2017', '\\n']    3273\n",
              "['\\n', '2019', '\\n']    2853\n",
              "nan                     1597\n",
              "Name: First Registration, dtype: int64"
            ]
          },
          "metadata": {},
          "execution_count": 276
        }
      ]
    },
    {
      "cell_type": "code",
      "source": [
        "df['First Registration'] = df['First Registration'].str[1].astype('float')"
      ],
      "metadata": {
        "id": "ndBqomU9-ITN"
      },
      "execution_count": null,
      "outputs": []
    },
    {
      "cell_type": "code",
      "source": [
        "df[\"First Registration\"].value_counts(dropna=False)"
      ],
      "metadata": {
        "colab": {
          "base_uri": "https://localhost:8080/"
        },
        "id": "_eu15NMP-IWG",
        "outputId": "e9c3b85a-b7ab-4727-8834-007685dc8e6a"
      },
      "execution_count": null,
      "outputs": [
        {
          "output_type": "execute_result",
          "data": {
            "text/plain": [
              "2018.00    4522\n",
              "2016.00    3674\n",
              "2017.00    3273\n",
              "2019.00    2853\n",
              "NaN        1597\n",
              "Name: First Registration, dtype: int64"
            ]
          },
          "metadata": {},
          "execution_count": 278
        }
      ]
    },
    {
      "cell_type": "code",
      "source": [
        "df['age'] = 2019 - df['First Registration']"
      ],
      "metadata": {
        "id": "wkI6b5Fx-IaA"
      },
      "execution_count": null,
      "outputs": []
    },
    {
      "cell_type": "code",
      "source": [
        "df.age.value_counts(dropna=False)"
      ],
      "metadata": {
        "colab": {
          "base_uri": "https://localhost:8080/"
        },
        "id": "D2frrDTk-Ic_",
        "outputId": "196562dd-0f19-45f8-ab0b-1724a8a0e400"
      },
      "execution_count": null,
      "outputs": [
        {
          "output_type": "execute_result",
          "data": {
            "text/plain": [
              "1.00    4522\n",
              "3.00    3674\n",
              "2.00    3273\n",
              "0.00    2853\n",
              "NaN     1597\n",
              "Name: age, dtype: int64"
            ]
          },
          "metadata": {},
          "execution_count": 280
        }
      ]
    },
    {
      "cell_type": "code",
      "source": [
        "df.drop([\"registration\", \"First Registration\"], axis=1, inplace=True)"
      ],
      "metadata": {
        "id": "BqZClxoA-Ifv"
      },
      "execution_count": null,
      "outputs": []
    },
    {
      "cell_type": "markdown",
      "source": [
        "prev_owner & Previous Owners"
      ],
      "metadata": {
        "id": "d2Gn1q4TJ9UP"
      }
    },
    {
      "cell_type": "code",
      "source": [
        "df.prev_owner.value_counts(dropna=False)"
      ],
      "metadata": {
        "colab": {
          "base_uri": "https://localhost:8080/"
        },
        "id": "luSYQ4M--IlP",
        "outputId": "28fd1920-82d9-4b07-900f-aa1fbcc29b78"
      },
      "execution_count": null,
      "outputs": [
        {
          "output_type": "execute_result",
          "data": {
            "text/plain": [
              "1 previous owner     8294\n",
              "NaN                  6828\n",
              "2 previous owners     778\n",
              "3 previous owners      17\n",
              "4 previous owners       2\n",
              "Name: prev_owner, dtype: int64"
            ]
          },
          "metadata": {},
          "execution_count": 282
        }
      ]
    },
    {
      "cell_type": "code",
      "source": [
        "df[\"Previous Owners\"].astype('str').value_counts(dropna=False)"
      ],
      "metadata": {
        "colab": {
          "base_uri": "https://localhost:8080/"
        },
        "id": "CQ4ttQhu-Io8",
        "outputId": "15e76eaf-eb95-4ad0-adb4-a570d6bf1edc"
      },
      "execution_count": null,
      "outputs": [
        {
          "output_type": "execute_result",
          "data": {
            "text/plain": [
              "\\n1\\n                                                                                                        8101\n",
              "nan                                                                                                          6640\n",
              "\\n2\\n                                                                                                         766\n",
              "\\n0\\n                                                                                                         163\n",
              "\\n3\\n                                                                                                          17\n",
              "                                                                                                             ... \n",
              "['\\n1\\n', '\\n111 g CO2/km (comb)\\n']                                                                            1\n",
              "['\\n1\\n', '\\nEuro 6\\n']                                                                                         1\n",
              "['\\n2\\n', '\\n119 g CO2/km (comb)\\n']                                                                            1\n",
              "['\\n1\\n', '\\n', '6.6 l/100 km (comb)', '\\n', '8.1 l/100 km (city)', '\\n', '5.7 l/100 km (country)', '\\n']       1\n",
              "['\\n2\\n', '\\n137 g CO2/km (comb)\\n']                                                                            1\n",
              "Name: Previous Owners, Length: 103, dtype: int64"
            ]
          },
          "metadata": {},
          "execution_count": 283
        }
      ]
    },
    {
      "cell_type": "code",
      "source": [
        "df[\"Previous_Owners\"] = [item[0] if type(item) == list else item for item in df[\"Previous Owners\"]]\n",
        "df[\"Previous_Owners\"]"
      ],
      "metadata": {
        "colab": {
          "base_uri": "https://localhost:8080/"
        },
        "id": "nK06Jm9--Iri",
        "outputId": "bfc40e3f-82b3-45fa-8a85-6d71f14a237d"
      },
      "execution_count": null,
      "outputs": [
        {
          "output_type": "execute_result",
          "data": {
            "text/plain": [
              "0        \\n2\\n\n",
              "1          NaN\n",
              "2        \\n1\\n\n",
              "3        \\n1\\n\n",
              "4        \\n1\\n\n",
              "         ...  \n",
              "15914      NaN\n",
              "15915    \\n1\\n\n",
              "15916    \\n1\\n\n",
              "15917      NaN\n",
              "15918    \\n1\\n\n",
              "Name: Previous_Owners, Length: 15919, dtype: object"
            ]
          },
          "metadata": {},
          "execution_count": 284
        }
      ]
    },
    {
      "cell_type": "code",
      "source": [
        "df[\"Previous_Owners2\"] = df[\"Previous Owners\"].apply(lambda item: item[0] if type(item) == list else item)\n",
        "df[\"Previous_Owners2\"]"
      ],
      "metadata": {
        "colab": {
          "base_uri": "https://localhost:8080/"
        },
        "id": "D3JoivYZ-Iua",
        "outputId": "e51bb85b-89c1-4d63-a369-5023309bfec0"
      },
      "execution_count": null,
      "outputs": [
        {
          "output_type": "execute_result",
          "data": {
            "text/plain": [
              "0        \\n2\\n\n",
              "1          NaN\n",
              "2        \\n1\\n\n",
              "3        \\n1\\n\n",
              "4        \\n1\\n\n",
              "         ...  \n",
              "15914      NaN\n",
              "15915    \\n1\\n\n",
              "15916    \\n1\\n\n",
              "15917      NaN\n",
              "15918    \\n1\\n\n",
              "Name: Previous_Owners2, Length: 15919, dtype: object"
            ]
          },
          "metadata": {},
          "execution_count": 285
        }
      ]
    },
    {
      "cell_type": "code",
      "source": [
        "df[\"Previous_Owners\"] = df[\"Previous_Owners\"].str.strip(\"\\n\").astype('float')"
      ],
      "metadata": {
        "id": "OFBiwMiu-IxL"
      },
      "execution_count": null,
      "outputs": []
    },
    {
      "cell_type": "code",
      "source": [
        "df[\"Previous_Owners\"].value_counts(dropna=False)"
      ],
      "metadata": {
        "colab": {
          "base_uri": "https://localhost:8080/"
        },
        "id": "16xj_Nh2-Iz9",
        "outputId": "bb645d43-d350-4425-f361-1346a5556b08"
      },
      "execution_count": null,
      "outputs": [
        {
          "output_type": "execute_result",
          "data": {
            "text/plain": [
              "1.00    8294\n",
              "NaN     6640\n",
              "2.00     778\n",
              "0.00     188\n",
              "3.00      17\n",
              "4.00       2\n",
              "Name: Previous_Owners, dtype: int64"
            ]
          },
          "metadata": {},
          "execution_count": 287
        }
      ]
    },
    {
      "cell_type": "code",
      "source": [
        "df[\"prev_owner\"] = df[\"prev_owner\"].str.extract(\"(\\d*)\").astype('float')"
      ],
      "metadata": {
        "id": "SifuCmtl-I3P"
      },
      "execution_count": null,
      "outputs": []
    },
    {
      "cell_type": "code",
      "source": [
        "df[\"prev_owner\"].value_counts(dropna=False)"
      ],
      "metadata": {
        "colab": {
          "base_uri": "https://localhost:8080/"
        },
        "id": "ryvPUAr7-I5-",
        "outputId": "8076d3f3-6b1d-46b7-84c3-030242cdece3"
      },
      "execution_count": null,
      "outputs": [
        {
          "output_type": "execute_result",
          "data": {
            "text/plain": [
              "1.00    8294\n",
              "NaN     6828\n",
              "2.00     778\n",
              "3.00      17\n",
              "4.00       2\n",
              "Name: prev_owner, dtype: int64"
            ]
          },
          "metadata": {},
          "execution_count": 289
        }
      ]
    },
    {
      "cell_type": "code",
      "source": [
        "df[\"Previous_Owners\"].fillna(df[\"prev_owner\"], inplace=True)"
      ],
      "metadata": {
        "id": "M7VffYio-I9C"
      },
      "execution_count": null,
      "outputs": []
    },
    {
      "cell_type": "code",
      "source": [
        "df[\"Previous_Owners\"].value_counts(dropna=False)"
      ],
      "metadata": {
        "colab": {
          "base_uri": "https://localhost:8080/"
        },
        "id": "r-xbx6_Q-I_6",
        "outputId": "256b2f9a-55e6-47fa-9290-6d8b312d0112"
      },
      "execution_count": null,
      "outputs": [
        {
          "output_type": "execute_result",
          "data": {
            "text/plain": [
              "1.00    8294\n",
              "NaN     6640\n",
              "2.00     778\n",
              "0.00     188\n",
              "3.00      17\n",
              "4.00       2\n",
              "Name: Previous_Owners, dtype: int64"
            ]
          },
          "metadata": {},
          "execution_count": 291
        }
      ]
    },
    {
      "cell_type": "code",
      "source": [
        "df[(df[\"Previous_Owners\"].isna()) & (df[\"prev_owner\"].notna())]#.value_counts()"
      ],
      "metadata": {
        "colab": {
          "base_uri": "https://localhost:8080/",
          "height": 148
        },
        "id": "WplwT6ek-JCy",
        "outputId": "c8fec846-d6fa-4cbf-cff4-e947dcdac2f7"
      },
      "execution_count": null,
      "outputs": [
        {
          "output_type": "execute_result",
          "data": {
            "text/plain": [
              "Empty DataFrame\n",
              "Columns: [make_model, body_type, price, vat, km, prev_owner, hp, Type, Previous Owners, Next Inspection, Inspection new, Warranty, Full Service, Non-smoking Vehicle, Offer Number, Body Color, Paint Type, Body Color Original, Upholstery, Nr. of Doors, Nr. of Seats, Model Code, Gearing Type, Displacement, Cylinders, Weight, Drive chain, Fuel, Consumption, CO2 Emission, Emission Class, Comfort_Convenience, Entertainment_Media, Extras, Safety_Security, Emission Label, Gears, Country version, age, Previous_Owners, Previous_Owners2]\n",
              "Index: []"
            ],
            "text/html": [
              "\n",
              "  <div id=\"df-0a0ee60b-58ea-44f6-a7c8-1de0d6847e28\">\n",
              "    <div class=\"colab-df-container\">\n",
              "      <div>\n",
              "<style scoped>\n",
              "    .dataframe tbody tr th:only-of-type {\n",
              "        vertical-align: middle;\n",
              "    }\n",
              "\n",
              "    .dataframe tbody tr th {\n",
              "        vertical-align: top;\n",
              "    }\n",
              "\n",
              "    .dataframe thead th {\n",
              "        text-align: right;\n",
              "    }\n",
              "</style>\n",
              "<table border=\"1\" class=\"dataframe\">\n",
              "  <thead>\n",
              "    <tr style=\"text-align: right;\">\n",
              "      <th></th>\n",
              "      <th>make_model</th>\n",
              "      <th>body_type</th>\n",
              "      <th>price</th>\n",
              "      <th>vat</th>\n",
              "      <th>km</th>\n",
              "      <th>prev_owner</th>\n",
              "      <th>hp</th>\n",
              "      <th>Type</th>\n",
              "      <th>Previous Owners</th>\n",
              "      <th>Next Inspection</th>\n",
              "      <th>Inspection new</th>\n",
              "      <th>Warranty</th>\n",
              "      <th>Full Service</th>\n",
              "      <th>Non-smoking Vehicle</th>\n",
              "      <th>Offer Number</th>\n",
              "      <th>Body Color</th>\n",
              "      <th>Paint Type</th>\n",
              "      <th>Body Color Original</th>\n",
              "      <th>Upholstery</th>\n",
              "      <th>Nr. of Doors</th>\n",
              "      <th>Nr. of Seats</th>\n",
              "      <th>Model Code</th>\n",
              "      <th>Gearing Type</th>\n",
              "      <th>Displacement</th>\n",
              "      <th>Cylinders</th>\n",
              "      <th>Weight</th>\n",
              "      <th>Drive chain</th>\n",
              "      <th>Fuel</th>\n",
              "      <th>Consumption</th>\n",
              "      <th>CO2 Emission</th>\n",
              "      <th>Emission Class</th>\n",
              "      <th>Comfort_Convenience</th>\n",
              "      <th>Entertainment_Media</th>\n",
              "      <th>Extras</th>\n",
              "      <th>Safety_Security</th>\n",
              "      <th>Emission Label</th>\n",
              "      <th>Gears</th>\n",
              "      <th>Country version</th>\n",
              "      <th>age</th>\n",
              "      <th>Previous_Owners</th>\n",
              "      <th>Previous_Owners2</th>\n",
              "    </tr>\n",
              "  </thead>\n",
              "  <tbody>\n",
              "  </tbody>\n",
              "</table>\n",
              "</div>\n",
              "      <button class=\"colab-df-convert\" onclick=\"convertToInteractive('df-0a0ee60b-58ea-44f6-a7c8-1de0d6847e28')\"\n",
              "              title=\"Convert this dataframe to an interactive table.\"\n",
              "              style=\"display:none;\">\n",
              "        \n",
              "  <svg xmlns=\"http://www.w3.org/2000/svg\" height=\"24px\"viewBox=\"0 0 24 24\"\n",
              "       width=\"24px\">\n",
              "    <path d=\"M0 0h24v24H0V0z\" fill=\"none\"/>\n",
              "    <path d=\"M18.56 5.44l.94 2.06.94-2.06 2.06-.94-2.06-.94-.94-2.06-.94 2.06-2.06.94zm-11 1L8.5 8.5l.94-2.06 2.06-.94-2.06-.94L8.5 2.5l-.94 2.06-2.06.94zm10 10l.94 2.06.94-2.06 2.06-.94-2.06-.94-.94-2.06-.94 2.06-2.06.94z\"/><path d=\"M17.41 7.96l-1.37-1.37c-.4-.4-.92-.59-1.43-.59-.52 0-1.04.2-1.43.59L10.3 9.45l-7.72 7.72c-.78.78-.78 2.05 0 2.83L4 21.41c.39.39.9.59 1.41.59.51 0 1.02-.2 1.41-.59l7.78-7.78 2.81-2.81c.8-.78.8-2.07 0-2.86zM5.41 20L4 18.59l7.72-7.72 1.47 1.35L5.41 20z\"/>\n",
              "  </svg>\n",
              "      </button>\n",
              "      \n",
              "  <style>\n",
              "    .colab-df-container {\n",
              "      display:flex;\n",
              "      flex-wrap:wrap;\n",
              "      gap: 12px;\n",
              "    }\n",
              "\n",
              "    .colab-df-convert {\n",
              "      background-color: #E8F0FE;\n",
              "      border: none;\n",
              "      border-radius: 50%;\n",
              "      cursor: pointer;\n",
              "      display: none;\n",
              "      fill: #1967D2;\n",
              "      height: 32px;\n",
              "      padding: 0 0 0 0;\n",
              "      width: 32px;\n",
              "    }\n",
              "\n",
              "    .colab-df-convert:hover {\n",
              "      background-color: #E2EBFA;\n",
              "      box-shadow: 0px 1px 2px rgba(60, 64, 67, 0.3), 0px 1px 3px 1px rgba(60, 64, 67, 0.15);\n",
              "      fill: #174EA6;\n",
              "    }\n",
              "\n",
              "    [theme=dark] .colab-df-convert {\n",
              "      background-color: #3B4455;\n",
              "      fill: #D2E3FC;\n",
              "    }\n",
              "\n",
              "    [theme=dark] .colab-df-convert:hover {\n",
              "      background-color: #434B5C;\n",
              "      box-shadow: 0px 1px 3px 1px rgba(0, 0, 0, 0.15);\n",
              "      filter: drop-shadow(0px 1px 2px rgba(0, 0, 0, 0.3));\n",
              "      fill: #FFFFFF;\n",
              "    }\n",
              "  </style>\n",
              "\n",
              "      <script>\n",
              "        const buttonEl =\n",
              "          document.querySelector('#df-0a0ee60b-58ea-44f6-a7c8-1de0d6847e28 button.colab-df-convert');\n",
              "        buttonEl.style.display =\n",
              "          google.colab.kernel.accessAllowed ? 'block' : 'none';\n",
              "\n",
              "        async function convertToInteractive(key) {\n",
              "          const element = document.querySelector('#df-0a0ee60b-58ea-44f6-a7c8-1de0d6847e28');\n",
              "          const dataTable =\n",
              "            await google.colab.kernel.invokeFunction('convertToInteractive',\n",
              "                                                     [key], {});\n",
              "          if (!dataTable) return;\n",
              "\n",
              "          const docLinkHtml = 'Like what you see? Visit the ' +\n",
              "            '<a target=\"_blank\" href=https://colab.research.google.com/notebooks/data_table.ipynb>data table notebook</a>'\n",
              "            + ' to learn more about interactive tables.';\n",
              "          element.innerHTML = '';\n",
              "          dataTable['output_type'] = 'display_data';\n",
              "          await google.colab.output.renderOutput(dataTable, element);\n",
              "          const docLink = document.createElement('div');\n",
              "          docLink.innerHTML = docLinkHtml;\n",
              "          element.appendChild(docLink);\n",
              "        }\n",
              "      </script>\n",
              "    </div>\n",
              "  </div>\n",
              "  "
            ]
          },
          "metadata": {},
          "execution_count": 292
        }
      ]
    },
    {
      "cell_type": "code",
      "source": [
        "df.drop([\"prev_owner\", \"Previous Owners\", \"Previous_Owners2\"], axis=1, inplace=True)"
      ],
      "metadata": {
        "id": "ZzR15MB4-JF6"
      },
      "execution_count": null,
      "outputs": []
    },
    {
      "cell_type": "markdown",
      "source": [
        "hp"
      ],
      "metadata": {
        "id": "sZxEWg-XPqTE"
      }
    },
    {
      "cell_type": "code",
      "source": [
        "df.hp.value_counts(dropna=False)"
      ],
      "metadata": {
        "colab": {
          "base_uri": "https://localhost:8080/"
        },
        "id": "JumEbX21PlGQ",
        "outputId": "bb1a177d-943c-4dab-cf9c-bc4392a9e64d"
      },
      "execution_count": null,
      "outputs": [
        {
          "output_type": "execute_result",
          "data": {
            "text/plain": [
              "85 kW     2542\n",
              "66 kW     2122\n",
              "81 kW     1402\n",
              "100 kW    1308\n",
              "110 kW    1112\n",
              "70 kW      888\n",
              "125 kW     707\n",
              "51 kW      695\n",
              "55 kW      569\n",
              "118 kW     516\n",
              "92 kW      466\n",
              "121 kW     392\n",
              "147 kW     380\n",
              "77 kW      345\n",
              "56 kW      286\n",
              "54 kW      276\n",
              "103 kW     253\n",
              "87 kW      232\n",
              "165 kW     194\n",
              "88 kW      177\n",
              "60 kW      160\n",
              "162 kW      98\n",
              "- kW        88\n",
              "74 kW       81\n",
              "96 kW       72\n",
              "71 kW       59\n",
              "101 kW      47\n",
              "67 kW       40\n",
              "154 kW      39\n",
              "122 kW      35\n",
              "119 kW      30\n",
              "164 kW      27\n",
              "135 kW      24\n",
              "82 kW       22\n",
              "52 kW       22\n",
              "78 kW       20\n",
              "1 kW        20\n",
              "294 kW      18\n",
              "146 kW      18\n",
              "141 kW      16\n",
              "57 kW       10\n",
              "104 kW       8\n",
              "120 kW       8\n",
              "191 kW       7\n",
              "112 kW       7\n",
              "155 kW       6\n",
              "117 kW       6\n",
              "184 kW       5\n",
              "90 kW        4\n",
              "76 kW        4\n",
              "65 kW        4\n",
              "149 kW       3\n",
              "80 kW        3\n",
              "168 kW       3\n",
              "98 kW        3\n",
              "93 kW        3\n",
              "228 kW       2\n",
              "270 kW       2\n",
              "53 kW        2\n",
              "140 kW       2\n",
              "86 kW        2\n",
              "167 kW       2\n",
              "127 kW       2\n",
              "89 kW        2\n",
              "143 kW       2\n",
              "63 kW        2\n",
              "40 kW        2\n",
              "150 kW       2\n",
              "163 kW       1\n",
              "115 kW       1\n",
              "132 kW       1\n",
              "75 kW        1\n",
              "4 kW         1\n",
              "137 kW       1\n",
              "123 kW       1\n",
              "133 kW       1\n",
              "84 kW        1\n",
              "195 kW       1\n",
              "44 kW        1\n",
              "239 kW       1\n",
              "9 kW         1\n",
              "Name: hp, dtype: int64"
            ]
          },
          "metadata": {},
          "execution_count": 294
        }
      ]
    },
    {
      "cell_type": "code",
      "source": [
        "df[\"hp_kW\"] = df.hp.str.extract('(\\d{1,4})').astype('float') # str.extract('(\\d+)')"
      ],
      "metadata": {
        "id": "8q-Piec2PlXj"
      },
      "execution_count": null,
      "outputs": []
    },
    {
      "cell_type": "code",
      "source": [
        "df.hp_kW.value_counts(dropna=False)"
      ],
      "metadata": {
        "colab": {
          "base_uri": "https://localhost:8080/"
        },
        "id": "Ff1_TDh0Plho",
        "outputId": "1d31bfff-7a8b-4535-90ee-4899fa148ec1"
      },
      "execution_count": null,
      "outputs": [
        {
          "output_type": "execute_result",
          "data": {
            "text/plain": [
              "85.00     2542\n",
              "66.00     2122\n",
              "81.00     1402\n",
              "100.00    1308\n",
              "110.00    1112\n",
              "70.00      888\n",
              "125.00     707\n",
              "51.00      695\n",
              "55.00      569\n",
              "118.00     516\n",
              "92.00      466\n",
              "121.00     392\n",
              "147.00     380\n",
              "77.00      345\n",
              "56.00      286\n",
              "54.00      276\n",
              "103.00     253\n",
              "87.00      232\n",
              "165.00     194\n",
              "88.00      177\n",
              "60.00      160\n",
              "162.00      98\n",
              "NaN         88\n",
              "74.00       81\n",
              "96.00       72\n",
              "71.00       59\n",
              "101.00      47\n",
              "67.00       40\n",
              "154.00      39\n",
              "122.00      35\n",
              "119.00      30\n",
              "164.00      27\n",
              "135.00      24\n",
              "82.00       22\n",
              "52.00       22\n",
              "78.00       20\n",
              "1.00        20\n",
              "294.00      18\n",
              "146.00      18\n",
              "141.00      16\n",
              "57.00       10\n",
              "104.00       8\n",
              "120.00       8\n",
              "191.00       7\n",
              "112.00       7\n",
              "155.00       6\n",
              "117.00       6\n",
              "184.00       5\n",
              "90.00        4\n",
              "76.00        4\n",
              "65.00        4\n",
              "149.00       3\n",
              "80.00        3\n",
              "168.00       3\n",
              "98.00        3\n",
              "93.00        3\n",
              "228.00       2\n",
              "270.00       2\n",
              "53.00        2\n",
              "140.00       2\n",
              "86.00        2\n",
              "167.00       2\n",
              "127.00       2\n",
              "89.00        2\n",
              "143.00       2\n",
              "63.00        2\n",
              "40.00        2\n",
              "150.00       2\n",
              "163.00       1\n",
              "115.00       1\n",
              "132.00       1\n",
              "75.00        1\n",
              "4.00         1\n",
              "137.00       1\n",
              "123.00       1\n",
              "133.00       1\n",
              "84.00        1\n",
              "195.00       1\n",
              "44.00        1\n",
              "239.00       1\n",
              "9.00         1\n",
              "Name: hp_kW, dtype: int64"
            ]
          },
          "metadata": {},
          "execution_count": 296
        }
      ]
    },
    {
      "cell_type": "code",
      "source": [
        "df.drop('hp', axis=1, inplace=True)"
      ],
      "metadata": {
        "id": "2r-xnmP5Pll9"
      },
      "execution_count": null,
      "outputs": []
    },
    {
      "cell_type": "markdown",
      "source": [
        "Type"
      ],
      "metadata": {
        "id": "fm6fIzwtP_gd"
      }
    },
    {
      "cell_type": "code",
      "source": [
        "df.Type.astype('str').value_counts()"
      ],
      "metadata": {
        "colab": {
          "base_uri": "https://localhost:8080/"
        },
        "id": "q7R8MH02PluE",
        "outputId": "21ee57b3-3332-4dba-ef62-bad02d66410e"
      },
      "execution_count": null,
      "outputs": [
        {
          "output_type": "execute_result",
          "data": {
            "text/plain": [
              "['', 'Used', '', 'Diesel (Particulate Filter)']                                                                                 3475\n",
              "['', 'Used', '', 'Diesel']                                                                                                      2516\n",
              "['', 'Used', '', 'Gasoline']                                                                                                    2367\n",
              "['', 'Used', '', 'Super 95']                                                                                                    1818\n",
              "['', 'Pre-registered', '', 'Super 95']                                                                                           500\n",
              "                                                                                                                                ... \n",
              "['', 'New', '', 'Regular/Benzine 91 / Super 95 / Super Plus 98 / Regular/Benzine E10 91 / Super Plus E10 98 / Super E10 95']       1\n",
              "['', 'Used', '', 'Super 95 / Super Plus 98 / Super E10 95 / Super Plus E10 98 (Particulate Filter)']                               1\n",
              "['', 'Demonstration', '', 'Super Plus 98']                                                                                         1\n",
              "['', 'New', '', 'Super Plus E10 98']                                                                                               1\n",
              "['', 'Demonstration', '', 'Regular/Benzine E10 91']                                                                                1\n",
              "Name: Type, Length: 170, dtype: int64"
            ]
          },
          "metadata": {},
          "execution_count": 298
        }
      ]
    },
    {
      "cell_type": "code",
      "source": [
        "df[\"Type\"] = df.Type.str[1]"
      ],
      "metadata": {
        "id": "-8XNw2DwPlxY"
      },
      "execution_count": null,
      "outputs": []
    },
    {
      "cell_type": "code",
      "source": [
        "df['Type'].value_counts(dropna=False)"
      ],
      "metadata": {
        "colab": {
          "base_uri": "https://localhost:8080/"
        },
        "id": "pTsv_tNNPl0r",
        "outputId": "24c6378c-1761-418f-f1ae-aefaa481a0ef"
      },
      "execution_count": null,
      "outputs": [
        {
          "output_type": "execute_result",
          "data": {
            "text/plain": [
              "Used              11096\n",
              "New                1650\n",
              "Pre-registered     1364\n",
              "Employee's car     1011\n",
              "Demonstration       796\n",
              "NaN                   2\n",
              "Name: Type, dtype: int64"
            ]
          },
          "metadata": {},
          "execution_count": 300
        }
      ]
    },
    {
      "cell_type": "markdown",
      "source": [
        "Next Inspection & Inspection new"
      ],
      "metadata": {
        "id": "gR7du3lwQRSI"
      }
    },
    {
      "cell_type": "code",
      "source": [
        "df[\"Next Inspection\"].astype('str').value_counts(dropna=False)"
      ],
      "metadata": {
        "colab": {
          "base_uri": "https://localhost:8080/"
        },
        "id": "2SYjqpG7Pl7u",
        "outputId": "e6c5ffb3-2b39-46a2-c6d1-ac24a59bf794"
      },
      "execution_count": null,
      "outputs": [
        {
          "output_type": "execute_result",
          "data": {
            "text/plain": [
              "nan                                           12384\n",
              "\\n04/2022\\n                                      62\n",
              "\\n03/2021\\n                                      38\n",
              "\\n03/2022\\n                                      36\n",
              "\\n06/2021\\n                                      34\n",
              "                                              ...  \n",
              "['\\n12/2018\\n', '\\n97 g CO2/km (comb)\\n']         1\n",
              "['\\n03/2022\\n', '\\n1 (No sticker)\\n']             1\n",
              "['\\n05/2021\\n', '\\n93 g CO2/km (comb)\\n']         1\n",
              "['\\n06/2021\\n', '\\n93 g CO2/km (comb)\\n']         1\n",
              "['\\n01/2022\\n', '\\n168 g CO2/km (comb)\\n']        1\n",
              "Name: Next Inspection, Length: 1400, dtype: int64"
            ]
          },
          "metadata": {},
          "execution_count": 301
        }
      ]
    },
    {
      "cell_type": "code",
      "source": [
        "df[\"Inspection new\"].astype('str').value_counts(dropna=False)"
      ],
      "metadata": {
        "colab": {
          "base_uri": "https://localhost:8080/"
        },
        "id": "nuymopmA-JLy",
        "outputId": "e426a54e-ca4a-49b9-e80d-fdf6e6cc376b"
      },
      "execution_count": null,
      "outputs": [
        {
          "output_type": "execute_result",
          "data": {
            "text/plain": [
              "nan                                                                                                            11987\n",
              "['\\nYes\\n', '\\nEuro 6\\n']                                                                                        523\n",
              "\\nYes\\n                                                                                                          362\n",
              "['\\nYes\\n', '\\n102 g CO2/km (comb)\\n']                                                                           174\n",
              "['\\nYes\\n', '\\n4 (Green)\\n']                                                                                     166\n",
              "                                                                                                               ...  \n",
              "['\\nYes\\n', '\\n', '6 l/100 km (comb)', '\\n', '8 l/100 km (city)', '\\n', '4.9 l/100 km (country)', '\\n']            1\n",
              "['\\nYes\\n', '\\n', '6.8 l/100 km (comb)', '\\n', '8.5 l/100 km (city)', '\\n', '6.1 l/100 km (country)', '\\n']        1\n",
              "['\\nYes\\n', '\\n', '4.1 l/100 km (comb)', '\\n', '7.5 l/100 km (city)', '\\n', '5.2 l/100 km (country)', '\\n']        1\n",
              "['\\nYes\\n', '\\n', '5.2 l/100 km (comb)', '\\n', '6.8 l/100 km (city)', '\\n', '4.3 l/100 km (country)', '\\n']        1\n",
              "['\\nYes\\n', '\\n172 g CO2/km (comb)\\n']                                                                             1\n",
              "Name: Inspection new, Length: 203, dtype: int64"
            ]
          },
          "metadata": {},
          "execution_count": 302
        }
      ]
    },
    {
      "cell_type": "code",
      "source": [
        "df[\"Inspection_new\"] = [item[0] if type(item) == list else item for item in df[\"Inspection new\"]]\n",
        "\n",
        "df[\"Inspection_new\"] = df[\"Inspection_new\"].str.strip(\"\\n\")"
      ],
      "metadata": {
        "id": "4Z61i_vV-JO9"
      },
      "execution_count": null,
      "outputs": []
    },
    {
      "cell_type": "code",
      "source": [
        "df[\"Inspection_new\"].value_counts(dropna=False)"
      ],
      "metadata": {
        "colab": {
          "base_uri": "https://localhost:8080/"
        },
        "id": "mpe3JzdtQcgU",
        "outputId": "0aeb2a20-d1e6-41f6-e7fd-8b867d0e0e42"
      },
      "execution_count": null,
      "outputs": [
        {
          "output_type": "execute_result",
          "data": {
            "text/plain": [
              "NaN    11987\n",
              "Yes     3932\n",
              "Name: Inspection_new, dtype: int64"
            ]
          },
          "metadata": {},
          "execution_count": 304
        }
      ]
    },
    {
      "cell_type": "code",
      "source": [
        "df.drop([\"Next Inspection\", \"Inspection new\"], axis=1, inplace=True)"
      ],
      "metadata": {
        "id": "bJLLMEIlQcj9"
      },
      "execution_count": null,
      "outputs": []
    },
    {
      "cell_type": "code",
      "source": [
        ""
      ],
      "metadata": {
        "id": "0XYdGsVpQcop"
      },
      "execution_count": null,
      "outputs": []
    },
    {
      "cell_type": "markdown",
      "source": [
        "Warranty\n"
      ],
      "metadata": {
        "id": "soNZrS1q8_A7"
      }
    },
    {
      "cell_type": "code",
      "source": [
        "df.Warranty.astype('str').value_counts(dropna=False)"
      ],
      "metadata": {
        "colab": {
          "base_uri": "https://localhost:8080/"
        },
        "id": "zQD3lMCaQcuQ",
        "outputId": "ad185230-1b2d-4cfb-8dd9-4bba2fd211c6"
      },
      "execution_count": null,
      "outputs": [
        {
          "output_type": "execute_result",
          "data": {
            "text/plain": [
              "nan                                                                                                                5420\n",
              "['\\n', '\\n', '\\nEuro 6\\n']                                                                                         1868\n",
              "\\n12 months\\n                                                                                                      1177\n",
              "\\n                                                                                                                  979\n",
              "\\n24 months\\n                                                                                                       566\n",
              "                                                                                                                   ... \n",
              "['\\n72 months\\n', '\\n125 g CO2/km (comb)\\n']                                                                          1\n",
              "['\\n60 months\\n', '\\n14 g CO2/km (comb)\\n']                                                                           1\n",
              "['\\n24 months\\n', '\\n121 g CO2/km (comb)\\n']                                                                          1\n",
              "['\\n12 months\\n', '\\nEuro 6d\\n']                                                                                      1\n",
              "['\\n36 months\\n', '\\n', '7.4 l/100 km (comb)', '\\n', '9.6 l/100 km (city)', '\\n', '6 l/100 km (country)', '\\n']       1\n",
              "Name: Warranty, Length: 516, dtype: int64"
            ]
          },
          "metadata": {},
          "execution_count": 306
        }
      ]
    },
    {
      "cell_type": "code",
      "source": [
        "df[\"Warranty\"] = df.Warranty.apply(lambda x : x[0] if type(x)==list else x)\n",
        "\n",
        "df[\"Warranty\"] = df.Warranty.str.strip(\"\\n\").str.extract('(\\d{1,2})').astype(\"float\") # str.extract('(\\d+)')"
      ],
      "metadata": {
        "id": "rvGfS1LTQcxw"
      },
      "execution_count": null,
      "outputs": []
    },
    {
      "cell_type": "code",
      "source": [
        "df.Warranty.value_counts(dropna=False)"
      ],
      "metadata": {
        "colab": {
          "base_uri": "https://localhost:8080/"
        },
        "id": "neCUSApxQc04",
        "outputId": "f0508c95-84ae-4067-b21a-67bacc943957"
      },
      "execution_count": null,
      "outputs": [
        {
          "output_type": "execute_result",
          "data": {
            "text/plain": [
              "NaN      11066\n",
              "12.00     2594\n",
              "24.00     1118\n",
              "60.00      401\n",
              "36.00      279\n",
              "48.00      149\n",
              "6.00       125\n",
              "72.00       59\n",
              "3.00        33\n",
              "23.00       11\n",
              "18.00       10\n",
              "20.00        7\n",
              "25.00        6\n",
              "2.00         5\n",
              "50.00        4\n",
              "26.00        4\n",
              "16.00        4\n",
              "4.00         3\n",
              "1.00         3\n",
              "19.00        3\n",
              "34.00        3\n",
              "13.00        3\n",
              "28.00        2\n",
              "22.00        2\n",
              "14.00        2\n",
              "11.00        2\n",
              "46.00        2\n",
              "21.00        2\n",
              "9.00         2\n",
              "17.00        2\n",
              "45.00        2\n",
              "33.00        1\n",
              "40.00        1\n",
              "65.00        1\n",
              "10.00        1\n",
              "15.00        1\n",
              "7.00         1\n",
              "8.00         1\n",
              "56.00        1\n",
              "49.00        1\n",
              "47.00        1\n",
              "30.00        1\n",
              "Name: Warranty, dtype: int64"
            ]
          },
          "metadata": {},
          "execution_count": 308
        }
      ]
    },
    {
      "cell_type": "markdown",
      "source": [
        "Full Service"
      ],
      "metadata": {
        "id": "nVgg7-JYAHZD"
      }
    },
    {
      "cell_type": "code",
      "source": [
        "df['Full Service'].astype('str').value_counts(dropna=False)"
      ],
      "metadata": {
        "colab": {
          "base_uri": "https://localhost:8080/"
        },
        "id": "KPj1h8WbQc7J",
        "outputId": "b6d8430f-ba0c-449e-ac0e-c035fb15e2a1"
      },
      "execution_count": null,
      "outputs": [
        {
          "output_type": "execute_result",
          "data": {
            "text/plain": [
              "nan                                                                                                             7704\n",
              "['\\n', '\\n', '\\n4 (Green)\\n']                                                                                   2235\n",
              "['\\n', '\\n', '\\nEuro 6\\n']                                                                                      2097\n",
              "['\\n', '\\n']                                                                                                    1702\n",
              "['\\n', '\\n', '\\nEuro 6d-TEMP\\n']                                                                                 399\n",
              "                                                                                                                ... \n",
              "['\\n', '\\n', '\\n80 g CO2/km (comb)\\n']                                                                             1\n",
              "['\\n', '\\n', '\\n84 g CO2/km (comb)\\n']                                                                             1\n",
              "['\\n', '\\n', '\\n', '6 l/100 km (comb)', '\\n', '8 l/100 km (city)', '\\n', '4.9 l/100 km (country)', '\\n']           1\n",
              "['\\n', '\\n', '\\n', '4.9 l/100 km (comb)', '\\n', '6.2 l/100 km (city)', '\\n', '4.1 l/100 km (country)', '\\n']       1\n",
              "['\\n', '\\n', '\\nEuro 4\\n']                                                                                         1\n",
              "Name: Full Service, Length: 123, dtype: int64"
            ]
          },
          "metadata": {},
          "execution_count": 309
        }
      ]
    },
    {
      "cell_type": "code",
      "source": [
        "df.drop(\"Full Service\", axis=1, inplace=True)"
      ],
      "metadata": {
        "id": "W59sn-iSQc91"
      },
      "execution_count": null,
      "outputs": []
    },
    {
      "cell_type": "markdown",
      "source": [
        "Non-smoking Vehicle"
      ],
      "metadata": {
        "id": "i9nWXvwJAhAJ"
      }
    },
    {
      "cell_type": "code",
      "source": [
        "df['Non-smoking Vehicle']"
      ],
      "metadata": {
        "colab": {
          "base_uri": "https://localhost:8080/"
        },
        "id": "MRuyLUIiQdD4",
        "outputId": "2e340f98-a6e6-42e9-d554-a694343b67a5"
      },
      "execution_count": null,
      "outputs": [
        {
          "output_type": "execute_result",
          "data": {
            "text/plain": [
              "0                       [\\n, \\n]\n",
              "1                            NaN\n",
              "2                            NaN\n",
              "3           [\\n, \\n, \\nEuro 6\\n]\n",
              "4                       [\\n, \\n]\n",
              "                  ...           \n",
              "15914                        NaN\n",
              "15915    [\\n, \\n, \\n4 (Green)\\n]\n",
              "15916                   [\\n, \\n]\n",
              "15917                        NaN\n",
              "15918                        NaN\n",
              "Name: Non-smoking Vehicle, Length: 15919, dtype: object"
            ]
          },
          "metadata": {},
          "execution_count": 311
        }
      ]
    },
    {
      "cell_type": "code",
      "source": [
        "df['Non-smoking Vehicle'].astype('str').value_counts(dropna=False)"
      ],
      "metadata": {
        "colab": {
          "base_uri": "https://localhost:8080/"
        },
        "id": "smmEVdh5QdGw",
        "outputId": "364b348e-2b1f-437e-d0be-d3fa32e1c777"
      },
      "execution_count": null,
      "outputs": [
        {
          "output_type": "execute_result",
          "data": {
            "text/plain": [
              "nan                                                                                                             8742\n",
              "['\\n', '\\n']                                                                                                    3647\n",
              "['\\n', '\\n', '\\n4 (Green)\\n']                                                                                   1240\n",
              "['\\n', '\\n', '\\nEuro 6\\n']                                                                                      1127\n",
              "['\\n', '\\n', '\\nEuro 6d-TEMP\\n']                                                                                 345\n",
              "\\n                                                                                                                70\n",
              "['\\n', '\\n', '\\n120 g CO2/km (comb)\\n']                                                                           63\n",
              "['\\n', '\\n', '\\n85 g CO2/km (comb)\\n']                                                                            46\n",
              "['\\n', '\\n', '\\n104 g CO2/km (comb)\\n']                                                                           36\n",
              "['\\n', '\\n', '\\n107 g CO2/km (comb)\\n']                                                                           36\n",
              "['\\n', '\\n', '\\n153 g CO2/km (comb)\\n']                                                                           31\n",
              "['\\n', '\\n', '\\n124 g CO2/km (comb)\\n']                                                                           29\n",
              "['\\n', '\\n', '\\n1 (No sticker)\\n']                                                                                24\n",
              "['\\n', '\\n', '\\n99 g CO2/km (comb)\\n']                                                                            23\n",
              "['\\n', '\\n', '\\n106 g CO2/km (comb)\\n']                                                                           20\n",
              "['\\n', '\\n', '\\n97 g CO2/km (comb)\\n']                                                                            20\n",
              "['\\n', '\\n', '\\n108 g CO2/km (comb)\\n']                                                                           19\n",
              "['\\n', '\\n', '\\n113 g CO2/km (comb)\\n']                                                                           18\n",
              "['\\n', '\\n', '\\n100 g CO2/km (comb)\\n']                                                                           18\n",
              "['\\n', '\\n', '\\n109 g CO2/km (comb)\\n']                                                                           18\n",
              "['\\n', '\\n', '\\n105 g CO2/km (comb)\\n']                                                                           18\n",
              "['\\n', '\\n', '\\nEuro 6c\\n']                                                                                       17\n",
              "['\\n', '\\n', '\\n98 g CO2/km (comb)\\n']                                                                            15\n",
              "['\\n', '\\n', '\\n129 g CO2/km (comb)\\n']                                                                           14\n",
              "['\\n', '\\n', '\\n131 g CO2/km (comb)\\n']                                                                           13\n",
              "['\\n', '\\n', '\\n133 g CO2/km (comb)\\n']                                                                           12\n",
              "['\\n', '\\n', '\\n103 g CO2/km (comb)\\n']                                                                           12\n",
              "['\\n', '\\n', '\\n114 g CO2/km (comb)\\n']                                                                           12\n",
              "['\\n', '\\n', '\\n116 g CO2/km (comb)\\n']                                                                           11\n",
              "['\\n', '\\n', '\\n135 g CO2/km (comb)\\n']                                                                           11\n",
              "['\\n', '\\n', '\\n102 g CO2/km (comb)\\n']                                                                           11\n",
              "['\\n', '\\n', '\\n127 g CO2/km (comb)\\n']                                                                           10\n",
              "['\\n', '\\n', '\\n143 g CO2/km (comb)\\n']                                                                           10\n",
              "['\\n', '\\n', '\\n92 g CO2/km (comb)\\n']                                                                             9\n",
              "['\\n', '\\n', '\\nEuro 6d\\n']                                                                                        9\n",
              "['\\n', '\\n', '\\n112 g CO2/km (comb)\\n']                                                                            9\n",
              "['\\n', '\\n', '\\n5 (Blue)\\n']                                                                                       8\n",
              "['\\n', '\\n', '\\n118 g CO2/km (comb)\\n']                                                                            8\n",
              "['\\n', '\\n', '\\n139 g CO2/km (comb)\\n']                                                                            7\n",
              "['\\n', '\\n', '\\n128 g CO2/km (comb)\\n']                                                                            7\n",
              "['\\n', '\\n', '\\n147 g CO2/km (comb)\\n']                                                                            7\n",
              "['\\n', '\\n', '\\n126 g CO2/km (comb)\\n']                                                                            6\n",
              "['\\n', '\\n', '\\n137 g CO2/km (comb)\\n']                                                                            6\n",
              "['\\n', '\\n', '\\n117 g CO2/km (comb)\\n']                                                                            6\n",
              "['\\n', '\\n', '\\n140 g CO2/km (comb)\\n']                                                                            6\n",
              "['\\n', '\\n', '\\n130 g CO2/km (comb)\\n']                                                                            5\n",
              "['\\n', '\\n', '\\n115 g CO2/km (comb)\\n']                                                                            5\n",
              "['\\n', '\\n', '\\nEuro 5\\n']                                                                                         4\n",
              "['\\n', '\\n', '\\n', '5.2 l/100 km (comb)', '\\n', '5.8 l/100 km (city)', '\\n', '4.8 l/100 km (country)', '\\n']       4\n",
              "['\\n', '\\n', '\\n123 g CO2/km (comb)\\n']                                                                            4\n",
              "['\\n', '\\n', '\\n151 g CO2/km (comb)\\n']                                                                            4\n",
              "['\\n', '\\n', '\\n95 g CO2/km (comb)\\n']                                                                             3\n",
              "['\\n', '\\n', '\\n119 g CO2/km (comb)\\n']                                                                            3\n",
              "['\\n', '\\n', '\\n148 g CO2/km (comb)\\n']                                                                            3\n",
              "['\\n', '\\n', '\\n157 g CO2/km (comb)\\n']                                                                            3\n",
              "['\\n', '\\n', '\\n136 g CO2/km (comb)\\n']                                                                            3\n",
              "['\\n', '\\n', '\\n110 g CO2/km (comb)\\n']                                                                            3\n",
              "['\\n', '\\n', '\\n149 g CO2/km (comb)\\n']                                                                            3\n",
              "['\\n', '\\n', '\\n138 g CO2/km (comb)\\n']                                                                            2\n",
              "['\\n', '\\n', '\\n125 g CO2/km (comb)\\n']                                                                            2\n",
              "['\\n', '\\n', '\\n', '5.2 l/100 km (comb)', '\\n', '6.4 l/100 km (city)', '\\n', '4.4 l/100 km (country)', '\\n']       2\n",
              "['\\n', '\\n', '\\n166 g CO2/km (comb)\\n']                                                                            2\n",
              "['\\n', '\\n', '\\n121 g CO2/km (comb)\\n']                                                                            2\n",
              "['\\n', '\\n', '\\n142 g CO2/km (comb)\\n']                                                                            2\n",
              "['\\n', '\\n', '\\n90 g CO2/km (comb)\\n']                                                                             2\n",
              "['\\n', '\\n', '\\n111 g CO2/km (comb)\\n']                                                                            2\n",
              "['\\n', '\\n', '\\n134 g CO2/km (comb)\\n']                                                                            2\n",
              "['\\n', '\\n', '\\n', '6.5 l/100 km (comb)', '\\n', '8.5 l/100 km (city)', '\\n', '5.4 l/100 km (country)', '\\n']       1\n",
              "['\\n', '\\n', '\\n', '6.4 l/100 km (comb)', '\\n', '8.1 l/100 km (city)', '\\n', '5.4 l/100 km (country)', '\\n']       1\n",
              "['\\n', '\\n', '\\n161 g CO2/km (comb)\\n']                                                                            1\n",
              "['\\n', '\\n', '\\n172 g CO2/km (comb)\\n']                                                                            1\n",
              "['\\n', '\\n', '\\n189 g CO2/km (comb)\\n']                                                                            1\n",
              "['\\n', '\\n', '\\n82 g CO2/km (comb)\\n']                                                                             1\n",
              "['\\n', '\\n', '\\n154 g CO2/km (comb)\\n']                                                                            1\n",
              "['\\n', '\\n', '\\n', '6.5 l/100 km (comb)', '\\n', '7.9 l/100 km (city)', '\\n', '5.6 l/100 km (country)', '\\n']       1\n",
              "['\\n', '\\n', '\\n', '6.3 l/100 km (comb)', '\\n', '8 l/100 km (city)', '\\n', '5.3 l/100 km (country)', '\\n']         1\n",
              "['\\n', '\\n', '\\n146 g CO2/km (comb)\\n']                                                                            1\n",
              "['\\n', '\\n', '\\n', '5.7 l/100 km (comb)', '\\n', '7.3 l/100 km (city)', '\\n', '4.7 l/100 km (country)', '\\n']       1\n",
              "['\\n', '\\n', '\\n', '6.1 l/100 km (comb)', '\\n', '7.7 l/100 km (city)', '\\n', '5.2 l/100 km (country)', '\\n']       1\n",
              "['\\n', '\\n', '\\n156 g CO2/km (comb)\\n']                                                                            1\n",
              "['\\n', '\\n', '\\n', '6.1 l/100 km (comb)', '\\n', '7.8 l/100 km (city)', '\\n', '5.1 l/100 km (country)', '\\n']       1\n",
              "['\\n', '\\n', '\\n', '6.2 l/100 km (comb)', '\\n', '7.9 l/100 km (city)', '\\n', '5.3 l/100 km (country)', '\\n']       1\n",
              "['\\n', '\\n', '\\n152 g CO2/km (comb)\\n']                                                                            1\n",
              "['\\n', '\\n', '\\n144 g CO2/km (comb)\\n']                                                                            1\n",
              "['\\n', '\\n', '\\n132 g CO2/km (comb)\\n']                                                                            1\n",
              "['\\n', '\\n', '\\n', '1.6 l/100 km (comb)', '\\n', '\\n', '\\n']                                                        1\n",
              "['\\n', '\\n', '\\n169 g CO2/km (comb)\\n']                                                                            1\n",
              "['\\n', '\\n', '\\n101 g CO2/km (comb)\\n']                                                                            1\n",
              "['\\n', '\\n', '\\n159 g CO2/km (comb)\\n']                                                                            1\n",
              "['\\n', '\\n', '\\n91 g CO2/km (comb)\\n']                                                                             1\n",
              "['\\n', '\\n', '\\n', '5.6 l/100 km (comb)', '\\n', '7.3 l/100 km (city)', '\\n', '4.7 l/100 km (country)', '\\n']       1\n",
              "['\\n', '\\n', '\\n122 g CO2/km (comb)\\n']                                                                            1\n",
              "['\\n', '\\n', '\\n158 g CO2/km (comb)\\n']                                                                            1\n",
              "['\\n', '\\n', '\\n150 g CO2/km (comb)\\n']                                                                            1\n",
              "['\\n', '\\n', '\\n175 g CO2/km (comb)\\n']                                                                            1\n",
              "Name: Non-smoking Vehicle, dtype: int64"
            ]
          },
          "metadata": {},
          "execution_count": 312
        }
      ]
    },
    {
      "cell_type": "code",
      "source": [
        "df.drop(\"Non-smoking Vehicle\", axis=1, inplace=True)"
      ],
      "metadata": {
        "id": "mEaawGJMQdJf"
      },
      "execution_count": null,
      "outputs": []
    },
    {
      "cell_type": "markdown",
      "source": [
        "Offer Number"
      ],
      "metadata": {
        "id": "i3hFqP2oAv59"
      }
    },
    {
      "cell_type": "code",
      "source": [
        "df['Offer Number'].astype('str').value_counts(dropna=False)"
      ],
      "metadata": {
        "colab": {
          "base_uri": "https://localhost:8080/"
        },
        "id": "wfFXbBfXQdOz",
        "outputId": "cd5a9690-8bdf-4ed5-fea4-e86ff6327dec"
      },
      "execution_count": null,
      "outputs": [
        {
          "output_type": "execute_result",
          "data": {
            "text/plain": [
              "nan                                                 3175\n",
              "['\\nLT67679\\n']                                       27\n",
              "['\\nUN89904\\n']                                       27\n",
              "['\\nXJ38068\\n']                                       27\n",
              "['\\nJV03654\\n']                                       27\n",
              "                                                    ... \n",
              "['\\n160_dcbb6c3e-a6da-43a3-8754-ccd994cec93b\\n']       1\n",
              "['\\n6701576\\n']                                        1\n",
              "['\\n6701569\\n']                                        1\n",
              "['\\n158121\\n']                                         1\n",
              "['\\nRe_30000008029\\n']                                 1\n",
              "Name: Offer Number, Length: 11441, dtype: int64"
            ]
          },
          "metadata": {},
          "execution_count": 314
        }
      ]
    },
    {
      "cell_type": "code",
      "source": [
        "df.drop(\"Offer Number\", axis=1, inplace=True)"
      ],
      "metadata": {
        "id": "q84DiKcTQdRg"
      },
      "execution_count": null,
      "outputs": []
    },
    {
      "cell_type": "markdown",
      "source": [
        "Body Color"
      ],
      "metadata": {
        "id": "ISwM8Zs9A64D"
      }
    },
    {
      "cell_type": "code",
      "source": [
        "df['Body Color'].astype('str').value_counts(dropna=False)"
      ],
      "metadata": {
        "colab": {
          "base_uri": "https://localhost:8080/"
        },
        "id": "FCybcTzxQdXA",
        "outputId": "d07eb6c3-6b52-47b8-b0f6-91aa189ae53f"
      },
      "execution_count": null,
      "outputs": [
        {
          "output_type": "execute_result",
          "data": {
            "text/plain": [
              "['\\n', 'Black', '\\n']     3745\n",
              "['\\n', 'Grey', '\\n']      3505\n",
              "['\\n', 'White', '\\n']     3406\n",
              "['\\n', 'Silver', '\\n']    1647\n",
              "['\\n', 'Blue', '\\n']      1431\n",
              "['\\n', 'Red', '\\n']        957\n",
              "nan                        597\n",
              "['\\n', 'Brown', '\\n']      289\n",
              "['\\n', 'Green', '\\n']      154\n",
              "['\\n', 'Beige', '\\n']      108\n",
              "['\\n', 'Yellow', '\\n']      51\n",
              "['\\n', 'Violet', '\\n']      18\n",
              "['\\n', 'Bronze', '\\n']       6\n",
              "['\\n', 'Orange', '\\n']       3\n",
              "['\\n', 'Gold', '\\n']         2\n",
              "Name: Body Color, dtype: int64"
            ]
          },
          "metadata": {},
          "execution_count": 316
        }
      ]
    },
    {
      "cell_type": "code",
      "source": [
        "df.drop(\"Body Color\", axis=1, inplace=True)"
      ],
      "metadata": {
        "id": "oU7W5ar4QdZv"
      },
      "execution_count": null,
      "outputs": []
    },
    {
      "cell_type": "markdown",
      "source": [
        "Body Color Original"
      ],
      "metadata": {
        "id": "wV4Z8yOyBS29"
      }
    },
    {
      "cell_type": "code",
      "source": [
        "df['Body Color Original']"
      ],
      "metadata": {
        "colab": {
          "base_uri": "https://localhost:8080/"
        },
        "id": "i7fbTGxcQdf3",
        "outputId": "7f0641f6-856b-425c-b80b-7af44bfe588c"
      },
      "execution_count": null,
      "outputs": [
        {
          "output_type": "execute_result",
          "data": {
            "text/plain": [
              "0                 [\\nMythosschwarz\\n]\n",
              "1                                 NaN\n",
              "2        [\\nmythosschwarz metallic\\n]\n",
              "3                                 NaN\n",
              "4        [\\nMythosschwarz Metallic\\n]\n",
              "                     ...             \n",
              "15914              [\\nGrigio scuro\\n]\n",
              "15915       [\\nStahl-Grau Metallic\\n]\n",
              "15916               [\\narktis-weiß\\n]\n",
              "15917                    [\\nGrigio\\n]\n",
              "15918    [\\nTitanium-Grau Metallic\\n]\n",
              "Name: Body Color Original, Length: 15919, dtype: object"
            ]
          },
          "metadata": {},
          "execution_count": 318
        }
      ]
    },
    {
      "cell_type": "code",
      "source": [
        "df['Body Color Original'].astype('str').value_counts(dropna=False)"
      ],
      "metadata": {
        "colab": {
          "base_uri": "https://localhost:8080/"
        },
        "id": "LVM1KumyQdih",
        "outputId": "95901fcb-407f-4a52-fcac-fdec95dca4ec"
      },
      "execution_count": null,
      "outputs": [
        {
          "output_type": "execute_result",
          "data": {
            "text/plain": [
              "nan                                      3759\n",
              "['\\nOnyx Schwarz\\n']                      338\n",
              "['\\nBianco\\n']                            282\n",
              "['\\nMythosschwarz Metallic\\n']            238\n",
              "['\\nBrillantschwarz\\n']                   216\n",
              "                                         ... \n",
              "['\\nRouge-Braun (G0Y)\\n']                   1\n",
              "['\\nVARI COLRI DISPONIBILI\\n']              1\n",
              "['\\nKokosnussbraun Metallic\\n']             1\n",
              "['\\nFarbe frei wählbar\\n']                  1\n",
              "['\\nPerlmutt-Weiß Metallic (Weiß)\\n']       1\n",
              "Name: Body Color Original, Length: 1928, dtype: int64"
            ]
          },
          "metadata": {},
          "execution_count": 319
        }
      ]
    },
    {
      "cell_type": "code",
      "source": [
        "df.drop(\"Body Color Original\", axis=1, inplace=True)"
      ],
      "metadata": {
        "id": "BxDoK6PBQdlL"
      },
      "execution_count": null,
      "outputs": []
    },
    {
      "cell_type": "markdown",
      "source": [
        "Paint Type"
      ],
      "metadata": {
        "id": "upULhSTUBnJh"
      }
    },
    {
      "cell_type": "code",
      "source": [
        "df['Paint Type'].astype('str').value_counts(dropna=False)"
      ],
      "metadata": {
        "colab": {
          "base_uri": "https://localhost:8080/"
        },
        "id": "nrXcDBMNBf5_",
        "outputId": "bb11764c-c3c7-4780-c588-77f45b7cc5ee"
      },
      "execution_count": null,
      "outputs": [
        {
          "output_type": "execute_result",
          "data": {
            "text/plain": [
              "['\\nMetallic\\n']       9794\n",
              "nan                    5772\n",
              "['\\nUni/basic\\n']       347\n",
              "['\\nPerl effect\\n']       6\n",
              "Name: Paint Type, dtype: int64"
            ]
          },
          "metadata": {},
          "execution_count": 321
        }
      ]
    },
    {
      "cell_type": "code",
      "source": [
        "df['Paint_Type'] = df['Paint Type'].str[0].str.strip('\\n')"
      ],
      "metadata": {
        "id": "7XM5yHpZBgga"
      },
      "execution_count": null,
      "outputs": []
    },
    {
      "cell_type": "code",
      "source": [
        "df['Paint_Type'].value_counts(dropna=False)"
      ],
      "metadata": {
        "colab": {
          "base_uri": "https://localhost:8080/"
        },
        "id": "t6g383V1Bg-h",
        "outputId": "b9e164c0-ecb0-4963-89eb-ce4a2a2635b7"
      },
      "execution_count": null,
      "outputs": [
        {
          "output_type": "execute_result",
          "data": {
            "text/plain": [
              "Metallic       9794\n",
              "NaN            5772\n",
              "Uni/basic       347\n",
              "Perl effect       6\n",
              "Name: Paint_Type, dtype: int64"
            ]
          },
          "metadata": {},
          "execution_count": 323
        }
      ]
    },
    {
      "cell_type": "code",
      "source": [
        "df.drop(\"Paint Type\", axis=1, inplace=True)"
      ],
      "metadata": {
        "id": "shyVyq2WBhPa"
      },
      "execution_count": null,
      "outputs": []
    },
    {
      "cell_type": "markdown",
      "source": [
        "Upholstery"
      ],
      "metadata": {
        "id": "-8PfJQLJB5t2"
      }
    },
    {
      "cell_type": "code",
      "source": [
        "df['Upholstery'].astype('str').value_counts(dropna=False)"
      ],
      "metadata": {
        "colab": {
          "base_uri": "https://localhost:8080/"
        },
        "id": "ggSagJjPB6lR",
        "outputId": "a292c9ff-0862-4d61-c502-2d8590062f79"
      },
      "execution_count": null,
      "outputs": [
        {
          "output_type": "execute_result",
          "data": {
            "text/plain": [
              "['\\nCloth, Black\\n']           5821\n",
              "nan                            3720\n",
              "['\\nPart leather, Black\\n']    1121\n",
              "['\\nCloth\\n']                  1005\n",
              "['\\nCloth, Grey\\n']             891\n",
              "['\\nCloth, Other\\n']            639\n",
              "['\\nFull leather, Black\\n']     575\n",
              "['\\nBlack\\n']                   491\n",
              "['\\nGrey\\n']                    273\n",
              "['\\nOther, Other\\n']            182\n",
              "['\\nPart leather\\n']            140\n",
              "['\\nFull leather\\n']            139\n",
              "['\\nFull leather, Brown\\n']     116\n",
              "['\\nPart leather, Grey\\n']      116\n",
              "['\\nOther, Black\\n']            110\n",
              "['\\nFull leather, Other\\n']      72\n",
              "['\\nFull leather, Grey\\n']       67\n",
              "['\\nPart leather, Other\\n']      65\n",
              "['\\nOther\\n']                    56\n",
              "['\\nPart leather, Brown\\n']      50\n",
              "['\\nalcantara, Black\\n']         47\n",
              "['\\nVelour, Black\\n']            36\n",
              "['\\nFull leather, Beige\\n']      36\n",
              "['\\nCloth, Brown\\n']             28\n",
              "['\\nVelour\\n']                   16\n",
              "['\\nOther, Grey\\n']              15\n",
              "['\\nCloth, Beige\\n']             13\n",
              "['\\nBrown\\n']                    12\n",
              "['\\nCloth, Blue\\n']              12\n",
              "['\\nVelour, Grey\\n']              8\n",
              "['\\nCloth, White\\n']              8\n",
              "['\\nalcantara, Grey\\n']           6\n",
              "['\\nCloth, Red\\n']                5\n",
              "['\\nOther, Yellow\\n']             4\n",
              "['\\nPart leather, Red\\n']         3\n",
              "['\\nBeige\\n']                     3\n",
              "['\\nPart leather, White\\n']       2\n",
              "['\\nFull leather, Blue\\n']        2\n",
              "['\\nalcantara, Other\\n']          2\n",
              "['\\nalcantara\\n']                 2\n",
              "['\\nWhite\\n']                     2\n",
              "['\\nPart leather, Beige\\n']       2\n",
              "['\\nBlue\\n']                      2\n",
              "['\\nCloth, Orange\\n']             1\n",
              "['\\nFull leather, Red\\n']         1\n",
              "['\\nOther, Brown\\n']              1\n",
              "['\\nFull leather, White\\n']       1\n",
              "Name: Upholstery, dtype: int64"
            ]
          },
          "metadata": {},
          "execution_count": 325
        }
      ]
    },
    {
      "cell_type": "code",
      "source": [
        "df[\"Upholstery\"] = [item[0] if type(item) == list else item for item in df.Upholstery]"
      ],
      "metadata": {
        "id": "lXwlphrTBh5P"
      },
      "execution_count": null,
      "outputs": []
    },
    {
      "cell_type": "code",
      "source": [
        "df[\"Upholstery\"].value_counts(dropna=False)"
      ],
      "metadata": {
        "colab": {
          "base_uri": "https://localhost:8080/"
        },
        "id": "HRG01Q63BiML",
        "outputId": "b5060c4f-894b-4cdf-82a5-be40cf1c52e8"
      },
      "execution_count": null,
      "outputs": [
        {
          "output_type": "execute_result",
          "data": {
            "text/plain": [
              "\\nCloth, Black\\n           5821\n",
              "NaN                        3720\n",
              "\\nPart leather, Black\\n    1121\n",
              "\\nCloth\\n                  1005\n",
              "\\nCloth, Grey\\n             891\n",
              "\\nCloth, Other\\n            639\n",
              "\\nFull leather, Black\\n     575\n",
              "\\nBlack\\n                   491\n",
              "\\nGrey\\n                    273\n",
              "\\nOther, Other\\n            182\n",
              "\\nPart leather\\n            140\n",
              "\\nFull leather\\n            139\n",
              "\\nFull leather, Brown\\n     116\n",
              "\\nPart leather, Grey\\n      116\n",
              "\\nOther, Black\\n            110\n",
              "\\nFull leather, Other\\n      72\n",
              "\\nFull leather, Grey\\n       67\n",
              "\\nPart leather, Other\\n      65\n",
              "\\nOther\\n                    56\n",
              "\\nPart leather, Brown\\n      50\n",
              "\\nalcantara, Black\\n         47\n",
              "\\nVelour, Black\\n            36\n",
              "\\nFull leather, Beige\\n      36\n",
              "\\nCloth, Brown\\n             28\n",
              "\\nVelour\\n                   16\n",
              "\\nOther, Grey\\n              15\n",
              "\\nCloth, Beige\\n             13\n",
              "\\nBrown\\n                    12\n",
              "\\nCloth, Blue\\n              12\n",
              "\\nVelour, Grey\\n              8\n",
              "\\nCloth, White\\n              8\n",
              "\\nalcantara, Grey\\n           6\n",
              "\\nCloth, Red\\n                5\n",
              "\\nOther, Yellow\\n             4\n",
              "\\nPart leather, Red\\n         3\n",
              "\\nBeige\\n                     3\n",
              "\\nPart leather, White\\n       2\n",
              "\\nFull leather, Blue\\n        2\n",
              "\\nalcantara, Other\\n          2\n",
              "\\nalcantara\\n                 2\n",
              "\\nWhite\\n                     2\n",
              "\\nPart leather, Beige\\n       2\n",
              "\\nBlue\\n                      2\n",
              "\\nCloth, Orange\\n             1\n",
              "\\nFull leather, Red\\n         1\n",
              "\\nOther, Brown\\n              1\n",
              "\\nFull leather, White\\n       1\n",
              "Name: Upholstery, dtype: int64"
            ]
          },
          "metadata": {},
          "execution_count": 327
        }
      ]
    },
    {
      "cell_type": "code",
      "source": [
        "df[\"Upholstery\"] = df.Upholstery.str.strip(\"\\n\").str.split(\", \")"
      ],
      "metadata": {
        "id": "h9DHkgqOBjl4"
      },
      "execution_count": null,
      "outputs": []
    },
    {
      "cell_type": "code",
      "source": [
        "df[\"Upholstery\"].astype('str').value_counts(dropna=False)"
      ],
      "metadata": {
        "colab": {
          "base_uri": "https://localhost:8080/"
        },
        "id": "A7S7Pe9pBjxW",
        "outputId": "fdd7ae6a-ece7-48a1-f2dd-5c62956f546a"
      },
      "execution_count": null,
      "outputs": [
        {
          "output_type": "execute_result",
          "data": {
            "text/plain": [
              "['Cloth', 'Black']           5821\n",
              "nan                          3720\n",
              "['Part leather', 'Black']    1121\n",
              "['Cloth']                    1005\n",
              "['Cloth', 'Grey']             891\n",
              "['Cloth', 'Other']            639\n",
              "['Full leather', 'Black']     575\n",
              "['Black']                     491\n",
              "['Grey']                      273\n",
              "['Other', 'Other']            182\n",
              "['Part leather']              140\n",
              "['Full leather']              139\n",
              "['Full leather', 'Brown']     116\n",
              "['Part leather', 'Grey']      116\n",
              "['Other', 'Black']            110\n",
              "['Full leather', 'Other']      72\n",
              "['Full leather', 'Grey']       67\n",
              "['Part leather', 'Other']      65\n",
              "['Other']                      56\n",
              "['Part leather', 'Brown']      50\n",
              "['alcantara', 'Black']         47\n",
              "['Velour', 'Black']            36\n",
              "['Full leather', 'Beige']      36\n",
              "['Cloth', 'Brown']             28\n",
              "['Velour']                     16\n",
              "['Other', 'Grey']              15\n",
              "['Cloth', 'Beige']             13\n",
              "['Brown']                      12\n",
              "['Cloth', 'Blue']              12\n",
              "['Velour', 'Grey']              8\n",
              "['Cloth', 'White']              8\n",
              "['alcantara', 'Grey']           6\n",
              "['Cloth', 'Red']                5\n",
              "['Other', 'Yellow']             4\n",
              "['Part leather', 'Red']         3\n",
              "['Beige']                       3\n",
              "['Part leather', 'White']       2\n",
              "['Full leather', 'Blue']        2\n",
              "['alcantara', 'Other']          2\n",
              "['alcantara']                   2\n",
              "['White']                       2\n",
              "['Part leather', 'Beige']       2\n",
              "['Blue']                        2\n",
              "['Cloth', 'Orange']             1\n",
              "['Full leather', 'Red']         1\n",
              "['Other', 'Brown']              1\n",
              "['Full leather', 'White']       1\n",
              "Name: Upholstery, dtype: int64"
            ]
          },
          "metadata": {},
          "execution_count": 329
        }
      ]
    },
    {
      "cell_type": "code",
      "source": [
        "u_type = [\"Cloth\", 'Part leather', 'Full leather', 'Velour', 'alcantara']\n",
        "\n",
        "df[\"Upholstery_type\"] = df[\"Upholstery\"].apply(lambda x : x[0] if type(x) == list and x[0] in u_type else np.nan)"
      ],
      "metadata": {
        "id": "JNn9IJtJBj4_"
      },
      "execution_count": null,
      "outputs": []
    },
    {
      "cell_type": "code",
      "source": [
        "\n",
        "df[\"Upholstery_type\"].value_counts(dropna=False)"
      ],
      "metadata": {
        "colab": {
          "base_uri": "https://localhost:8080/"
        },
        "id": "z0UCNwxTBj96",
        "outputId": "4e119090-f085-4872-a79e-3e63238a1b9d"
      },
      "execution_count": null,
      "outputs": [
        {
          "output_type": "execute_result",
          "data": {
            "text/plain": [
              "Cloth           8423\n",
              "NaN             4871\n",
              "Part leather    1499\n",
              "Full leather    1009\n",
              "Velour            60\n",
              "alcantara         57\n",
              "Name: Upholstery_type, dtype: int64"
            ]
          },
          "metadata": {},
          "execution_count": 331
        }
      ]
    },
    {
      "cell_type": "code",
      "source": [
        "color = ['Black', 'Grey', 'Brown', 'Beige', 'White', 'Blue', 'Red', 'Yellow', 'Orange']\n",
        "\n",
        "def color_finder(x):\n",
        "    if type(x) == list and len(x) == 2:\n",
        "        return x[1]\n",
        "    elif type(x) == list and x[0] in color:\n",
        "        return x[0]\n",
        "    else:\n",
        "        return np.nan\n",
        "    \n",
        "df['Upholstery_color'] = df.Upholstery.apply(color_finder)"
      ],
      "metadata": {
        "id": "DW509fepBkCp"
      },
      "execution_count": null,
      "outputs": []
    },
    {
      "cell_type": "code",
      "source": [
        "df[\"Upholstery_color\"].value_counts(dropna=False)"
      ],
      "metadata": {
        "colab": {
          "base_uri": "https://localhost:8080/"
        },
        "id": "imBtAK4rBkG4",
        "outputId": "fb85ae07-0307-4b2f-e3dd-b60b923a11f3"
      },
      "execution_count": null,
      "outputs": [
        {
          "output_type": "execute_result",
          "data": {
            "text/plain": [
              "Black     8201\n",
              "NaN       5078\n",
              "Grey      1376\n",
              "Other      960\n",
              "Brown      207\n",
              "Beige       54\n",
              "Blue        16\n",
              "White       13\n",
              "Red          9\n",
              "Yellow       4\n",
              "Orange       1\n",
              "Name: Upholstery_color, dtype: int64"
            ]
          },
          "metadata": {},
          "execution_count": 333
        }
      ]
    },
    {
      "cell_type": "code",
      "source": [
        "df.drop(\"Upholstery\", axis=1, inplace=True)"
      ],
      "metadata": {
        "id": "zV-VkL1iBkKw"
      },
      "execution_count": null,
      "outputs": []
    },
    {
      "cell_type": "markdown",
      "source": [
        "Nr. of Doors"
      ],
      "metadata": {
        "id": "iOW7tzDZCao6"
      }
    },
    {
      "cell_type": "code",
      "source": [
        "df[\"Nr. of Doors\"].astype('str').value_counts(dropna=False)"
      ],
      "metadata": {
        "colab": {
          "base_uri": "https://localhost:8080/"
        },
        "id": "qDDo_wmkBkQ4",
        "outputId": "dc1120f9-c520-4036-dfc1-5d9a052560c9"
      },
      "execution_count": null,
      "outputs": [
        {
          "output_type": "execute_result",
          "data": {
            "text/plain": [
              "['\\n5\\n']    11575\n",
              "['\\n4\\n']     3079\n",
              "['\\n3\\n']      832\n",
              "['\\n2\\n']      219\n",
              "nan            212\n",
              "['\\n1\\n']        1\n",
              "['\\n7\\n']        1\n",
              "Name: Nr. of Doors, dtype: int64"
            ]
          },
          "metadata": {},
          "execution_count": 335
        }
      ]
    },
    {
      "cell_type": "code",
      "source": [
        "df['Nr_of_Doors'] = df['Nr. of Doors'].str[0].str.strip('\\n').astype('float')"
      ],
      "metadata": {
        "id": "Gk1MDYh4BkUF"
      },
      "execution_count": null,
      "outputs": []
    },
    {
      "cell_type": "code",
      "source": [
        "\n",
        "df[\"Nr_of_Doors\"].value_counts(dropna=False)"
      ],
      "metadata": {
        "colab": {
          "base_uri": "https://localhost:8080/"
        },
        "id": "M0bzH8WSBkXT",
        "outputId": "baff7d4b-09af-43e9-b52c-4cf1b0f4239a"
      },
      "execution_count": null,
      "outputs": [
        {
          "output_type": "execute_result",
          "data": {
            "text/plain": [
              "5.00    11575\n",
              "4.00     3079\n",
              "3.00      832\n",
              "2.00      219\n",
              "NaN       212\n",
              "1.00        1\n",
              "7.00        1\n",
              "Name: Nr_of_Doors, dtype: int64"
            ]
          },
          "metadata": {},
          "execution_count": 337
        }
      ]
    },
    {
      "cell_type": "code",
      "source": [
        "df.drop(\"Nr. of Doors\", axis=1, inplace=True)"
      ],
      "metadata": {
        "id": "iXN16Rh0Bkau"
      },
      "execution_count": null,
      "outputs": []
    },
    {
      "cell_type": "markdown",
      "source": [
        "\n",
        "Nr. of Seats"
      ],
      "metadata": {
        "id": "Q4D51VFJCsTE"
      }
    },
    {
      "cell_type": "code",
      "source": [
        "df[\"Nr. of Seats\"].astype('str').value_counts(dropna=False)"
      ],
      "metadata": {
        "colab": {
          "base_uri": "https://localhost:8080/"
        },
        "id": "GqMsOmiRBkhO",
        "outputId": "c7a78131-4ea5-45da-c45e-7395dd380d49"
      },
      "execution_count": null,
      "outputs": [
        {
          "output_type": "execute_result",
          "data": {
            "text/plain": [
              "['\\n5\\n']    13336\n",
              "['\\n4\\n']     1125\n",
              "nan            977\n",
              "['\\n7\\n']      362\n",
              "['\\n2\\n']      116\n",
              "['\\n6\\n']        2\n",
              "['\\n3\\n']        1\n",
              "Name: Nr. of Seats, dtype: int64"
            ]
          },
          "metadata": {},
          "execution_count": 339
        }
      ]
    },
    {
      "cell_type": "code",
      "source": [
        "df['Nr_of_Seats'] = df['Nr. of Seats'].str[0].str.strip('\\n').astype('float')"
      ],
      "metadata": {
        "id": "B_-FC-NwBkk2"
      },
      "execution_count": null,
      "outputs": []
    },
    {
      "cell_type": "code",
      "source": [
        "df[\"Nr_of_Seats\"].value_counts(dropna=False)"
      ],
      "metadata": {
        "colab": {
          "base_uri": "https://localhost:8080/"
        },
        "id": "7bKFNxxyC1OJ",
        "outputId": "77ed6130-c255-408e-b1d5-cb8493e13528"
      },
      "execution_count": null,
      "outputs": [
        {
          "output_type": "execute_result",
          "data": {
            "text/plain": [
              "5.00    13336\n",
              "4.00     1125\n",
              "NaN       977\n",
              "7.00      362\n",
              "2.00      116\n",
              "6.00        2\n",
              "3.00        1\n",
              "Name: Nr_of_Seats, dtype: int64"
            ]
          },
          "metadata": {},
          "execution_count": 341
        }
      ]
    },
    {
      "cell_type": "code",
      "source": [
        "df.drop(\"Nr. of Seats\", axis=1, inplace=True)"
      ],
      "metadata": {
        "id": "nKlqwQ3iC1ef"
      },
      "execution_count": null,
      "outputs": []
    },
    {
      "cell_type": "markdown",
      "source": [
        "Model Code"
      ],
      "metadata": {
        "id": "M-IixR0aEi6V"
      }
    },
    {
      "cell_type": "code",
      "source": [
        "df[\"Model Code\"].astype('str').value_counts(dropna=False)"
      ],
      "metadata": {
        "colab": {
          "base_uri": "https://localhost:8080/"
        },
        "id": "uvID54FxC1n4",
        "outputId": "d681c57b-4dde-4fed-c3b4-a145a40c2d73"
      },
      "execution_count": null,
      "outputs": [
        {
          "output_type": "execute_result",
          "data": {
            "text/plain": [
              "nan                 10941\n",
              "['\\n0035/BCB\\n']      268\n",
              "['\\n0588/BNO\\n']      245\n",
              "['\\n0588/BDB\\n']      206\n",
              "['\\n0588/BHX\\n']      188\n",
              "                    ...  \n",
              "['\\n0035/AVN\\n']        1\n",
              "['\\n0035/BEM\\n']        1\n",
              "['\\n0035/BAG\\n']        1\n",
              "['\\n0035/BAA\\n']        1\n",
              "['\\n3333/BKG\\n']        1\n",
              "Name: Model Code, Length: 233, dtype: int64"
            ]
          },
          "metadata": {},
          "execution_count": 343
        }
      ]
    },
    {
      "cell_type": "code",
      "source": [
        "df.drop(\"Model Code\", axis=1, inplace=True)"
      ],
      "metadata": {
        "id": "w8Ja9ZuDC1q_"
      },
      "execution_count": null,
      "outputs": []
    },
    {
      "cell_type": "markdown",
      "source": [
        "Gearing Type"
      ],
      "metadata": {
        "id": "m5CWvLasEvuE"
      }
    },
    {
      "cell_type": "code",
      "source": [
        "df[\"Gearing Type\"].astype('str').value_counts(dropna=False)"
      ],
      "metadata": {
        "colab": {
          "base_uri": "https://localhost:8080/"
        },
        "id": "VNhA3TfrC1xU",
        "outputId": "6adedef0-87ac-428e-9e35-48b6d9515223"
      },
      "execution_count": null,
      "outputs": [
        {
          "output_type": "execute_result",
          "data": {
            "text/plain": [
              "['\\n', 'Manual', '\\n']            8153\n",
              "['\\n', 'Automatic', '\\n']         7297\n",
              "['\\n', 'Semi-automatic', '\\n']     469\n",
              "Name: Gearing Type, dtype: int64"
            ]
          },
          "metadata": {},
          "execution_count": 345
        }
      ]
    },
    {
      "cell_type": "code",
      "source": [
        "df['Gearing_Type'] = df['Gearing Type'].str[1]"
      ],
      "metadata": {
        "id": "yqZCDHd8C10e"
      },
      "execution_count": null,
      "outputs": []
    },
    {
      "cell_type": "code",
      "source": [
        "df[\"Gearing_Type\"].value_counts(dropna=False)"
      ],
      "metadata": {
        "colab": {
          "base_uri": "https://localhost:8080/"
        },
        "id": "Lt4PXgAZC13i",
        "outputId": "4317ad32-d140-438a-8c2a-c359dd9033e5"
      },
      "execution_count": null,
      "outputs": [
        {
          "output_type": "execute_result",
          "data": {
            "text/plain": [
              "Manual            8153\n",
              "Automatic         7297\n",
              "Semi-automatic     469\n",
              "Name: Gearing_Type, dtype: int64"
            ]
          },
          "metadata": {},
          "execution_count": 347
        }
      ]
    },
    {
      "cell_type": "code",
      "source": [
        "df.drop(\"Gearing Type\", axis=1, inplace=True)"
      ],
      "metadata": {
        "id": "AhOSUd02C16w"
      },
      "execution_count": null,
      "outputs": []
    },
    {
      "cell_type": "markdown",
      "source": [
        "Displacement"
      ],
      "metadata": {
        "id": "Lttz6LzUFQMR"
      }
    },
    {
      "cell_type": "code",
      "source": [
        "df[\"Displacement\"].astype('str').value_counts(dropna=False)"
      ],
      "metadata": {
        "colab": {
          "base_uri": "https://localhost:8080/"
        },
        "id": "JpMfv2pHC2B_",
        "outputId": "7656a34b-67fd-4545-bb37-6465d8a53cca"
      },
      "execution_count": null,
      "outputs": [
        {
          "output_type": "execute_result",
          "data": {
            "text/plain": [
              "['\\n1,598 cc\\n']     4761\n",
              "['\\n999 cc\\n']       2438\n",
              "['\\n1,398 cc\\n']     1314\n",
              "['\\n1,399 cc\\n']      749\n",
              "['\\n1,229 cc\\n']      677\n",
              "['\\n1,956 cc\\n']      670\n",
              "['\\n1,461 cc\\n']      595\n",
              "['\\n1,490 cc\\n']      559\n",
              "nan                   496\n",
              "['\\n1,422 cc\\n']      467\n",
              "['\\n1,197 cc\\n']      353\n",
              "['\\n898 cc\\n']        351\n",
              "['\\n1,395 cc\\n']      320\n",
              "['\\n1,968 cc\\n']      301\n",
              "['\\n1,149 cc\\n']      288\n",
              "['\\n1,618 cc\\n']      212\n",
              "['\\n1,798 cc\\n']      210\n",
              "['\\n1,498 cc\\n']      196\n",
              "['\\n1,600 cc\\n']      130\n",
              "['\\n1,248 cc\\n']      110\n",
              "['\\n1,997 cc\\n']      103\n",
              "['\\n1,364 cc\\n']      102\n",
              "['\\n1,400 cc\\n']       90\n",
              "['\\n998 cc\\n']         72\n",
              "['\\n1,500 cc\\n']       50\n",
              "['\\n2,000 cc\\n']       46\n",
              "['\\n1,000 cc\\n']       40\n",
              "['\\n1 cc\\n']           36\n",
              "['\\n1,998 cc\\n']       25\n",
              "['\\n2,480 cc\\n']       20\n",
              "['\\n1,200 cc\\n']       18\n",
              "['\\n1,984 cc\\n']       18\n",
              "['\\n1,397 cc\\n']       11\n",
              "['\\n899 cc\\n']         11\n",
              "['\\n160 cc\\n']          6\n",
              "['\\n929 cc\\n']          5\n",
              "['\\n1,499 cc\\n']        5\n",
              "['\\n997 cc\\n']          4\n",
              "['\\n1,596 cc\\n']        4\n",
              "['\\n139 cc\\n']          4\n",
              "['\\n900 cc\\n']          4\n",
              "['\\n1,599 cc\\n']        3\n",
              "['\\n1,199 cc\\n']        3\n",
              "['\\n1,396 cc\\n']        3\n",
              "['\\n1,495 cc\\n']        2\n",
              "['\\n1,589 cc\\n']        2\n",
              "['\\n1,300 cc\\n']        2\n",
              "['\\n2 cc\\n']            2\n",
              "['\\n995 cc\\n']          2\n",
              "['\\n1,496 cc\\n']        1\n",
              "['\\n890 cc\\n']          1\n",
              "['\\n1,580 cc\\n']        1\n",
              "['\\n1,995 cc\\n']        1\n",
              "['\\n1,333 cc\\n']        1\n",
              "['\\n54 cc\\n']           1\n",
              "['\\n1,533 cc\\n']        1\n",
              "['\\n1,100 cc\\n']        1\n",
              "['\\n1,350 cc\\n']        1\n",
              "['\\n16,000 cc\\n']       1\n",
              "['\\n1,856 cc\\n']        1\n",
              "['\\n1,568 cc\\n']        1\n",
              "['\\n1,896 cc\\n']        1\n",
              "['\\n1,584 cc\\n']        1\n",
              "['\\n996 cc\\n']          1\n",
              "['\\n1,696 cc\\n']        1\n",
              "['\\n1,686 cc\\n']        1\n",
              "['\\n15,898 cc\\n']       1\n",
              "['\\n1,368 cc\\n']        1\n",
              "['\\n140 cc\\n']          1\n",
              "['\\n973 cc\\n']          1\n",
              "['\\n1,239 cc\\n']        1\n",
              "['\\n1,369 cc\\n']        1\n",
              "['\\n1,390 cc\\n']        1\n",
              "['\\n122 cc\\n']          1\n",
              "['\\n1,198 cc\\n']        1\n",
              "['\\n1,195 cc\\n']        1\n",
              "['\\n2,967 cc\\n']        1\n",
              "['\\n1,800 cc\\n']        1\n",
              "Name: Displacement, dtype: int64"
            ]
          },
          "metadata": {},
          "execution_count": 349
        }
      ]
    },
    {
      "cell_type": "code",
      "source": [
        "\n",
        "df[\"Displacement_cc\"] = df.Displacement.str[0].str.strip('\\n').str.replace(',', '').str.extract('(\\d{1,5})').astype(\"float\") # str.extract('(\\d+)')"
      ],
      "metadata": {
        "id": "_BZdPYyqC2FM"
      },
      "execution_count": null,
      "outputs": []
    },
    {
      "cell_type": "code",
      "source": [
        "df[\"Displacement_cc\"].value_counts(dropna=False)"
      ],
      "metadata": {
        "colab": {
          "base_uri": "https://localhost:8080/"
        },
        "id": "T5PYgwOUC2If",
        "outputId": "062fd12b-80c2-4ec5-8fef-3891d42d5fa0"
      },
      "execution_count": null,
      "outputs": [
        {
          "output_type": "execute_result",
          "data": {
            "text/plain": [
              "1598.00     4761\n",
              "999.00      2438\n",
              "1398.00     1314\n",
              "1399.00      749\n",
              "1229.00      677\n",
              "1956.00      670\n",
              "1461.00      595\n",
              "1490.00      559\n",
              "NaN          496\n",
              "1422.00      467\n",
              "1197.00      353\n",
              "898.00       351\n",
              "1395.00      320\n",
              "1968.00      301\n",
              "1149.00      288\n",
              "1618.00      212\n",
              "1798.00      210\n",
              "1498.00      196\n",
              "1600.00      130\n",
              "1248.00      110\n",
              "1997.00      103\n",
              "1364.00      102\n",
              "1400.00       90\n",
              "998.00        72\n",
              "1500.00       50\n",
              "2000.00       46\n",
              "1000.00       40\n",
              "1.00          36\n",
              "1998.00       25\n",
              "2480.00       20\n",
              "1200.00       18\n",
              "1984.00       18\n",
              "1397.00       11\n",
              "899.00        11\n",
              "160.00         6\n",
              "929.00         5\n",
              "1499.00        5\n",
              "997.00         4\n",
              "1596.00        4\n",
              "139.00         4\n",
              "900.00         4\n",
              "1599.00        3\n",
              "1199.00        3\n",
              "1396.00        3\n",
              "1495.00        2\n",
              "1589.00        2\n",
              "1300.00        2\n",
              "2.00           2\n",
              "995.00         2\n",
              "1496.00        1\n",
              "890.00         1\n",
              "1580.00        1\n",
              "1995.00        1\n",
              "1333.00        1\n",
              "54.00          1\n",
              "1533.00        1\n",
              "1100.00        1\n",
              "1350.00        1\n",
              "16000.00       1\n",
              "1856.00        1\n",
              "1568.00        1\n",
              "1896.00        1\n",
              "1584.00        1\n",
              "996.00         1\n",
              "1696.00        1\n",
              "1686.00        1\n",
              "15898.00       1\n",
              "1368.00        1\n",
              "140.00         1\n",
              "973.00         1\n",
              "1239.00        1\n",
              "1369.00        1\n",
              "1390.00        1\n",
              "122.00         1\n",
              "1198.00        1\n",
              "1195.00        1\n",
              "2967.00        1\n",
              "1800.00        1\n",
              "Name: Displacement_cc, dtype: int64"
            ]
          },
          "metadata": {},
          "execution_count": 351
        }
      ]
    },
    {
      "cell_type": "code",
      "source": [
        "df.drop(\"Displacement\", axis=1, inplace=True)"
      ],
      "metadata": {
        "id": "8ic-B6OYC2L4"
      },
      "execution_count": null,
      "outputs": []
    },
    {
      "cell_type": "markdown",
      "source": [
        "Cylinders"
      ],
      "metadata": {
        "id": "vYq4ZeV1ZfMc"
      }
    },
    {
      "cell_type": "code",
      "source": [
        "\n",
        "df[\"Cylinders\"].astype('str').value_counts(dropna=False)"
      ],
      "metadata": {
        "colab": {
          "base_uri": "https://localhost:8080/"
        },
        "id": "zVtnT8LrC2ZJ",
        "outputId": "6f0a3045-b2b5-4144-b749-054126bd2281"
      },
      "execution_count": null,
      "outputs": [
        {
          "output_type": "execute_result",
          "data": {
            "text/plain": [
              "['\\n4\\n']    8105\n",
              "nan          5680\n",
              "['\\n3\\n']    2104\n",
              "['\\n5\\n']      22\n",
              "['\\n6\\n']       3\n",
              "['\\n8\\n']       2\n",
              "['\\n2\\n']       2\n",
              "['\\n1\\n']       1\n",
              "Name: Cylinders, dtype: int64"
            ]
          },
          "metadata": {},
          "execution_count": 353
        }
      ]
    },
    {
      "cell_type": "code",
      "source": [
        "df[\"Cylinders\"] = df.Cylinders.str[0].str.strip('\\n').astype(\"float\")"
      ],
      "metadata": {
        "id": "6NfZXeSJC2cm"
      },
      "execution_count": null,
      "outputs": []
    },
    {
      "cell_type": "code",
      "source": [
        "df[\"Cylinders\"].value_counts(dropna=False)"
      ],
      "metadata": {
        "colab": {
          "base_uri": "https://localhost:8080/"
        },
        "id": "TShbsAR_C2f-",
        "outputId": "6ab1d83b-7a0e-4937-aa6e-39b94af26d02"
      },
      "execution_count": null,
      "outputs": [
        {
          "output_type": "execute_result",
          "data": {
            "text/plain": [
              "4.00    8105\n",
              "NaN     5680\n",
              "3.00    2104\n",
              "5.00      22\n",
              "6.00       3\n",
              "8.00       2\n",
              "2.00       2\n",
              "1.00       1\n",
              "Name: Cylinders, dtype: int64"
            ]
          },
          "metadata": {},
          "execution_count": 355
        }
      ]
    },
    {
      "cell_type": "markdown",
      "source": [
        "Weight"
      ],
      "metadata": {
        "id": "IFgzYfcxZtfP"
      }
    },
    {
      "cell_type": "code",
      "source": [
        "df[\"Weight\"].astype('str').value_counts(dropna=False)"
      ],
      "metadata": {
        "colab": {
          "base_uri": "https://localhost:8080/"
        },
        "id": "QQ4gUfyaC2mp",
        "outputId": "658dce42-d463-48f3-e976-639391bd4735"
      },
      "execution_count": null,
      "outputs": [
        {
          "output_type": "execute_result",
          "data": {
            "text/plain": [
              "nan                 6974\n",
              "['\\n1,163 kg\\n']     574\n",
              "['\\n1,360 kg\\n']     356\n",
              "['\\n1,165 kg\\n']     301\n",
              "['\\n1,335 kg\\n']     242\n",
              "                    ... \n",
              "['\\n1,960 kg\\n']       1\n",
              "['\\n1,258 kg\\n']       1\n",
              "['\\n1,167 kg\\n']       1\n",
              "['\\n1,331 kg\\n']       1\n",
              "['\\n2,037 kg\\n']       1\n",
              "Name: Weight, Length: 435, dtype: int64"
            ]
          },
          "metadata": {},
          "execution_count": 356
        }
      ]
    },
    {
      "cell_type": "code",
      "source": [
        "\n",
        "df[\"Weight_kg\"] = df.Weight.str[0].str.strip('\\n').str.replace(',', '').str.extract('(\\d{1,6})').astype('float') # str.extract('(\\d+)')"
      ],
      "metadata": {
        "id": "UKsXBYuiZ4J3"
      },
      "execution_count": null,
      "outputs": []
    },
    {
      "cell_type": "code",
      "source": [
        "df[\"Weight_kg\"].value_counts(dropna=False)"
      ],
      "metadata": {
        "colab": {
          "base_uri": "https://localhost:8080/"
        },
        "id": "DkTUi2aSZ4Vr",
        "outputId": "4fd3e7bc-46fb-4cb9-a34c-0f686dffea4f"
      },
      "execution_count": null,
      "outputs": [
        {
          "output_type": "execute_result",
          "data": {
            "text/plain": [
              "NaN        6974\n",
              "1163.00     574\n",
              "1360.00     356\n",
              "1165.00     301\n",
              "1335.00     242\n",
              "           ... \n",
              "1960.00       1\n",
              "1258.00       1\n",
              "1167.00       1\n",
              "1331.00       1\n",
              "2037.00       1\n",
              "Name: Weight_kg, Length: 435, dtype: int64"
            ]
          },
          "metadata": {},
          "execution_count": 358
        }
      ]
    },
    {
      "cell_type": "code",
      "source": [
        "df.drop(\"Weight\", axis=1, inplace=True)"
      ],
      "metadata": {
        "id": "CpuoZpPGZ4bY"
      },
      "execution_count": null,
      "outputs": []
    },
    {
      "cell_type": "markdown",
      "source": [
        "Drive chain"
      ],
      "metadata": {
        "id": "R__SY2wxaYsA"
      }
    },
    {
      "cell_type": "code",
      "source": [
        "df[\"Drive chain\"].astype('str').value_counts(dropna=False)"
      ],
      "metadata": {
        "colab": {
          "base_uri": "https://localhost:8080/"
        },
        "id": "Tr0kBvI-Z4i1",
        "outputId": "b34ff97f-9b41-43d3-a6c3-ede4d010ef8f"
      },
      "execution_count": null,
      "outputs": [
        {
          "output_type": "execute_result",
          "data": {
            "text/plain": [
              "['\\nfront\\n']    8886\n",
              "nan              6858\n",
              "['\\n4WD\\n']       171\n",
              "['\\nrear\\n']        4\n",
              "Name: Drive chain, dtype: int64"
            ]
          },
          "metadata": {},
          "execution_count": 360
        }
      ]
    },
    {
      "cell_type": "code",
      "source": [
        "df['Drive_chain'] = df['Drive chain'].str[0].str.strip('\\n')"
      ],
      "metadata": {
        "id": "m6-Jkgf-Z4mv"
      },
      "execution_count": null,
      "outputs": []
    },
    {
      "cell_type": "code",
      "source": [
        "df[\"Drive_chain\"].value_counts(dropna=False)"
      ],
      "metadata": {
        "colab": {
          "base_uri": "https://localhost:8080/"
        },
        "id": "hLA0iWPiZ4p-",
        "outputId": "c42b6177-f1e7-4b5f-9252-1ce0688291c4"
      },
      "execution_count": null,
      "outputs": [
        {
          "output_type": "execute_result",
          "data": {
            "text/plain": [
              "front    8886\n",
              "NaN      6858\n",
              "4WD       171\n",
              "rear        4\n",
              "Name: Drive_chain, dtype: int64"
            ]
          },
          "metadata": {},
          "execution_count": 362
        }
      ]
    },
    {
      "cell_type": "code",
      "source": [
        "df.drop(\"Drive chain\", axis=1, inplace=True)"
      ],
      "metadata": {
        "id": "FvDUXecfZ4vw"
      },
      "execution_count": null,
      "outputs": []
    },
    {
      "cell_type": "markdown",
      "source": [
        "Fuel"
      ],
      "metadata": {
        "id": "Fdekyb9XbWSP"
      }
    },
    {
      "cell_type": "code",
      "source": [
        "df[\"Fuel\"].astype('str').value_counts(dropna=False)"
      ],
      "metadata": {
        "colab": {
          "base_uri": "https://localhost:8080/"
        },
        "id": "SBhkH4XPZ42n",
        "outputId": "dde1040a-3c47-41a2-e077-169cd0c9ffd4"
      },
      "execution_count": null,
      "outputs": [
        {
          "output_type": "execute_result",
          "data": {
            "text/plain": [
              "['\\n', 'Diesel (Particulate Filter)', '\\n']                                                                                                       4315\n",
              "['\\n', 'Super 95', '\\n']                                                                                                                          3338\n",
              "['\\n', 'Gasoline', '\\n']                                                                                                                          3175\n",
              "['\\n', 'Diesel', '\\n']                                                                                                                            2984\n",
              "['\\n', 'Super 95 / Regular/Benzine 91', '\\n']                                                                                                      424\n",
              "['\\n', 'Regular/Benzine 91', '\\n']                                                                                                                 354\n",
              "['\\n', 'Super E10 95', '\\n']                                                                                                                       331\n",
              "['\\n', 'Super 95 (Particulate Filter)', '\\n']                                                                                                      268\n",
              "['\\n', 'Super 95 / Super E10 95', '\\n']                                                                                                            131\n",
              "['\\n', 'Regular/Benzine 91 (Particulate Filter)', '\\n']                                                                                            100\n",
              "['\\n', 'Super 95 / Super Plus 98', '\\n']                                                                                                            85\n",
              "['\\n', 'Gasoline (Particulate Filter)', '\\n']                                                                                                       77\n",
              "['\\n', 'Super 95 / Super Plus 98 / Super E10 95 / Super Plus E10 98', '\\n']                                                                         40\n",
              "['\\n', 'Super E10 95 / Super 95', '\\n']                                                                                                             38\n",
              "['\\n', 'CNG', '\\n']                                                                                                                                 33\n",
              "['\\n', 'Super 95 / Super E10 95 (Particulate Filter)', '\\n']                                                                                        25\n",
              "['\\n', 'Super E10 95 / Super 95 / Super Plus 98 / Super Plus E10 98', '\\n']                                                                         19\n",
              "['\\n', 'LPG', '\\n']                                                                                                                                 16\n",
              "['\\n', 'Super 95 / Super Plus 98 (Particulate Filter)', '\\n']                                                                                       14\n",
              "['\\n', 'Regular/Benzine 91 / Super 95 / Super Plus 98 / Regular/Benzine E10 91 / Super E10 95 / Super Plus E10 98', '\\n']                           13\n",
              "['\\n', 'Regular/Benzine E10 91', '\\n']                                                                                                              11\n",
              "['\\n', 'Liquid petroleum gas (LPG)', '\\n']                                                                                                          10\n",
              "['\\n', 'Super 95 / Super Plus 98 / Super E10 95', '\\n']                                                                                              8\n",
              "['\\n', 'Regular/Benzine 91 / Regular/Benzine E10 91', '\\n']                                                                                          7\n",
              "['\\n', 'Super 95 / Regular/Benzine 91 / Super Plus 98 / Regular/Benzine E10 91 / Super E10 95 / Super Plus E10 98', '\\n']                            7\n",
              "['\\n', 'Super Plus 98', '\\n']                                                                                                                        7\n",
              "['\\n', 'Super E10 95 (Particulate Filter)', '\\n']                                                                                                    7\n",
              "['\\n', 'Super 95 / Super Plus 98 / Super Plus E10 98 / Super E10 95', '\\n']                                                                          5\n",
              "['\\n', 'Others', '\\n']                                                                                                                               5\n",
              "['\\n', 'Super E10 95 / Super Plus E10 98', '\\n']                                                                                                     4\n",
              "['\\n', 'Electric/Gasoline', '\\n']                                                                                                                    4\n",
              "['\\n', 'Super 95 / Super Plus 98 / Super E10 95 / Super Plus E10 98 (Particulate Filter)', '\\n']                                                     4\n",
              "['\\n', 'Super 95 / Super E10 95 / Super Plus E10 98 / Super Plus 98', '\\n']                                                                          4\n",
              "['\\n', 'Regular/Benzine 91 / Super 95 / Super Plus 98 / Regular/Benzine E10 91 / Super Plus E10 98 / Super E10 95', '\\n']                            4\n",
              "['\\n', 'CNG (Particulate Filter)', '\\n']                                                                                                             3\n",
              "['\\n', 'Super E10 95 / Super 95 / Super Plus 98 / Super Plus E10 98 (Particulate Filter)', '\\n']                                                     3\n",
              "['\\n', 'Super E10 95 / Super 95 / Super Plus 98', '\\n']                                                                                              3\n",
              "['\\n', 'Super E10 95 / Regular/Benzine 91', '\\n']                                                                                                    2\n",
              "['\\n', 'Super 95 / Regular/Benzine 91 / Super Plus 98', '\\n']                                                                                        2\n",
              "['\\n', 'Regular/Benzine 91 / Super 95 / Super Plus 98 / Super Plus E10 98 / Super E10 95 / Regular/Benzine E10 91', '\\n']                            2\n",
              "['\\n', 'Regular/Benzine 91 / Super 95 / Super E10 95', '\\n']                                                                                         1\n",
              "['\\n', 'Electric', '\\n']                                                                                                                             1\n",
              "['\\n', 'Regular/Benzine 91 / Super 95 / Super E10 95 / Super Plus E10 98 / Super Plus 98 / Regular/Benzine E10 91', '\\n']                            1\n",
              "['\\n', 'Super 95 / Super E10 95 / Super Plus E10 98', '\\n']                                                                                          1\n",
              "['\\n', 'Super 95 / Super E10 95 / Super Plus 98', '\\n']                                                                                              1\n",
              "['\\n', 'Regular/Benzine 91 / Super 95 / Super Plus E10 98 / Super E10 95 / Regular/Benzine E10 91 / Super Plus 98', '\\n']                            1\n",
              "['\\n', 'Super 95 / Super Plus 98 / Regular/Benzine E10 91 / Super Plus E10 98 / Super E10 95 / Regular/Benzine 91', '\\n']                            1\n",
              "['\\n', 'Super 95 / Regular/Benzine E10 91', '\\n']                                                                                                    1\n",
              "['\\n', 'Super E10 95 / Regular/Benzine 91 / Regular/Benzine E10 91 / Super 95', '\\n']                                                                1\n",
              "['\\n', 'Super Plus 98 / Regular/Benzine 91', '\\n']                                                                                                   1\n",
              "['\\n', 'Super 95 / Regular/Benzine 91 / Super E10 95 / Super Plus 98 / Super Plus E10 98 / Regular/Benzine E10 91', '\\n']                            1\n",
              "['\\n', 'Super 95 / Super Plus 98 / Super Plus E10 98', '\\n']                                                                                         1\n",
              "['\\n', 'Super 95 / Regular/Benzine 91 (Particulate Filter)', '\\n']                                                                                   1\n",
              "['\\n', 'Super 95 / Super E10 95 / Regular/Benzine 91', '\\n']                                                                                         1\n",
              "['\\n', 'Regular/Benzine 91 / Super 95 / Super E10 95 / Regular/Benzine E10 91', '\\n']                                                                1\n",
              "['\\n', 'Super 95 / Regular/Benzine E10 91 / Super E10 95', '\\n']                                                                                     1\n",
              "['\\n', 'Super 95 / Regular/Benzine 91 / Super Plus 98 / Regular/Benzine E10 91 / Super Plus E10 98 / Super E10 95', '\\n']                            1\n",
              "['\\n', 'Regular/Benzine E10 91 / Super E10 95 / Super Plus E10 98 / Super Plus 98 / Super 95 / Regular/Benzine 91', '\\n']                            1\n",
              "['\\n', 'Super 95 / Regular/Benzine 91 / Super E10 95 / Super Plus E10 98 / Super Plus 98', '\\n']                                                     1\n",
              "['\\n', 'Others (Particulate Filter)', '\\n']                                                                                                          1\n",
              "['\\n', 'Biogas', '\\n']                                                                                                                               1\n",
              "['\\n', 'Super 95 / Biodiesel', '\\n']                                                                                                                 1\n",
              "['\\n', 'Regular/Benzine 91 / Super 95 / Super Plus 98 / Super Plus E10 98 / Super E10 95 / Regular/Benzine E10 91 (Particulate Filter)', '\\n']       1\n",
              "['\\n', 'Regular/Benzine 91 / Super 95 / Super Plus 98', '\\n']                                                                                        1\n",
              "['\\n', 'Regular/Benzine 91 / Super 95', '\\n']                                                                                                        1\n",
              "['\\n', 'Regular/Benzine E10 91 / Regular/Benzine 91 / Super 95 / Super Plus 98 / Super E10 95 / Super Plus E10 98', '\\n']                            1\n",
              "['\\n', 'Domestic gas H', '\\n']                                                                                                                       1\n",
              "['\\n', 'Super E10 95 / Regular/Benzine 91 / Super 95 / Super Plus 98 / Regular/Benzine E10 91 / Super Plus E10 98', '\\n']                            1\n",
              "['\\n', 'Super Plus E10 98 / Super 95 / Super Plus 98 / Super E10 95', '\\n']                                                                          1\n",
              "['\\n', 'Super 95 / Regular/Benzine 91 / Super E10 95 / Super Plus E10 98 / Super Plus 98 / Regular/Benzine E10 91', '\\n']                            1\n",
              "['\\n', 'Super Plus 98 / Super 95 / Super E10 95', '\\n']                                                                                              1\n",
              "['\\n', 'Super Plus E10 98', '\\n']                                                                                                                    1\n",
              "['\\n', 'Regular/Benzine 91 / Super 95 / Regular/Benzine E10 91', '\\n']                                                                               1\n",
              "['\\n', 'Super Plus 98 / Super E10 95', '\\n']                                                                                                         1\n",
              "['\\n', 'Regular/Benzine 91 / Super 95 / Regular/Benzine E10 91 / Super E10 95 / Super Plus 98 / Super Plus E10 98', '\\n']                            1\n",
              "['\\n', 'Regular/Benzine 91 / Super Plus 98 / Regular/Benzine E10 91 / Super 95 / Super E10 95 / Super Plus E10 98', '\\n']                            1\n",
              "['\\n', 'Super Plus 98 / Super 95 / Super Plus E10 98', '\\n']                                                                                         1\n",
              "Name: Fuel, dtype: int64"
            ]
          },
          "metadata": {},
          "execution_count": 364
        }
      ]
    },
    {
      "cell_type": "code",
      "source": [
        "df[\"Fuel\"] = df.Fuel.str[1].str.split(\"/\").str[0].str.strip()"
      ],
      "metadata": {
        "id": "1-geP6uEZ455"
      },
      "execution_count": null,
      "outputs": []
    },
    {
      "cell_type": "code",
      "source": [
        "df[\"Fuel\"].value_counts(dropna=False)"
      ],
      "metadata": {
        "colab": {
          "base_uri": "https://localhost:8080/"
        },
        "id": "Jm9gASOuZ4-S",
        "outputId": "3345b95a-f3a2-4a48-8795-728093410ec1"
      },
      "execution_count": null,
      "outputs": [
        {
          "output_type": "execute_result",
          "data": {
            "text/plain": [
              "Diesel (Particulate Filter)          4315\n",
              "Super 95                             4100\n",
              "Gasoline                             3175\n",
              "Diesel                               2984\n",
              "Regular                               503\n",
              "Super E10 95                          402\n",
              "Super 95 (Particulate Filter)         268\n",
              "Gasoline (Particulate Filter)          77\n",
              "CNG                                    33\n",
              "LPG                                    16\n",
              "Super Plus 98                          11\n",
              "Liquid petroleum gas (LPG)             10\n",
              "Super E10 95 (Particulate Filter)       7\n",
              "Electric                                5\n",
              "Others                                  5\n",
              "CNG (Particulate Filter)                3\n",
              "Super Plus E10 98                       2\n",
              "Others (Particulate Filter)             1\n",
              "Biogas                                  1\n",
              "Domestic gas H                          1\n",
              "Name: Fuel, dtype: int64"
            ]
          },
          "metadata": {},
          "execution_count": 366
        }
      ]
    },
    {
      "cell_type": "code",
      "source": [
        "df[\"Fuel\"] = df.Fuel.str.split(\"(\").str[0].str.strip()"
      ],
      "metadata": {
        "id": "eQufYctEZ5Cd"
      },
      "execution_count": null,
      "outputs": []
    },
    {
      "cell_type": "code",
      "source": [
        "df[\"Fuel\"].value_counts(dropna=False)"
      ],
      "metadata": {
        "colab": {
          "base_uri": "https://localhost:8080/"
        },
        "id": "Q59QQQZhZ5G1",
        "outputId": "e9270e5e-226a-4227-d6fc-5228ed60e495"
      },
      "execution_count": null,
      "outputs": [
        {
          "output_type": "execute_result",
          "data": {
            "text/plain": [
              "Diesel                  7299\n",
              "Super 95                4368\n",
              "Gasoline                3252\n",
              "Regular                  503\n",
              "Super E10 95             409\n",
              "CNG                       36\n",
              "LPG                       16\n",
              "Super Plus 98             11\n",
              "Liquid petroleum gas      10\n",
              "Others                     6\n",
              "Electric                   5\n",
              "Super Plus E10 98          2\n",
              "Biogas                     1\n",
              "Domestic gas H             1\n",
              "Name: Fuel, dtype: int64"
            ]
          },
          "metadata": {},
          "execution_count": 368
        }
      ]
    },
    {
      "cell_type": "code",
      "source": [
        "benzine = [\"Gasoline\", \"Super 95\", \"Regular\", \"Super E10 95\", \"Super Plus 98\", \"Super Plus E10 98\", \"Others\"]\n",
        "lpg = [\"LPG\", \"Liquid petroleum gas\", \"CNG\", \"Biogas\", \"Domestic gas H\"]\n",
        "\n",
        "def fueltype(x):\n",
        "    if x in benzine:\n",
        "        return \"Benzine\"\n",
        "    elif x in lpg:\n",
        "        return \"LPG/CNG\"\n",
        "    else:\n",
        "        return x\n",
        "\n",
        "df[\"Fuel\"] = df.Fuel.apply(fueltype)"
      ],
      "metadata": {
        "id": "TMFe6IWMZ5Kc"
      },
      "execution_count": null,
      "outputs": []
    },
    {
      "cell_type": "code",
      "source": [
        "df.Fuel.value_counts(dropna=False)"
      ],
      "metadata": {
        "colab": {
          "base_uri": "https://localhost:8080/"
        },
        "id": "fL8szuoRZ5N1",
        "outputId": "8c04f912-a2bd-4f33-bf72-5d55d31a95d1"
      },
      "execution_count": null,
      "outputs": [
        {
          "output_type": "execute_result",
          "data": {
            "text/plain": [
              "Benzine     8551\n",
              "Diesel      7299\n",
              "LPG/CNG       64\n",
              "Electric       5\n",
              "Name: Fuel, dtype: int64"
            ]
          },
          "metadata": {},
          "execution_count": 370
        }
      ]
    },
    {
      "cell_type": "code",
      "source": [
        "\n",
        "df[\"fuel_new\"] = df.Fuel.str[1]\n",
        "diesel_bool = df[\"fuel_new\"].str.contains(\"diesel\", case = False, regex = True)\n",
        "lpg_bool = df[\"fuel_new\"].str.contains(\"lpg|cng|bio|domestic|electric\", case=False, regex=True)\n",
        "df.loc[diesel_bool, \"fuel_new\"] = \"Diesel\"\n",
        "df.loc[lpg_bool, \"fuel_new\"] = \"LPG/CNG\"\n",
        "benz = list(df.fuel_new.loc[lambda x : x != \"Diesel\"][lambda x : x != \"LPG/CNG\"].index)\n",
        "df.fuel_new.iloc[benz] = \"Benzine\""
      ],
      "metadata": {
        "id": "Xj7006_YZ5Yc"
      },
      "execution_count": null,
      "outputs": []
    },
    {
      "cell_type": "markdown",
      "source": [
        "Consumption"
      ],
      "metadata": {
        "id": "kvQ4Us8hd9L4"
      }
    },
    {
      "cell_type": "code",
      "source": [
        "df[\"Consumption\"].astype('str').value_counts(dropna=False)\n"
      ],
      "metadata": {
        "colab": {
          "base_uri": "https://localhost:8080/"
        },
        "id": "QdTIfvANZ5j3",
        "outputId": "ea87ffa9-8d25-46cb-f027-b36e3d060f5d"
      },
      "execution_count": null,
      "outputs": [
        {
          "output_type": "execute_result",
          "data": {
            "text/plain": [
              "nan                                                                                                 1906\n",
              "[['3.9 l/100 km (comb)'], ['4.1 l/100 km (city)'], ['3.7 l/100 km (country)']]                       304\n",
              "[['4.2 l/100 km (comb)'], ['5 l/100 km (city)'], ['3.7 l/100 km (country)']]                         276\n",
              "[['5.4 l/100 km (comb)'], ['6.8 l/100 km (city)'], ['4.5 l/100 km (country)']]                       257\n",
              "[['3.8 l/100 km (comb)'], ['4.3 l/100 km (city)'], ['3.5 l/100 km (country)']]                       253\n",
              "                                                                                                    ... \n",
              "[['4.2 l/100 km (comb)'], ['5.3 l/100 km (city)'], ['3.6 l/100 km (country)']]                         1\n",
              "['\\n', '5.1 l/100 km (comb)', '\\n', '6.4 l/100 km (city)', '\\n', '4.3 l/100 km (country)', '\\n']       1\n",
              "[['4.6 l/100 km (comb)'], ['5.4 l/100 km (city)'], ['6.7 l/100 km (country)']]                         1\n",
              "['\\n', '6.3 l/100 km (comb)', '\\n', '\\n', '\\n']                                                        1\n",
              "['\\n', '7.4 l/100 km (comb)', '\\n', '9.6 l/100 km (city)', '\\n', '6 l/100 km (country)', '\\n']         1\n",
              "Name: Consumption, Length: 882, dtype: int64"
            ]
          },
          "metadata": {},
          "execution_count": 372
        }
      ]
    },
    {
      "cell_type": "code",
      "source": [
        "def cons_comb(x):\n",
        "    \n",
        "    if type(x)==list and len(x)==3:\n",
        "        if x[0] != []: return x[0][0]\n",
        "        else: return None\n",
        "        \n",
        "    if type(x)==list and len(x)==5:\n",
        "        return x[1]\n",
        "    \n",
        "    if type(x)==list and len(x)==7:\n",
        "        return x[1]\n",
        "    \n",
        "    else:\n",
        "        return None"
      ],
      "metadata": {
        "id": "2B3mwBGlZ5ne"
      },
      "execution_count": null,
      "outputs": []
    },
    {
      "cell_type": "code",
      "source": [
        "def cons_city(x):\n",
        "    \n",
        "    if type(x)==list and len(x)==3:\n",
        "        if x[1] != []: return x[1][0]\n",
        "        else: return None\n",
        "        \n",
        "    if type(x)==list and len(x)==5:\n",
        "        return None\n",
        "    \n",
        "    if type(x)==list and len(x)==7:\n",
        "        return x[3]\n",
        "    \n",
        "    else:\n",
        "        return None"
      ],
      "metadata": {
        "id": "MU7--52cZ5q5"
      },
      "execution_count": null,
      "outputs": []
    },
    {
      "cell_type": "code",
      "source": [
        "def cons_country(x):\n",
        "    \n",
        "    if type(x)==list and len(x)==3:\n",
        "        if x[2] != []: return x[2][0]\n",
        "        else: return None\n",
        "        \n",
        "    if type(x)==list and len(x)==5:\n",
        "        return None\n",
        "    \n",
        "    if type(x)==list and len(x)==7:\n",
        "        return x[5]\n",
        "    \n",
        "    else:\n",
        "        return None"
      ],
      "metadata": {
        "id": "3eqI6DY8Z5uu"
      },
      "execution_count": null,
      "outputs": []
    },
    {
      "cell_type": "code",
      "source": [
        "df['cons_comb'] = df.Consumption.apply(cons_comb).str.extract('(\\d{1,2}.\\d|\\d{1,3})').astype(\"float\") # str.extract('(\\S+)')\n",
        "df['cons_city'] = df.Consumption.apply(cons_city).str.extract('(\\d{1,2}.\\d|\\d{1,3})').astype(\"float\")\n",
        "df['cons_country'] = df.Consumption.apply(cons_country).str.extract('(\\d{1,2}.\\d|\\d{1,3})').astype(\"float\")"
      ],
      "metadata": {
        "id": "s3hbxrVGZ5yZ"
      },
      "execution_count": null,
      "outputs": []
    },
    {
      "cell_type": "code",
      "source": [
        "df[\"cons_comb\"].value_counts(dropna=False).head()"
      ],
      "metadata": {
        "colab": {
          "base_uri": "https://localhost:8080/"
        },
        "id": "dckiHEU5Z58y",
        "outputId": "7dd07930-2361-4ae2-c5c9-1b72b53e7dde"
      },
      "execution_count": null,
      "outputs": [
        {
          "output_type": "execute_result",
          "data": {
            "text/plain": [
              "NaN     2033\n",
              "5.40     770\n",
              "3.90     733\n",
              "4.00     713\n",
              "5.10     657\n",
              "Name: cons_comb, dtype: int64"
            ]
          },
          "metadata": {},
          "execution_count": 377
        }
      ]
    },
    {
      "cell_type": "code",
      "source": [
        "df[\"cons_city\"].value_counts(dropna=False).head()"
      ],
      "metadata": {
        "colab": {
          "base_uri": "https://localhost:8080/"
        },
        "id": "w5BJ0dsCZ6DM",
        "outputId": "76a56e27-ea5e-41ee-e1a1-848a19d2ff4d"
      },
      "execution_count": null,
      "outputs": [
        {
          "output_type": "execute_result",
          "data": {
            "text/plain": [
              "NaN     2436\n",
              "5.00     669\n",
              "5.80     633\n",
              "4.50     580\n",
              "4.30     533\n",
              "Name: cons_city, dtype: int64"
            ]
          },
          "metadata": {},
          "execution_count": 378
        }
      ]
    },
    {
      "cell_type": "code",
      "source": [
        "df[\"cons_country\"].value_counts(dropna=False).head()"
      ],
      "metadata": {
        "colab": {
          "base_uri": "https://localhost:8080/"
        },
        "id": "SZp1EcZ-Z6Id",
        "outputId": "9194aa59-dee8-4705-e5c3-54a61bfc52db"
      },
      "execution_count": null,
      "outputs": [
        {
          "output_type": "execute_result",
          "data": {
            "text/plain": [
              "NaN     2376\n",
              "4.20    1178\n",
              "3.70    1089\n",
              "4.40     898\n",
              "4.50     848\n",
              "Name: cons_country, dtype: int64"
            ]
          },
          "metadata": {},
          "execution_count": 379
        }
      ]
    },
    {
      "cell_type": "code",
      "source": [
        "df.drop('Consumption', axis=1,inplace=True)"
      ],
      "metadata": {
        "id": "DTUSCVADZ6L9"
      },
      "execution_count": null,
      "outputs": []
    },
    {
      "cell_type": "markdown",
      "source": [
        "CO2 Emission"
      ],
      "metadata": {
        "id": "3ZNMVmXBeyGN"
      }
    },
    {
      "cell_type": "code",
      "source": [
        "df[\"CO2 Emission\"].astype('str').value_counts(dropna=False)"
      ],
      "metadata": {
        "colab": {
          "base_uri": "https://localhost:8080/"
        },
        "id": "w2LyzV8IZ6TI",
        "outputId": "26a7bf9f-cddd-4204-df42-0d20c784d7c2"
      },
      "execution_count": null,
      "outputs": [
        {
          "output_type": "execute_result",
          "data": {
            "text/plain": [
              "nan                              1808\n",
              "['\\n120 g CO2/km (comb)\\n']       740\n",
              "[[], [], []]                      628\n",
              "['\\n99 g CO2/km (comb)\\n']        545\n",
              "['\\n97 g CO2/km (comb)\\n']        537\n",
              "                                 ... \n",
              "['\\n14 g CO2/km (comb)\\n']          1\n",
              "['\\n1,060 g CO2/km (comb)\\n']       1\n",
              "['\\n51 g CO2/km (comb)\\n']          1\n",
              "['\\n165 g CO2/km (comb)\\n']         1\n",
              "['\\n193 g CO2/km (comb)\\n']         1\n",
              "Name: CO2 Emission, Length: 124, dtype: int64"
            ]
          },
          "metadata": {},
          "execution_count": 381
        }
      ]
    },
    {
      "cell_type": "code",
      "source": [
        "df[\"CO2_Emission\"] = df['CO2 Emission'].str[0].str.strip().str.replace(',', '').str.extract('(\\d+)').astype('float')\n",
        "\n",
        "#df[\"CO2_Emission\"] = [item[0] if type(item) == list else item for item in df[\"CO2 Emission\"]]\n",
        "#df[\"CO2_Emission\"] = df[\"CO2_Emission\"].str.strip(\"\\n\").str.rstrip(\" g CO2/km (comb)\").str.replace(\",\", \"\").astype(\"float\")"
      ],
      "metadata": {
        "id": "b9Rjx9OAZ6XM"
      },
      "execution_count": null,
      "outputs": []
    },
    {
      "cell_type": "code",
      "source": [
        "df[\"CO2_Emission\"].value_counts(dropna=False)"
      ],
      "metadata": {
        "colab": {
          "base_uri": "https://localhost:8080/"
        },
        "id": "0YZNMXlcZ6ax",
        "outputId": "ad3894b2-e42c-4a8d-a328-0d4634cababc"
      },
      "execution_count": null,
      "outputs": [
        {
          "output_type": "execute_result",
          "data": {
            "text/plain": [
              "NaN        2436\n",
              "120.00      740\n",
              "99.00       545\n",
              "97.00       537\n",
              "104.00      501\n",
              "           ... \n",
              "14.00         1\n",
              "1060.00       1\n",
              "51.00         1\n",
              "165.00        1\n",
              "193.00        1\n",
              "Name: CO2_Emission, Length: 123, dtype: int64"
            ]
          },
          "metadata": {},
          "execution_count": 383
        }
      ]
    },
    {
      "cell_type": "code",
      "source": [
        "df.drop(\"CO2 Emission\", axis=1, inplace=True)"
      ],
      "metadata": {
        "id": "pNfxwEGvZ6ed"
      },
      "execution_count": null,
      "outputs": []
    },
    {
      "cell_type": "markdown",
      "source": [
        "Emission Class"
      ],
      "metadata": {
        "id": "mK4l0O2YfWNP"
      }
    },
    {
      "cell_type": "code",
      "source": [
        "df[\"Emission Class\"].astype('str').value_counts(dropna=False)"
      ],
      "metadata": {
        "colab": {
          "base_uri": "https://localhost:8080/"
        },
        "id": "RrHKd88MZ6mg",
        "outputId": "7ba93405-ebd7-4b23-b7bb-44842bb7219d"
      },
      "execution_count": null,
      "outputs": [
        {
          "output_type": "execute_result",
          "data": {
            "text/plain": [
              "['\\nEuro 6\\n']          10139\n",
              "nan                      3021\n",
              "['\\nEuro 6d-TEMP\\n']     1845\n",
              "[[], [], []]              607\n",
              "['\\nEuro 6c\\n']           127\n",
              "['\\nEuro 5\\n']             78\n",
              "['\\nEuro 6d\\n']            62\n",
              "['\\nEuro 4\\n']             40\n",
              "Name: Emission Class, dtype: int64"
            ]
          },
          "metadata": {},
          "execution_count": 385
        }
      ]
    },
    {
      "cell_type": "code",
      "source": [
        "df[\"Emission_Class\"] = [item[0] if type(item) == list else item for item in df[\"Emission Class\"]]\n",
        "df[\"Emission_Class\"] = df[\"Emission_Class\"].str.strip(\"\\n\")"
      ],
      "metadata": {
        "id": "lFMNQHXdZ6qb"
      },
      "execution_count": null,
      "outputs": []
    },
    {
      "cell_type": "code",
      "source": [
        "df[\"Emission_Class\"].value_counts(dropna=False)"
      ],
      "metadata": {
        "colab": {
          "base_uri": "https://localhost:8080/"
        },
        "id": "FPf0zHMhZ6uH",
        "outputId": "edc2031b-6ce0-4595-bfcc-56adfc3d5849"
      },
      "execution_count": null,
      "outputs": [
        {
          "output_type": "execute_result",
          "data": {
            "text/plain": [
              "Euro 6          10139\n",
              "NaN              3628\n",
              "Euro 6d-TEMP     1845\n",
              "Euro 6c           127\n",
              "Euro 5             78\n",
              "Euro 6d            62\n",
              "Euro 4             40\n",
              "Name: Emission_Class, dtype: int64"
            ]
          },
          "metadata": {},
          "execution_count": 387
        }
      ]
    },
    {
      "cell_type": "code",
      "source": [
        "df.replace({\"Emission_Class\" : {\"Euro 6d-TEMP\": \"Euro 6\", \"Euro 6c\": \"Euro 6\", \"Euro 6d\": \"Euro 6\"}}, regex=True, inplace=True)"
      ],
      "metadata": {
        "id": "eNGvWfyeZ6x3"
      },
      "execution_count": null,
      "outputs": []
    },
    {
      "cell_type": "code",
      "source": [
        "df[\"Emission_Class\"].value_counts(dropna=False)"
      ],
      "metadata": {
        "colab": {
          "base_uri": "https://localhost:8080/"
        },
        "id": "qmkX83duZ61q",
        "outputId": "00caa6c7-2beb-4f5c-b59e-37329de3797b"
      },
      "execution_count": null,
      "outputs": [
        {
          "output_type": "execute_result",
          "data": {
            "text/plain": [
              "Euro 6    12173\n",
              "NaN        3628\n",
              "Euro 5       78\n",
              "Euro 4       40\n",
              "Name: Emission_Class, dtype: int64"
            ]
          },
          "metadata": {},
          "execution_count": 389
        }
      ]
    },
    {
      "cell_type": "code",
      "source": [
        "df.drop(\"Emission Class\", axis=1, inplace=True)"
      ],
      "metadata": {
        "id": "yEpVKb0sZ65f"
      },
      "execution_count": null,
      "outputs": []
    },
    {
      "cell_type": "markdown",
      "source": [
        "Emission Label"
      ],
      "metadata": {
        "id": "yB-4Qbp3fqsj"
      }
    },
    {
      "cell_type": "code",
      "source": [
        "df[\"Emission Label\"].astype('str').value_counts(dropna=False)"
      ],
      "metadata": {
        "colab": {
          "base_uri": "https://localhost:8080/"
        },
        "id": "SOLsZ7gbZ7CK",
        "outputId": "62fa3d4e-7796-4410-fbb5-133519df0505"
      },
      "execution_count": null,
      "outputs": [
        {
          "output_type": "execute_result",
          "data": {
            "text/plain": [
              "nan                       11934\n",
              "['\\n4 (Green)\\n']          3553\n",
              "['\\n1 (No sticker)\\n']      381\n",
              "[[], [], []]                 40\n",
              "['\\n5 (Blue)\\n']              8\n",
              "['\\n3 (Yellow)\\n']            2\n",
              "['\\n2 (Red)\\n']               1\n",
              "Name: Emission Label, dtype: int64"
            ]
          },
          "metadata": {},
          "execution_count": 391
        }
      ]
    },
    {
      "cell_type": "code",
      "source": [
        "df.drop(\"Emission Label\", axis=1, inplace=True)"
      ],
      "metadata": {
        "id": "dsmVc5ucZ7HN"
      },
      "execution_count": null,
      "outputs": []
    },
    {
      "cell_type": "markdown",
      "source": [
        "Gears"
      ],
      "metadata": {
        "id": "FQVdANLTg8yM"
      }
    },
    {
      "cell_type": "code",
      "source": [
        "df[\"Gears\"].astype('str').value_counts(dropna=False)"
      ],
      "metadata": {
        "colab": {
          "base_uri": "https://localhost:8080/"
        },
        "id": "nQoS9igJZ7Ol",
        "outputId": "ab457df5-4258-419c-f2c8-bf5cf4d2bdf6"
      },
      "execution_count": null,
      "outputs": [
        {
          "output_type": "execute_result",
          "data": {
            "text/plain": [
              "['\\n6\\n']     5822\n",
              "nan           4712\n",
              "['\\n5\\n']     3239\n",
              "['\\n7\\n']     1908\n",
              "['\\n8\\n']      224\n",
              "['\\n9\\n']        6\n",
              "['\\n1\\n']        2\n",
              "['\\n3\\n']        2\n",
              "['\\n4\\n']        2\n",
              "['\\n2\\n']        1\n",
              "['\\n50\\n']       1\n",
              "Name: Gears, dtype: int64"
            ]
          },
          "metadata": {},
          "execution_count": 393
        }
      ]
    },
    {
      "cell_type": "code",
      "source": [
        "df[\"Gears\"] = df.Gears.str[0].str.strip('\\n')"
      ],
      "metadata": {
        "id": "r6VhJv3cZ7SD"
      },
      "execution_count": null,
      "outputs": []
    },
    {
      "cell_type": "code",
      "source": [
        "df[\"Gears\"].value_counts(dropna=False)"
      ],
      "metadata": {
        "colab": {
          "base_uri": "https://localhost:8080/"
        },
        "id": "qJa8Tg-XZ7Vg",
        "outputId": "e138ec73-8b5b-4066-f5be-4e38d527be1c"
      },
      "execution_count": null,
      "outputs": [
        {
          "output_type": "execute_result",
          "data": {
            "text/plain": [
              "6      5822\n",
              "NaN    4712\n",
              "5      3239\n",
              "7      1908\n",
              "8       224\n",
              "9         6\n",
              "1         2\n",
              "3         2\n",
              "4         2\n",
              "2         1\n",
              "50        1\n",
              "Name: Gears, dtype: int64"
            ]
          },
          "metadata": {},
          "execution_count": 395
        }
      ]
    },
    {
      "cell_type": "markdown",
      "source": [
        "Country version"
      ],
      "metadata": {
        "id": "QNyLMa1wkwcG"
      }
    },
    {
      "cell_type": "code",
      "source": [
        "df[\"Country version\"].astype('str').value_counts(dropna=False)"
      ],
      "metadata": {
        "colab": {
          "base_uri": "https://localhost:8080/"
        },
        "id": "HM78dhzTC2p-",
        "outputId": "05000eef-1e44-4980-e9b3-b1ada099c841"
      },
      "execution_count": null,
      "outputs": [
        {
          "output_type": "execute_result",
          "data": {
            "text/plain": [
              "nan                       8333\n",
              "['\\nGermany\\n']           4502\n",
              "['\\nItaly\\n']             1038\n",
              "['\\nEuropean Union\\n']     507\n",
              "['\\nNetherlands\\n']        464\n",
              "['\\nSpain\\n']              325\n",
              "['\\nBelgium\\n']            314\n",
              "['\\nAustria\\n']            208\n",
              "['\\nCzech Republic\\n']      52\n",
              "['\\nPoland\\n']              49\n",
              "['\\nFrance\\n']              38\n",
              "['\\nDenmark\\n']             33\n",
              "['\\nHungary\\n']             28\n",
              "['\\nJapan\\n']                8\n",
              "['\\nSlovakia\\n']             4\n",
              "['\\nCroatia\\n']              4\n",
              "['\\nSweden\\n']               3\n",
              "['\\nRomania\\n']              2\n",
              "['\\nBulgaria\\n']             2\n",
              "['\\nLuxembourg\\n']           1\n",
              "['\\nSwitzerland\\n']          1\n",
              "['\\nSlovenia\\n']             1\n",
              "['\\nEgypt\\n']                1\n",
              "['\\nSerbia\\n']               1\n",
              "Name: Country version, dtype: int64"
            ]
          },
          "metadata": {},
          "execution_count": 396
        }
      ]
    },
    {
      "cell_type": "code",
      "source": [
        "df.drop(\"Country version\", axis=1, inplace=True)"
      ],
      "metadata": {
        "id": "oa_wBC7gC2tc"
      },
      "execution_count": null,
      "outputs": []
    },
    {
      "cell_type": "markdown",
      "source": [
        "Comfort_Convenience"
      ],
      "metadata": {
        "id": "IgHys1hIlCr2"
      }
    },
    {
      "cell_type": "code",
      "source": [
        "df[\"Comfort_Convenience\"].astype('str').value_counts(dropna=False).head()"
      ],
      "metadata": {
        "colab": {
          "base_uri": "https://localhost:8080/"
        },
        "id": "KPK7JNmNk8aq",
        "outputId": "682161eb-a1b3-4038-8c9f-71c18dee59a0"
      },
      "execution_count": null,
      "outputs": [
        {
          "output_type": "execute_result",
          "data": {
            "text/plain": [
              "nan                                                                                                                                                                                                                                                                                                                                                                                                       920\n",
              "['Air conditioning', 'Electrical side mirrors', 'Hill Holder', 'Power windows']                                                                                                                                                                                                                                                                                                                           216\n",
              "['Air conditioning', 'Electrical side mirrors', 'Power windows']                                                                                                                                                                                                                                                                                                                                          134\n",
              "['Air conditioning', 'Power windows']                                                                                                                                                                                                                                                                                                                                                                     130\n",
              "['Air conditioning', 'Armrest', 'Automatic climate control', 'Cruise control', 'Electrical side mirrors', 'Leather steering wheel', 'Light sensor', 'Lumbar support', 'Multi-function steering wheel', 'Navigation system', 'Park Distance Control', 'Parking assist system sensors front', 'Parking assist system sensors rear', 'Power windows', 'Rain sensor', 'Seat heating', 'Start-stop system']    105\n",
              "Name: Comfort_Convenience, dtype: int64"
            ]
          },
          "metadata": {},
          "execution_count": 398
        }
      ]
    },
    {
      "cell_type": "code",
      "source": [
        "df[\"Comfort_Convenience\"] = [\",\".join(item) if type(item) == list else item for item in df[\"Comfort_Convenience\"]]"
      ],
      "metadata": {
        "id": "Cufb097wk8hC"
      },
      "execution_count": null,
      "outputs": []
    },
    {
      "cell_type": "code",
      "source": [
        "df[\"Comfort_Convenience\"].value_counts(dropna=False).head()"
      ],
      "metadata": {
        "colab": {
          "base_uri": "https://localhost:8080/"
        },
        "id": "VwWoi65rk8mU",
        "outputId": "c2950407-0c0d-48e7-d506-af3d4a5df235"
      },
      "execution_count": null,
      "outputs": [
        {
          "output_type": "execute_result",
          "data": {
            "text/plain": [
              "NaN                                                                                                                                                                                                                                                                                                                                                   920\n",
              "Air conditioning,Electrical side mirrors,Hill Holder,Power windows                                                                                                                                                                                                                                                                                    216\n",
              "Air conditioning,Electrical side mirrors,Power windows                                                                                                                                                                                                                                                                                                134\n",
              "Air conditioning,Power windows                                                                                                                                                                                                                                                                                                                        130\n",
              "Air conditioning,Armrest,Automatic climate control,Cruise control,Electrical side mirrors,Leather steering wheel,Light sensor,Lumbar support,Multi-function steering wheel,Navigation system,Park Distance Control,Parking assist system sensors front,Parking assist system sensors rear,Power windows,Rain sensor,Seat heating,Start-stop system    105\n",
              "Name: Comfort_Convenience, dtype: int64"
            ]
          },
          "metadata": {},
          "execution_count": 400
        }
      ]
    },
    {
      "cell_type": "markdown",
      "source": [
        "Entertainment_Media"
      ],
      "metadata": {
        "id": "XIMi5b9OnJsH"
      }
    },
    {
      "cell_type": "code",
      "source": [
        "df[\"Entertainment_Media\"].astype('str').value_counts(dropna=False).head()"
      ],
      "metadata": {
        "colab": {
          "base_uri": "https://localhost:8080/"
        },
        "id": "Vh1lNq4tk8vd",
        "outputId": "55a9125a-af0d-4771-b0e3-5296c448ff5b"
      },
      "execution_count": null,
      "outputs": [
        {
          "output_type": "execute_result",
          "data": {
            "text/plain": [
              "nan                                                                                               1374\n",
              "['Bluetooth', 'Hands-free equipment', 'On-board computer', 'Radio', 'USB']                        1282\n",
              "['Bluetooth', 'Hands-free equipment', 'MP3', 'On-board computer', 'Radio', 'USB']                  982\n",
              "['Bluetooth', 'CD player', 'Hands-free equipment', 'MP3', 'On-board computer', 'Radio', 'USB']     783\n",
              "['On-board computer', 'Radio']                                                                     487\n",
              "Name: Entertainment_Media, dtype: int64"
            ]
          },
          "metadata": {},
          "execution_count": 401
        }
      ]
    },
    {
      "cell_type": "code",
      "source": [
        "df[\"Entertainment_Media\"] = [\",\".join(item) if type(item) == list else item for item in df[\"Entertainment_Media\"]]"
      ],
      "metadata": {
        "id": "El6rAVb_k8z6"
      },
      "execution_count": null,
      "outputs": []
    },
    {
      "cell_type": "code",
      "source": [
        "df[\"Entertainment_Media\"].value_counts(dropna=False).head()"
      ],
      "metadata": {
        "colab": {
          "base_uri": "https://localhost:8080/"
        },
        "id": "jttjqpqGk84I",
        "outputId": "42dd115e-1aec-4292-b7b7-edc915a54bb4"
      },
      "execution_count": null,
      "outputs": [
        {
          "output_type": "execute_result",
          "data": {
            "text/plain": [
              "NaN                                                                         1374\n",
              "Bluetooth,Hands-free equipment,On-board computer,Radio,USB                  1282\n",
              "Bluetooth,Hands-free equipment,MP3,On-board computer,Radio,USB               982\n",
              "Bluetooth,CD player,Hands-free equipment,MP3,On-board computer,Radio,USB     783\n",
              "On-board computer,Radio                                                      487\n",
              "Name: Entertainment_Media, dtype: int64"
            ]
          },
          "metadata": {},
          "execution_count": 403
        }
      ]
    },
    {
      "cell_type": "markdown",
      "source": [
        "Extras"
      ],
      "metadata": {
        "id": "yQh_AnRsnZKS"
      }
    },
    {
      "cell_type": "code",
      "source": [
        "df[\"Extras\"].astype('str').value_counts(dropna=False).head()"
      ],
      "metadata": {
        "colab": {
          "base_uri": "https://localhost:8080/"
        },
        "id": "9CpgzfY2k9Ay",
        "outputId": "3b74f030-93f0-4258-846c-cbe7a979e3c7"
      },
      "execution_count": null,
      "outputs": [
        {
          "output_type": "execute_result",
          "data": {
            "text/plain": [
              "['Alloy wheels']                                     3245\n",
              "nan                                                  2962\n",
              "['Alloy wheels', 'Touch screen']                      697\n",
              "['Alloy wheels', 'Voice Control']                     577\n",
              "['Alloy wheels', 'Touch screen', 'Voice Control']     541\n",
              "Name: Extras, dtype: int64"
            ]
          },
          "metadata": {},
          "execution_count": 404
        }
      ]
    },
    {
      "cell_type": "code",
      "source": [
        "df[\"Extras\"] = [\",\".join(item) if type(item) == list else item for item in df[\"Extras\"]]"
      ],
      "metadata": {
        "id": "H5850Esbk9GS"
      },
      "execution_count": null,
      "outputs": []
    },
    {
      "cell_type": "code",
      "source": [
        "df[\"Extras\"].value_counts(dropna=False).head()"
      ],
      "metadata": {
        "colab": {
          "base_uri": "https://localhost:8080/"
        },
        "id": "K4Tuz7HWk9d7",
        "outputId": "8e7318ca-81d5-4e03-e434-c7d933732922"
      },
      "execution_count": null,
      "outputs": [
        {
          "output_type": "execute_result",
          "data": {
            "text/plain": [
              "Alloy wheels                               3245\n",
              "NaN                                        2962\n",
              "Alloy wheels,Touch screen                   697\n",
              "Alloy wheels,Voice Control                  577\n",
              "Alloy wheels,Touch screen,Voice Control     541\n",
              "Name: Extras, dtype: int64"
            ]
          },
          "metadata": {},
          "execution_count": 406
        }
      ]
    },
    {
      "cell_type": "markdown",
      "source": [
        "Safety_Security"
      ],
      "metadata": {
        "id": "U9HpoCNFnnn3"
      }
    },
    {
      "cell_type": "code",
      "source": [
        "df[\"Safety_Security\"].astype('str').value_counts(dropna=False).head()"
      ],
      "metadata": {
        "colab": {
          "base_uri": "https://localhost:8080/"
        },
        "id": "2p0TG89pk9wV",
        "outputId": "0f7a7313-d9fd-44be-a48f-38dee97c1c77"
      },
      "execution_count": null,
      "outputs": [
        {
          "output_type": "execute_result",
          "data": {
            "text/plain": [
              "nan                                                                                                                                                                                                                                                                                                   982\n",
              "['ABS', 'Central door lock', 'Daytime running lights', 'Driver-side airbag', 'Electronic stability control', 'Fog lights', 'Immobilizer', 'Isofix', 'Passenger-side airbag', 'Power steering', 'Side airbag', 'Tire pressure monitoring system', 'Traction control']                                  538\n",
              "['ABS', 'Central door lock', 'Daytime running lights', 'Driver-side airbag', 'Electronic stability control', 'Immobilizer', 'Isofix', 'Passenger-side airbag', 'Power steering', 'Side airbag', 'Tire pressure monitoring system', 'Traction control']                                                480\n",
              "['ABS', 'Central door lock', 'Daytime running lights', 'Driver-side airbag', 'Electronic stability control', 'Immobilizer', 'Isofix', 'Passenger-side airbag', 'Power steering', 'Side airbag', 'Tire pressure monitoring system', 'Traction control', 'Xenon headlights']                            275\n",
              "['ABS', 'Central door lock', 'Daytime running lights', 'Driver-side airbag', 'Electronic stability control', 'Fog lights', 'Immobilizer', 'Isofix', 'LED Daytime Running Lights', 'Passenger-side airbag', 'Power steering', 'Side airbag', 'Tire pressure monitoring system', 'Traction control']    272\n",
              "Name: Safety_Security, dtype: int64"
            ]
          },
          "metadata": {},
          "execution_count": 407
        }
      ]
    },
    {
      "cell_type": "code",
      "source": [
        "df[\"Safety_Security\"] = [\",\".join(item) if type(item) == list else item for item in df[\"Safety_Security\"]]"
      ],
      "metadata": {
        "id": "JlQlCyguk90H"
      },
      "execution_count": null,
      "outputs": []
    },
    {
      "cell_type": "code",
      "source": [
        "df[\"Safety_Security\"].value_counts(dropna=False).head()"
      ],
      "metadata": {
        "colab": {
          "base_uri": "https://localhost:8080/"
        },
        "id": "eKftGRf_k97z",
        "outputId": "df22a25e-9856-4522-bd92-9d154c88a469"
      },
      "execution_count": null,
      "outputs": [
        {
          "output_type": "execute_result",
          "data": {
            "text/plain": [
              "NaN                                                                                                                                                                                                                                                        982\n",
              "ABS,Central door lock,Daytime running lights,Driver-side airbag,Electronic stability control,Fog lights,Immobilizer,Isofix,Passenger-side airbag,Power steering,Side airbag,Tire pressure monitoring system,Traction control                               538\n",
              "ABS,Central door lock,Daytime running lights,Driver-side airbag,Electronic stability control,Immobilizer,Isofix,Passenger-side airbag,Power steering,Side airbag,Tire pressure monitoring system,Traction control                                          480\n",
              "ABS,Central door lock,Daytime running lights,Driver-side airbag,Electronic stability control,Immobilizer,Isofix,Passenger-side airbag,Power steering,Side airbag,Tire pressure monitoring system,Traction control,Xenon headlights                         275\n",
              "ABS,Central door lock,Daytime running lights,Driver-side airbag,Electronic stability control,Fog lights,Immobilizer,Isofix,LED Daytime Running Lights,Passenger-side airbag,Power steering,Side airbag,Tire pressure monitoring system,Traction control    272\n",
              "Name: Safety_Security, dtype: int64"
            ]
          },
          "metadata": {},
          "execution_count": 409
        }
      ]
    },
    {
      "cell_type": "markdown",
      "source": [
        "Save the cleaned file as in csv format."
      ],
      "metadata": {
        "id": "swHo02IKn4NI"
      }
    },
    {
      "cell_type": "code",
      "source": [
        "df.shape"
      ],
      "metadata": {
        "colab": {
          "base_uri": "https://localhost:8080/"
        },
        "id": "wnmqCHMAk-Hl",
        "outputId": "a27f0c0a-b423-4e07-c57d-8da49783b673"
      },
      "execution_count": null,
      "outputs": [
        {
          "output_type": "execute_result",
          "data": {
            "text/plain": [
              "(15919, 33)"
            ]
          },
          "metadata": {},
          "execution_count": 410
        }
      ]
    },
    {
      "cell_type": "code",
      "source": [
        "df.head().T"
      ],
      "metadata": {
        "colab": {
          "base_uri": "https://localhost:8080/",
          "height": 1000
        },
        "id": "0zp7YBGAn_oU",
        "outputId": "d81417f9-7717-4715-9556-368085b79e9f"
      },
      "execution_count": null,
      "outputs": [
        {
          "output_type": "execute_result",
          "data": {
            "text/plain": [
              "                                                                     0  \\\n",
              "make_model                                                     Audi A1   \n",
              "body_type                                                       Sedans   \n",
              "price                                                            15770   \n",
              "vat                                                     VAT deductible   \n",
              "km                                                            56013.00   \n",
              "Type                                                              Used   \n",
              "Warranty                                                           NaN   \n",
              "Cylinders                                                         3.00   \n",
              "Fuel                                                            Diesel   \n",
              "Comfort_Convenience  Air conditioning,Armrest,Automatic climate con...   \n",
              "Entertainment_Media  Bluetooth,Hands-free equipment,On-board comput...   \n",
              "Extras                  Alloy wheels,Catalytic Converter,Voice Control   \n",
              "Safety_Security      ABS,Central door lock,Daytime running lights,D...   \n",
              "Gears                                                              NaN   \n",
              "age                                                               3.00   \n",
              "Previous_Owners                                                   2.00   \n",
              "hp_kW                                                            66.00   \n",
              "Inspection_new                                                     Yes   \n",
              "Paint_Type                                                    Metallic   \n",
              "Upholstery_type                                                  Cloth   \n",
              "Upholstery_color                                                 Black   \n",
              "Nr_of_Doors                                                       5.00   \n",
              "Nr_of_Seats                                                       5.00   \n",
              "Gearing_Type                                                 Automatic   \n",
              "Displacement_cc                                                1422.00   \n",
              "Weight_kg                                                      1220.00   \n",
              "Drive_chain                                                      front   \n",
              "fuel_new                                                       Benzine   \n",
              "cons_comb                                                         3.80   \n",
              "cons_city                                                         4.30   \n",
              "cons_country                                                      3.50   \n",
              "CO2_Emission                                                     99.00   \n",
              "Emission_Class                                                  Euro 6   \n",
              "\n",
              "                                                                     1  \\\n",
              "make_model                                                     Audi A1   \n",
              "body_type                                                       Sedans   \n",
              "price                                                            14500   \n",
              "vat                                                   Price negotiable   \n",
              "km                                                            80000.00   \n",
              "Type                                                              Used   \n",
              "Warranty                                                           NaN   \n",
              "Cylinders                                                         4.00   \n",
              "Fuel                                                           Benzine   \n",
              "Comfort_Convenience  Air conditioning,Automatic climate control,Hil...   \n",
              "Entertainment_Media  Bluetooth,Hands-free equipment,On-board comput...   \n",
              "Extras               Alloy wheels,Sport seats,Sport suspension,Voic...   \n",
              "Safety_Security      ABS,Central door lock,Central door lock with r...   \n",
              "Gears                                                                7   \n",
              "age                                                               2.00   \n",
              "Previous_Owners                                                    NaN   \n",
              "hp_kW                                                           141.00   \n",
              "Inspection_new                                                     NaN   \n",
              "Paint_Type                                                         NaN   \n",
              "Upholstery_type                                                  Cloth   \n",
              "Upholstery_color                                                  Grey   \n",
              "Nr_of_Doors                                                       3.00   \n",
              "Nr_of_Seats                                                       4.00   \n",
              "Gearing_Type                                                 Automatic   \n",
              "Displacement_cc                                                1798.00   \n",
              "Weight_kg                                                      1255.00   \n",
              "Drive_chain                                                      front   \n",
              "fuel_new                                                       Benzine   \n",
              "cons_comb                                                         5.60   \n",
              "cons_city                                                         7.10   \n",
              "cons_country                                                      4.70   \n",
              "CO2_Emission                                                    129.00   \n",
              "Emission_Class                                                  Euro 6   \n",
              "\n",
              "                                                                     2  \\\n",
              "make_model                                                     Audi A1   \n",
              "body_type                                                       Sedans   \n",
              "price                                                            14640   \n",
              "vat                                                     VAT deductible   \n",
              "km                                                            83450.00   \n",
              "Type                                                              Used   \n",
              "Warranty                                                           NaN   \n",
              "Cylinders                                                          NaN   \n",
              "Fuel                                                            Diesel   \n",
              "Comfort_Convenience  Air conditioning,Cruise control,Electrical sid...   \n",
              "Entertainment_Media                              MP3,On-board computer   \n",
              "Extras                                      Alloy wheels,Voice Control   \n",
              "Safety_Security      ABS,Central door lock,Daytime running lights,D...   \n",
              "Gears                                                              NaN   \n",
              "age                                                               3.00   \n",
              "Previous_Owners                                                   1.00   \n",
              "hp_kW                                                            85.00   \n",
              "Inspection_new                                                     NaN   \n",
              "Paint_Type                                                    Metallic   \n",
              "Upholstery_type                                                  Cloth   \n",
              "Upholstery_color                                                 Black   \n",
              "Nr_of_Doors                                                       4.00   \n",
              "Nr_of_Seats                                                       4.00   \n",
              "Gearing_Type                                                 Automatic   \n",
              "Displacement_cc                                                1598.00   \n",
              "Weight_kg                                                          NaN   \n",
              "Drive_chain                                                      front   \n",
              "fuel_new                                                       Benzine   \n",
              "cons_comb                                                         3.80   \n",
              "cons_city                                                         4.40   \n",
              "cons_country                                                      3.40   \n",
              "CO2_Emission                                                     99.00   \n",
              "Emission_Class                                                  Euro 6   \n",
              "\n",
              "                                                                     3  \\\n",
              "make_model                                                     Audi A1   \n",
              "body_type                                                       Sedans   \n",
              "price                                                            14500   \n",
              "vat                                                               None   \n",
              "km                                                            73000.00   \n",
              "Type                                                              Used   \n",
              "Warranty                                                           NaN   \n",
              "Cylinders                                                         3.00   \n",
              "Fuel                                                            Diesel   \n",
              "Comfort_Convenience  Air suspension,Armrest,Auxiliary heating,Elect...   \n",
              "Entertainment_Media  Bluetooth,CD player,Hands-free equipment,MP3,O...   \n",
              "Extras                          Alloy wheels,Sport seats,Voice Control   \n",
              "Safety_Security      ABS,Alarm system,Central door lock with remote...   \n",
              "Gears                                                                6   \n",
              "age                                                               3.00   \n",
              "Previous_Owners                                                   1.00   \n",
              "hp_kW                                                            66.00   \n",
              "Inspection_new                                                     NaN   \n",
              "Paint_Type                                                    Metallic   \n",
              "Upholstery_type                                                    NaN   \n",
              "Upholstery_color                                                   NaN   \n",
              "Nr_of_Doors                                                       3.00   \n",
              "Nr_of_Seats                                                       4.00   \n",
              "Gearing_Type                                                 Automatic   \n",
              "Displacement_cc                                                1422.00   \n",
              "Weight_kg                                                      1195.00   \n",
              "Drive_chain                                                        NaN   \n",
              "fuel_new                                                       Benzine   \n",
              "cons_comb                                                         3.80   \n",
              "cons_city                                                         4.30   \n",
              "cons_country                                                      3.50   \n",
              "CO2_Emission                                                     99.00   \n",
              "Emission_Class                                                  Euro 6   \n",
              "\n",
              "                                                                     4  \n",
              "make_model                                                     Audi A1  \n",
              "body_type                                                       Sedans  \n",
              "price                                                            16790  \n",
              "vat                                                               None  \n",
              "km                                                            16200.00  \n",
              "Type                                                              Used  \n",
              "Warranty                                                           NaN  \n",
              "Cylinders                                                         3.00  \n",
              "Fuel                                                            Diesel  \n",
              "Comfort_Convenience  Air conditioning,Armrest,Automatic climate con...  \n",
              "Entertainment_Media  Bluetooth,CD player,Hands-free equipment,MP3,O...  \n",
              "Extras               Alloy wheels,Sport package,Sport suspension,Vo...  \n",
              "Safety_Security      ABS,Central door lock,Driver-side airbag,Elect...  \n",
              "Gears                                                              NaN  \n",
              "age                                                               3.00  \n",
              "Previous_Owners                                                   1.00  \n",
              "hp_kW                                                            66.00  \n",
              "Inspection_new                                                     Yes  \n",
              "Paint_Type                                                    Metallic  \n",
              "Upholstery_type                                                  Cloth  \n",
              "Upholstery_color                                                 Black  \n",
              "Nr_of_Doors                                                       5.00  \n",
              "Nr_of_Seats                                                       5.00  \n",
              "Gearing_Type                                                 Automatic  \n",
              "Displacement_cc                                                1422.00  \n",
              "Weight_kg                                                          NaN  \n",
              "Drive_chain                                                      front  \n",
              "fuel_new                                                       Benzine  \n",
              "cons_comb                                                         4.10  \n",
              "cons_city                                                         4.60  \n",
              "cons_country                                                      3.80  \n",
              "CO2_Emission                                                    109.00  \n",
              "Emission_Class                                                  Euro 6  "
            ],
            "text/html": [
              "\n",
              "  <div id=\"df-1f3245a4-5507-437a-babe-e5cef5e5ac87\">\n",
              "    <div class=\"colab-df-container\">\n",
              "      <div>\n",
              "<style scoped>\n",
              "    .dataframe tbody tr th:only-of-type {\n",
              "        vertical-align: middle;\n",
              "    }\n",
              "\n",
              "    .dataframe tbody tr th {\n",
              "        vertical-align: top;\n",
              "    }\n",
              "\n",
              "    .dataframe thead th {\n",
              "        text-align: right;\n",
              "    }\n",
              "</style>\n",
              "<table border=\"1\" class=\"dataframe\">\n",
              "  <thead>\n",
              "    <tr style=\"text-align: right;\">\n",
              "      <th></th>\n",
              "      <th>0</th>\n",
              "      <th>1</th>\n",
              "      <th>2</th>\n",
              "      <th>3</th>\n",
              "      <th>4</th>\n",
              "    </tr>\n",
              "  </thead>\n",
              "  <tbody>\n",
              "    <tr>\n",
              "      <th>make_model</th>\n",
              "      <td>Audi A1</td>\n",
              "      <td>Audi A1</td>\n",
              "      <td>Audi A1</td>\n",
              "      <td>Audi A1</td>\n",
              "      <td>Audi A1</td>\n",
              "    </tr>\n",
              "    <tr>\n",
              "      <th>body_type</th>\n",
              "      <td>Sedans</td>\n",
              "      <td>Sedans</td>\n",
              "      <td>Sedans</td>\n",
              "      <td>Sedans</td>\n",
              "      <td>Sedans</td>\n",
              "    </tr>\n",
              "    <tr>\n",
              "      <th>price</th>\n",
              "      <td>15770</td>\n",
              "      <td>14500</td>\n",
              "      <td>14640</td>\n",
              "      <td>14500</td>\n",
              "      <td>16790</td>\n",
              "    </tr>\n",
              "    <tr>\n",
              "      <th>vat</th>\n",
              "      <td>VAT deductible</td>\n",
              "      <td>Price negotiable</td>\n",
              "      <td>VAT deductible</td>\n",
              "      <td>None</td>\n",
              "      <td>None</td>\n",
              "    </tr>\n",
              "    <tr>\n",
              "      <th>km</th>\n",
              "      <td>56013.00</td>\n",
              "      <td>80000.00</td>\n",
              "      <td>83450.00</td>\n",
              "      <td>73000.00</td>\n",
              "      <td>16200.00</td>\n",
              "    </tr>\n",
              "    <tr>\n",
              "      <th>Type</th>\n",
              "      <td>Used</td>\n",
              "      <td>Used</td>\n",
              "      <td>Used</td>\n",
              "      <td>Used</td>\n",
              "      <td>Used</td>\n",
              "    </tr>\n",
              "    <tr>\n",
              "      <th>Warranty</th>\n",
              "      <td>NaN</td>\n",
              "      <td>NaN</td>\n",
              "      <td>NaN</td>\n",
              "      <td>NaN</td>\n",
              "      <td>NaN</td>\n",
              "    </tr>\n",
              "    <tr>\n",
              "      <th>Cylinders</th>\n",
              "      <td>3.00</td>\n",
              "      <td>4.00</td>\n",
              "      <td>NaN</td>\n",
              "      <td>3.00</td>\n",
              "      <td>3.00</td>\n",
              "    </tr>\n",
              "    <tr>\n",
              "      <th>Fuel</th>\n",
              "      <td>Diesel</td>\n",
              "      <td>Benzine</td>\n",
              "      <td>Diesel</td>\n",
              "      <td>Diesel</td>\n",
              "      <td>Diesel</td>\n",
              "    </tr>\n",
              "    <tr>\n",
              "      <th>Comfort_Convenience</th>\n",
              "      <td>Air conditioning,Armrest,Automatic climate con...</td>\n",
              "      <td>Air conditioning,Automatic climate control,Hil...</td>\n",
              "      <td>Air conditioning,Cruise control,Electrical sid...</td>\n",
              "      <td>Air suspension,Armrest,Auxiliary heating,Elect...</td>\n",
              "      <td>Air conditioning,Armrest,Automatic climate con...</td>\n",
              "    </tr>\n",
              "    <tr>\n",
              "      <th>Entertainment_Media</th>\n",
              "      <td>Bluetooth,Hands-free equipment,On-board comput...</td>\n",
              "      <td>Bluetooth,Hands-free equipment,On-board comput...</td>\n",
              "      <td>MP3,On-board computer</td>\n",
              "      <td>Bluetooth,CD player,Hands-free equipment,MP3,O...</td>\n",
              "      <td>Bluetooth,CD player,Hands-free equipment,MP3,O...</td>\n",
              "    </tr>\n",
              "    <tr>\n",
              "      <th>Extras</th>\n",
              "      <td>Alloy wheels,Catalytic Converter,Voice Control</td>\n",
              "      <td>Alloy wheels,Sport seats,Sport suspension,Voic...</td>\n",
              "      <td>Alloy wheels,Voice Control</td>\n",
              "      <td>Alloy wheels,Sport seats,Voice Control</td>\n",
              "      <td>Alloy wheels,Sport package,Sport suspension,Vo...</td>\n",
              "    </tr>\n",
              "    <tr>\n",
              "      <th>Safety_Security</th>\n",
              "      <td>ABS,Central door lock,Daytime running lights,D...</td>\n",
              "      <td>ABS,Central door lock,Central door lock with r...</td>\n",
              "      <td>ABS,Central door lock,Daytime running lights,D...</td>\n",
              "      <td>ABS,Alarm system,Central door lock with remote...</td>\n",
              "      <td>ABS,Central door lock,Driver-side airbag,Elect...</td>\n",
              "    </tr>\n",
              "    <tr>\n",
              "      <th>Gears</th>\n",
              "      <td>NaN</td>\n",
              "      <td>7</td>\n",
              "      <td>NaN</td>\n",
              "      <td>6</td>\n",
              "      <td>NaN</td>\n",
              "    </tr>\n",
              "    <tr>\n",
              "      <th>age</th>\n",
              "      <td>3.00</td>\n",
              "      <td>2.00</td>\n",
              "      <td>3.00</td>\n",
              "      <td>3.00</td>\n",
              "      <td>3.00</td>\n",
              "    </tr>\n",
              "    <tr>\n",
              "      <th>Previous_Owners</th>\n",
              "      <td>2.00</td>\n",
              "      <td>NaN</td>\n",
              "      <td>1.00</td>\n",
              "      <td>1.00</td>\n",
              "      <td>1.00</td>\n",
              "    </tr>\n",
              "    <tr>\n",
              "      <th>hp_kW</th>\n",
              "      <td>66.00</td>\n",
              "      <td>141.00</td>\n",
              "      <td>85.00</td>\n",
              "      <td>66.00</td>\n",
              "      <td>66.00</td>\n",
              "    </tr>\n",
              "    <tr>\n",
              "      <th>Inspection_new</th>\n",
              "      <td>Yes</td>\n",
              "      <td>NaN</td>\n",
              "      <td>NaN</td>\n",
              "      <td>NaN</td>\n",
              "      <td>Yes</td>\n",
              "    </tr>\n",
              "    <tr>\n",
              "      <th>Paint_Type</th>\n",
              "      <td>Metallic</td>\n",
              "      <td>NaN</td>\n",
              "      <td>Metallic</td>\n",
              "      <td>Metallic</td>\n",
              "      <td>Metallic</td>\n",
              "    </tr>\n",
              "    <tr>\n",
              "      <th>Upholstery_type</th>\n",
              "      <td>Cloth</td>\n",
              "      <td>Cloth</td>\n",
              "      <td>Cloth</td>\n",
              "      <td>NaN</td>\n",
              "      <td>Cloth</td>\n",
              "    </tr>\n",
              "    <tr>\n",
              "      <th>Upholstery_color</th>\n",
              "      <td>Black</td>\n",
              "      <td>Grey</td>\n",
              "      <td>Black</td>\n",
              "      <td>NaN</td>\n",
              "      <td>Black</td>\n",
              "    </tr>\n",
              "    <tr>\n",
              "      <th>Nr_of_Doors</th>\n",
              "      <td>5.00</td>\n",
              "      <td>3.00</td>\n",
              "      <td>4.00</td>\n",
              "      <td>3.00</td>\n",
              "      <td>5.00</td>\n",
              "    </tr>\n",
              "    <tr>\n",
              "      <th>Nr_of_Seats</th>\n",
              "      <td>5.00</td>\n",
              "      <td>4.00</td>\n",
              "      <td>4.00</td>\n",
              "      <td>4.00</td>\n",
              "      <td>5.00</td>\n",
              "    </tr>\n",
              "    <tr>\n",
              "      <th>Gearing_Type</th>\n",
              "      <td>Automatic</td>\n",
              "      <td>Automatic</td>\n",
              "      <td>Automatic</td>\n",
              "      <td>Automatic</td>\n",
              "      <td>Automatic</td>\n",
              "    </tr>\n",
              "    <tr>\n",
              "      <th>Displacement_cc</th>\n",
              "      <td>1422.00</td>\n",
              "      <td>1798.00</td>\n",
              "      <td>1598.00</td>\n",
              "      <td>1422.00</td>\n",
              "      <td>1422.00</td>\n",
              "    </tr>\n",
              "    <tr>\n",
              "      <th>Weight_kg</th>\n",
              "      <td>1220.00</td>\n",
              "      <td>1255.00</td>\n",
              "      <td>NaN</td>\n",
              "      <td>1195.00</td>\n",
              "      <td>NaN</td>\n",
              "    </tr>\n",
              "    <tr>\n",
              "      <th>Drive_chain</th>\n",
              "      <td>front</td>\n",
              "      <td>front</td>\n",
              "      <td>front</td>\n",
              "      <td>NaN</td>\n",
              "      <td>front</td>\n",
              "    </tr>\n",
              "    <tr>\n",
              "      <th>fuel_new</th>\n",
              "      <td>Benzine</td>\n",
              "      <td>Benzine</td>\n",
              "      <td>Benzine</td>\n",
              "      <td>Benzine</td>\n",
              "      <td>Benzine</td>\n",
              "    </tr>\n",
              "    <tr>\n",
              "      <th>cons_comb</th>\n",
              "      <td>3.80</td>\n",
              "      <td>5.60</td>\n",
              "      <td>3.80</td>\n",
              "      <td>3.80</td>\n",
              "      <td>4.10</td>\n",
              "    </tr>\n",
              "    <tr>\n",
              "      <th>cons_city</th>\n",
              "      <td>4.30</td>\n",
              "      <td>7.10</td>\n",
              "      <td>4.40</td>\n",
              "      <td>4.30</td>\n",
              "      <td>4.60</td>\n",
              "    </tr>\n",
              "    <tr>\n",
              "      <th>cons_country</th>\n",
              "      <td>3.50</td>\n",
              "      <td>4.70</td>\n",
              "      <td>3.40</td>\n",
              "      <td>3.50</td>\n",
              "      <td>3.80</td>\n",
              "    </tr>\n",
              "    <tr>\n",
              "      <th>CO2_Emission</th>\n",
              "      <td>99.00</td>\n",
              "      <td>129.00</td>\n",
              "      <td>99.00</td>\n",
              "      <td>99.00</td>\n",
              "      <td>109.00</td>\n",
              "    </tr>\n",
              "    <tr>\n",
              "      <th>Emission_Class</th>\n",
              "      <td>Euro 6</td>\n",
              "      <td>Euro 6</td>\n",
              "      <td>Euro 6</td>\n",
              "      <td>Euro 6</td>\n",
              "      <td>Euro 6</td>\n",
              "    </tr>\n",
              "  </tbody>\n",
              "</table>\n",
              "</div>\n",
              "      <button class=\"colab-df-convert\" onclick=\"convertToInteractive('df-1f3245a4-5507-437a-babe-e5cef5e5ac87')\"\n",
              "              title=\"Convert this dataframe to an interactive table.\"\n",
              "              style=\"display:none;\">\n",
              "        \n",
              "  <svg xmlns=\"http://www.w3.org/2000/svg\" height=\"24px\"viewBox=\"0 0 24 24\"\n",
              "       width=\"24px\">\n",
              "    <path d=\"M0 0h24v24H0V0z\" fill=\"none\"/>\n",
              "    <path d=\"M18.56 5.44l.94 2.06.94-2.06 2.06-.94-2.06-.94-.94-2.06-.94 2.06-2.06.94zm-11 1L8.5 8.5l.94-2.06 2.06-.94-2.06-.94L8.5 2.5l-.94 2.06-2.06.94zm10 10l.94 2.06.94-2.06 2.06-.94-2.06-.94-.94-2.06-.94 2.06-2.06.94z\"/><path d=\"M17.41 7.96l-1.37-1.37c-.4-.4-.92-.59-1.43-.59-.52 0-1.04.2-1.43.59L10.3 9.45l-7.72 7.72c-.78.78-.78 2.05 0 2.83L4 21.41c.39.39.9.59 1.41.59.51 0 1.02-.2 1.41-.59l7.78-7.78 2.81-2.81c.8-.78.8-2.07 0-2.86zM5.41 20L4 18.59l7.72-7.72 1.47 1.35L5.41 20z\"/>\n",
              "  </svg>\n",
              "      </button>\n",
              "      \n",
              "  <style>\n",
              "    .colab-df-container {\n",
              "      display:flex;\n",
              "      flex-wrap:wrap;\n",
              "      gap: 12px;\n",
              "    }\n",
              "\n",
              "    .colab-df-convert {\n",
              "      background-color: #E8F0FE;\n",
              "      border: none;\n",
              "      border-radius: 50%;\n",
              "      cursor: pointer;\n",
              "      display: none;\n",
              "      fill: #1967D2;\n",
              "      height: 32px;\n",
              "      padding: 0 0 0 0;\n",
              "      width: 32px;\n",
              "    }\n",
              "\n",
              "    .colab-df-convert:hover {\n",
              "      background-color: #E2EBFA;\n",
              "      box-shadow: 0px 1px 2px rgba(60, 64, 67, 0.3), 0px 1px 3px 1px rgba(60, 64, 67, 0.15);\n",
              "      fill: #174EA6;\n",
              "    }\n",
              "\n",
              "    [theme=dark] .colab-df-convert {\n",
              "      background-color: #3B4455;\n",
              "      fill: #D2E3FC;\n",
              "    }\n",
              "\n",
              "    [theme=dark] .colab-df-convert:hover {\n",
              "      background-color: #434B5C;\n",
              "      box-shadow: 0px 1px 3px 1px rgba(0, 0, 0, 0.15);\n",
              "      filter: drop-shadow(0px 1px 2px rgba(0, 0, 0, 0.3));\n",
              "      fill: #FFFFFF;\n",
              "    }\n",
              "  </style>\n",
              "\n",
              "      <script>\n",
              "        const buttonEl =\n",
              "          document.querySelector('#df-1f3245a4-5507-437a-babe-e5cef5e5ac87 button.colab-df-convert');\n",
              "        buttonEl.style.display =\n",
              "          google.colab.kernel.accessAllowed ? 'block' : 'none';\n",
              "\n",
              "        async function convertToInteractive(key) {\n",
              "          const element = document.querySelector('#df-1f3245a4-5507-437a-babe-e5cef5e5ac87');\n",
              "          const dataTable =\n",
              "            await google.colab.kernel.invokeFunction('convertToInteractive',\n",
              "                                                     [key], {});\n",
              "          if (!dataTable) return;\n",
              "\n",
              "          const docLinkHtml = 'Like what you see? Visit the ' +\n",
              "            '<a target=\"_blank\" href=https://colab.research.google.com/notebooks/data_table.ipynb>data table notebook</a>'\n",
              "            + ' to learn more about interactive tables.';\n",
              "          element.innerHTML = '';\n",
              "          dataTable['output_type'] = 'display_data';\n",
              "          await google.colab.output.renderOutput(dataTable, element);\n",
              "          const docLink = document.createElement('div');\n",
              "          docLink.innerHTML = docLinkHtml;\n",
              "          element.appendChild(docLink);\n",
              "        }\n",
              "      </script>\n",
              "    </div>\n",
              "  </div>\n",
              "  "
            ]
          },
          "metadata": {},
          "execution_count": 411
        }
      ]
    },
    {
      "cell_type": "code",
      "source": [
        "df.info()"
      ],
      "metadata": {
        "colab": {
          "base_uri": "https://localhost:8080/"
        },
        "id": "Xnn4O0jQk-MA",
        "outputId": "433360ef-abea-48e7-f147-8963a05c9014"
      },
      "execution_count": null,
      "outputs": [
        {
          "output_type": "stream",
          "name": "stdout",
          "text": [
            "<class 'pandas.core.frame.DataFrame'>\n",
            "RangeIndex: 15919 entries, 0 to 15918\n",
            "Data columns (total 33 columns):\n",
            " #   Column               Non-Null Count  Dtype  \n",
            "---  ------               --------------  -----  \n",
            " 0   make_model           15919 non-null  object \n",
            " 1   body_type            15859 non-null  object \n",
            " 2   price                15919 non-null  int64  \n",
            " 3   vat                  11406 non-null  object \n",
            " 4   km                   14895 non-null  float64\n",
            " 5   Type                 15917 non-null  object \n",
            " 6   Warranty             4853 non-null   float64\n",
            " 7   Cylinders            10239 non-null  float64\n",
            " 8   Fuel                 15919 non-null  object \n",
            " 9   Comfort_Convenience  14999 non-null  object \n",
            " 10  Entertainment_Media  14545 non-null  object \n",
            " 11  Extras               12957 non-null  object \n",
            " 12  Safety_Security      14937 non-null  object \n",
            " 13  Gears                11207 non-null  object \n",
            " 14  age                  14322 non-null  float64\n",
            " 15  Previous_Owners      9279 non-null   float64\n",
            " 16  hp_kW                15831 non-null  float64\n",
            " 17  Inspection_new       3932 non-null   object \n",
            " 18  Paint_Type           10147 non-null  object \n",
            " 19  Upholstery_type      11048 non-null  object \n",
            " 20  Upholstery_color     10841 non-null  object \n",
            " 21  Nr_of_Doors          15707 non-null  float64\n",
            " 22  Nr_of_Seats          14942 non-null  float64\n",
            " 23  Gearing_Type         15919 non-null  object \n",
            " 24  Displacement_cc      15423 non-null  float64\n",
            " 25  Weight_kg            8945 non-null   float64\n",
            " 26  Drive_chain          9061 non-null   object \n",
            " 27  fuel_new             15919 non-null  object \n",
            " 28  cons_comb            13886 non-null  float64\n",
            " 29  cons_city            13483 non-null  float64\n",
            " 30  cons_country         13543 non-null  float64\n",
            " 31  CO2_Emission         13483 non-null  float64\n",
            " 32  Emission_Class       12291 non-null  object \n",
            "dtypes: float64(14), int64(1), object(18)\n",
            "memory usage: 4.0+ MB\n"
          ]
        }
      ]
    },
    {
      "cell_type": "code",
      "source": [
        "df.to_csv(\"clean_scout.csv\", index=False)"
      ],
      "metadata": {
        "id": "vM9cGMy4ooRs"
      },
      "execution_count": null,
      "outputs": []
    },
    {
      "cell_type": "code",
      "execution_count": null,
      "metadata": {
        "id": "Is4HLjHWs1MF"
      },
      "outputs": [],
      "source": [
        ""
      ]
    }
  ],
  "metadata": {
    "colab": {
      "name": "DAwPy_Capstone_Project_(AutoScout)_PART- 1 ( Data Cleaning ).ipynb",
      "provenance": [],
      "collapsed_sections": [],
      "include_colab_link": true
    },
    "kernelspec": {
      "display_name": "Python 3",
      "language": "python",
      "name": "python3"
    },
    "language_info": {
      "codemirror_mode": {
        "name": "ipython",
        "version": 3
      },
      "file_extension": ".py",
      "mimetype": "text/x-python",
      "name": "python",
      "nbconvert_exporter": "python",
      "pygments_lexer": "ipython3",
      "version": "3.8.13"
    },
    "toc": {
      "base_numbering": 1,
      "nav_menu": {},
      "number_sections": false,
      "sideBar": true,
      "skip_h1_title": false,
      "title_cell": "Table of Contents",
      "title_sidebar": "Contents",
      "toc_cell": false,
      "toc_position": {},
      "toc_section_display": true,
      "toc_window_display": false
    }
  },
  "nbformat": 4,
  "nbformat_minor": 0
}